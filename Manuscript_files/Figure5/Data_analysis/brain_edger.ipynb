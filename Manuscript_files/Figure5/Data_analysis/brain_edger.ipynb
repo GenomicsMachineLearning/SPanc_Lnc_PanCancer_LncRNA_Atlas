{
 "cells": [
  {
   "cell_type": "code",
   "execution_count": 1,
   "id": "5714c0da-40a5-4f34-a3df-71a510731491",
   "metadata": {},
   "outputs": [
    {
     "name": "stderr",
     "output_type": "stream",
     "text": [
      "Loading required package: limma\n",
      "\n",
      "Warning message:\n",
      "“package ‘Seurat’ was built under R version 4.4.1”\n",
      "Loading required package: SeuratObject\n",
      "\n",
      "Warning message:\n",
      "“package ‘SeuratObject’ was built under R version 4.4.1”\n",
      "Loading required package: sp\n",
      "\n",
      "Warning message:\n",
      "“package ‘sp’ was built under R version 4.4.1”\n",
      "‘SeuratObject’ was built with package ‘Matrix’ 1.6.5 but the current\n",
      "version is 1.7.1; it is recomended that you reinstall ‘SeuratObject’ as\n",
      "the ABI for ‘Matrix’ may have changed\n",
      "\n",
      "\n",
      "Attaching package: ‘SeuratObject’\n",
      "\n",
      "\n",
      "The following objects are masked from ‘package:base’:\n",
      "\n",
      "    intersect, t\n",
      "\n",
      "\n",
      "Warning message:\n",
      "“package ‘dplyr’ was built under R version 4.4.1”\n",
      "\n",
      "Attaching package: ‘dplyr’\n",
      "\n",
      "\n",
      "The following objects are masked from ‘package:stats’:\n",
      "\n",
      "    filter, lag\n",
      "\n",
      "\n",
      "The following objects are masked from ‘package:base’:\n",
      "\n",
      "    intersect, setdiff, setequal, union\n",
      "\n",
      "\n"
     ]
    }
   ],
   "source": [
    "library(edgeR)\n",
    "library(Seurat)\n",
    "library(dplyr)\n",
    "\n",
    "decideTests.DGEExact <- decideTests.DGELRT <- function(object,adjust.method=\"BH\",p.value=0.05,lfc=0,...)\n",
    "{\n",
    "\tdecideTestsDGE(object=object,adjust.method=adjust.method,p.value=p.value,lfc=lfc)\n",
    "}\n",
    "\n",
    "decideTestsDGE <- function(object,adjust.method=\"BH\",p.value=0.05,lfc=0)\n",
    "#\tAccept or reject hypothesis tests across genes and contrasts\n",
    "#\tedgeR team. Original author was Davis McCarthy.\n",
    "#\tCreated 15 August 2010. Last modified 15 July 2018.\n",
    "{\n",
    "#\tCheck object class\n",
    "\tif( !(is(object,\"DGEExact\") || is(object,\"DGELRT\")) ) stop(\"Need DGEExact or DGELRT object\")\n",
    "\n",
    "#\tApply multiple testing\n",
    "\tp <- object$table$PValue\n",
    "\tp <- p.adjust(p, method=adjust.method)\n",
    "\tisDE <- as.integer(p < p.value)\n",
    "\n",
    "#\tExtract logFC\n",
    "\tlogFC <- object$table$logFC\n",
    "\n",
    "#\tCheck for F-test with multiple logFC columns\n",
    "\tFTest <- is.null(logFC)\n",
    "\n",
    "#\tWith multiple contrasts, apply lfc threshold to maximum logFC\n",
    "\tif(FTest) {\n",
    "\t\tif(lfc>0) {\n",
    "\t\t\tcoef.col <- grep(\"^logFC\",colnames(object$table))\n",
    "\t\t\tlogFC <- object$table[,coef.col]\n",
    "\t\t\tSmallFC <- rowSums(abs(logFC) >= lfc) == 0\n",
    "\t\t\tisDE[SmallFC] <- 0L\n",
    "\t\t}\n",
    "\n",
    "#\tWith single contrast, apply directionality and lfc threshold\n",
    "\t} else {\n",
    "\t\tisDE[isDE & logFC<0] <- -1L\n",
    "\t\tSmallFC <- (abs(logFC) < lfc)\n",
    "\t\tisDE[SmallFC] <- 0L\n",
    "\t}\n",
    "\n",
    "#\tAssemble TestResults object\n",
    "\tisDE <- matrix(isDE, ncol=1)\n",
    "\trow.names(isDE) <- row.names(object)\n",
    "\tcolnames(isDE) <- paste(rev(object$comparison),collapse=\"-\")\n",
    "\n",
    "#\tRecord possible values\n",
    "\tif(FTest) {\n",
    "\t\tattr(isDE,\"levels\") <- c(0L,1L)\n",
    "\t\tattr(isDE,\"labels\") <- c(\"NotSig\",\"Sig\")\n",
    "\t} else {\n",
    "\t\tattr(isDE,\"levels\") <- c(-1L,0L,1L)\n",
    "\t\tattr(isDE,\"labels\") <- c(\"Down\",\"NotSig\",\"Up\")\n",
    "\t}\t\t\n",
    "\n",
    "\tnew(\"TestResults\", isDE)\n",
    "}"
   ]
  },
  {
   "cell_type": "code",
   "execution_count": null,
   "id": "887367a6-7453-4dcd-b3ef-de31928f2657",
   "metadata": {},
   "outputs": [],
   "source": [
    "A #control\n",
    "B #control\n",
    "C #drug\n",
    "D #drug"
   ]
  },
  {
   "cell_type": "code",
   "execution_count": 2,
   "id": "112106e9-6eba-4d9c-99ee-de5d7783f91d",
   "metadata": {},
   "outputs": [],
   "source": [
    "setwd(\"Fig6/\")"
   ]
  },
  {
   "cell_type": "code",
   "execution_count": null,
   "id": "3b804893-5819-4195-87e4-f62fcbff1920",
   "metadata": {},
   "outputs": [],
   "source": []
  },
  {
   "cell_type": "markdown",
   "id": "eaefeb7d-4996-4f0d-b2d5-2b4a08ca891f",
   "metadata": {},
   "source": [
    "# new"
   ]
  },
  {
   "cell_type": "code",
   "execution_count": null,
   "id": "9f51ed51-b71b-4be9-a035-8c526575fb26",
   "metadata": {},
   "outputs": [],
   "source": [
    "# File paths\n",
    "files <- c(\"/QRISdata/Q4386/polyA_FreshFrozen/brain_tuan/renamed/A_uTARs_final_mat.txt\",\n",
    "           \"/QRISdata/Q4386/polyA_FreshFrozen/brain_tuan/renamed/B_uTARs_final_mat.txt\",\n",
    "           \"/QRISdata/Q4386/polyA_FreshFrozen/brain_tuan/renamed/C_uTARs_final_mat.txt\", \n",
    "           \"/QRISdata/Q4386/polyA_FreshFrozen/brain_tuan/renamed/D_uTARs_final_mat.txt\")\n",
    "suffixes <- c(\"_A\", \"_B\", \"_C\", \"_D\")\n",
    "\n",
    "# Read files and rename columns\n",
    "count_list <- lapply(seq_along(files), function(i) {\n",
    "  df <- read.table(files[i], header = TRUE, row.names = 1, sep = \"\\t\", check.names = FALSE)\n",
    "  colnames(df) <- paste0(colnames(df), suffixes[i])\n",
    "  return(df)\n",
    "})\n",
    "\n",
    "# (Optional) Combine into one big matrix if all genes are the same\n",
    "combined_counts <- do.call(cbind, count_list)\n"
   ]
  },
  {
   "cell_type": "code",
   "execution_count": 68,
   "id": "afef7a8f-080a-4052-bf27-2a79bd3d2277",
   "metadata": {},
   "outputs": [],
   "source": []
  },
  {
   "cell_type": "code",
   "execution_count": 71,
   "id": "348de845-cb16-49d3-840d-f16141f3941e",
   "metadata": {},
   "outputs": [],
   "source": [
    "A <- read.table(\"/QRISdata/Q4386/polyA_FreshFrozen/brain_tuan/renamed/A_uTARs_final_mat.txt\", header = TRUE, row.names = 1, sep = \"\\t\", check.names = FALSE)\n",
    "colnames(A) <- paste0(colnames(A), \"_A\")\n",
    "\n",
    "B <- read.table(\"/QRISdata/Q4386/polyA_FreshFrozen/brain_tuan/renamed/B_uTARs_final_mat.txt\", header = TRUE, row.names = 1, sep = \"\\t\", check.names = FALSE)\n",
    "colnames(B) <- paste0(colnames(B), \"_B\")\n",
    "\n",
    "C <- read.table(\"/QRISdata/Q4386/polyA_FreshFrozen/brain_tuan/renamed/C_uTARs_final_mat.txt\", header = TRUE, row.names = 1, sep = \"\\t\", check.names = FALSE)\n",
    "colnames(C) <- paste0(colnames(C), \"_C\")\n",
    "\n",
    "D <- read.table(\"/QRISdata/Q4386/polyA_FreshFrozen/brain_tuan/renamed/D_uTARs_final_mat.txt\", header = TRUE, row.names = 1, sep = \"\\t\", check.names = FALSE)\n",
    "colnames(D) <- paste0(colnames(D), \"_D\")\n"
   ]
  },
  {
   "cell_type": "code",
   "execution_count": 72,
   "id": "882c9bb1-f4e6-46e5-94b6-90395add23fe",
   "metadata": {},
   "outputs": [
    {
     "data": {
      "text/html": [
       "<style>\n",
       ".list-inline {list-style: none; margin:0; padding: 0}\n",
       ".list-inline>li {display: inline-block}\n",
       ".list-inline>li:not(:last-child)::after {content: \"\\00b7\"; padding: 0 .5ex}\n",
       "</style>\n",
       "<ol class=list-inline><li>7339</li><li>4134</li></ol>\n"
      ],
      "text/latex": [
       "\\begin{enumerate*}\n",
       "\\item 7339\n",
       "\\item 4134\n",
       "\\end{enumerate*}\n"
      ],
      "text/markdown": [
       "1. 7339\n",
       "2. 4134\n",
       "\n",
       "\n"
      ],
      "text/plain": [
       "[1] 7339 4134"
      ]
     },
     "metadata": {},
     "output_type": "display_data"
    },
    {
     "data": {
      "text/html": [
       "<style>\n",
       ".list-inline {list-style: none; margin:0; padding: 0}\n",
       ".list-inline>li {display: inline-block}\n",
       ".list-inline>li:not(:last-child)::after {content: \"\\00b7\"; padding: 0 .5ex}\n",
       "</style>\n",
       "<ol class=list-inline><li>6383</li><li>3504</li></ol>\n"
      ],
      "text/latex": [
       "\\begin{enumerate*}\n",
       "\\item 6383\n",
       "\\item 3504\n",
       "\\end{enumerate*}\n"
      ],
      "text/markdown": [
       "1. 6383\n",
       "2. 3504\n",
       "\n",
       "\n"
      ],
      "text/plain": [
       "[1] 6383 3504"
      ]
     },
     "metadata": {},
     "output_type": "display_data"
    }
   ],
   "source": [
    "dim(A)\n",
    "dim(B)"
   ]
  },
  {
   "cell_type": "code",
   "execution_count": 81,
   "id": "99e8a3cb-aa16-449d-83b5-3849545735d7",
   "metadata": {},
   "outputs": [],
   "source": [
    "# Find common rownames across all four data frames\n",
    "common_rows <- Reduce(intersect, list(rownames(A), rownames(B), rownames(C), rownames(D)))\n",
    "\n",
    "# Subset each data frame to only include the common rows\n",
    "A_sub <- A[common_rows, , drop = FALSE]\n",
    "B_sub <- B[common_rows, , drop = FALSE]\n",
    "C_sub <- C[common_rows, , drop = FALSE]\n",
    "D_sub <- D[common_rows, , drop = FALSE]\n",
    "\n",
    "# Merge the subsetted data frames by row names (they're already aligned)\n",
    "merged_df_common <- cbind(A_sub, B_sub, C_sub, D_sub)\n"
   ]
  },
  {
   "cell_type": "code",
   "execution_count": 82,
   "id": "ea160424-f3bf-4ff5-948c-d4ad5e392516",
   "metadata": {},
   "outputs": [],
   "source": [
    "# Get the union of all rownames\n",
    "all_rows <- Reduce(union, list(rownames(A), rownames(B), rownames(C), rownames(D)))\n",
    "\n",
    "# Function to pad a data frame with missing rows filled with 0\n",
    "pad_df <- function(df, all_rows) {\n",
    "  missing <- setdiff(all_rows, rownames(df))\n",
    "  if (length(missing) > 0) {\n",
    "    pad <- matrix(0, nrow = length(missing), ncol = ncol(df))\n",
    "    rownames(pad) <- missing\n",
    "    colnames(pad) <- colnames(df)\n",
    "    df <- rbind(df, pad)\n",
    "  }\n",
    "  # Reorder to match all_rows\n",
    "  df[all_rows, , drop = FALSE]\n",
    "}\n",
    "\n",
    "# Pad all data frames\n",
    "A_pad <- pad_df(A, all_rows)\n",
    "B_pad <- pad_df(B, all_rows)\n",
    "C_pad <- pad_df(C, all_rows)\n",
    "D_pad <- pad_df(D, all_rows)\n",
    "\n",
    "# Merge\n",
    "merged_df <- cbind(A_pad, B_pad, C_pad, D_pad)\n"
   ]
  },
  {
   "cell_type": "code",
   "execution_count": 83,
   "id": "5d637d8b-cab6-46ec-8afe-9354f7ab318d",
   "metadata": {},
   "outputs": [
    {
     "data": {
      "text/html": [
       "3436"
      ],
      "text/latex": [
       "3436"
      ],
      "text/markdown": [
       "3436"
      ],
      "text/plain": [
       "[1] 3436"
      ]
     },
     "metadata": {},
     "output_type": "display_data"
    }
   ],
   "source": [
    "grep(\"cuTAR290541\",rownames(merged_df))"
   ]
  },
  {
   "cell_type": "code",
   "execution_count": 84,
   "id": "cb40834b-c5ce-48e3-a910-92463ce4c360",
   "metadata": {},
   "outputs": [
    {
     "name": "stderr",
     "output_type": "stream",
     "text": [
      "Warning message:\n",
      "“Data is of class data.frame. Coercing to dgCMatrix.”\n"
     ]
    },
    {
     "data": {
      "text/plain": [
       "An object of class Seurat \n",
       "15237 features across 14982 samples within 1 assay \n",
       "Active assay: RNA (15237 features, 0 variable features)\n",
       " 1 layer present: counts"
      ]
     },
     "metadata": {},
     "output_type": "display_data"
    }
   ],
   "source": [
    "so<-CreateSeuratObject(merged_df)\n",
    "so"
   ]
  },
  {
   "cell_type": "markdown",
   "id": "8b2aaeec-5379-4551-9adc-3549f399c82e",
   "metadata": {},
   "source": [
    "# old"
   ]
  },
  {
   "cell_type": "code",
   "execution_count": 3,
   "id": "42f20586-d145-432d-8f1a-57876d8c3254",
   "metadata": {},
   "outputs": [
    {
     "data": {
      "text/html": [
       "<table class=\"dataframe\">\n",
       "<caption>A data.frame: 10 × 7</caption>\n",
       "<thead>\n",
       "\t<tr><th></th><th scope=col>orig.ident</th><th scope=col>nCount_RNA</th><th scope=col>nFeature_RNA</th><th scope=col>sample</th><th scope=col>condition</th><th scope=col>drug</th><th scope=col>cluster</th></tr>\n",
       "\t<tr><th></th><th scope=col>&lt;fct&gt;</th><th scope=col>&lt;dbl&gt;</th><th scope=col>&lt;int&gt;</th><th scope=col>&lt;chr&gt;</th><th scope=col>&lt;chr&gt;</th><th scope=col>&lt;chr&gt;</th><th scope=col>&lt;int&gt;</th></tr>\n",
       "</thead>\n",
       "<tbody>\n",
       "\t<tr><th scope=row>AAACAGAGCGACTCCT.1_A</th><td>Brain_PDOX</td><td>60</td><td>54</td><td>A</td><td>NoDrug_Tumor</td><td>NoDrug</td><td>1</td></tr>\n",
       "\t<tr><th scope=row>AAACAGGGTCTATATT.1_A</th><td>Brain_PDOX</td><td>13</td><td>13</td><td>A</td><td>NoDrug_Tumor</td><td>NoDrug</td><td>2</td></tr>\n",
       "\t<tr><th scope=row>AAACCCGAACGAAATC.1_A</th><td>Brain_PDOX</td><td>15</td><td>14</td><td>A</td><td>NoDrug_Tumor</td><td>NoDrug</td><td>1</td></tr>\n",
       "\t<tr><th scope=row>AAACCGGGTAGGTACC.1_A</th><td>Brain_PDOX</td><td>29</td><td>26</td><td>A</td><td>NoDrug_Tumor</td><td>NoDrug</td><td>1</td></tr>\n",
       "\t<tr><th scope=row>AAACCTCATGAAGTTG.1_A</th><td>Brain_PDOX</td><td>17</td><td>16</td><td>A</td><td>NoDrug_Tumor</td><td>NoDrug</td><td>2</td></tr>\n",
       "\t<tr><th scope=row>AAACGAGACGGTTGAT.1_A</th><td>Brain_PDOX</td><td>26</td><td>24</td><td>A</td><td>NoDrug_Tumor</td><td>NoDrug</td><td>1</td></tr>\n",
       "\t<tr><th scope=row>AAACGTGTTCGCCCTA.1_A</th><td>Brain_PDOX</td><td>31</td><td>29</td><td>A</td><td>NoDrug_Tumor</td><td>NoDrug</td><td>1</td></tr>\n",
       "\t<tr><th scope=row>AAACTCGTGATATAAG.1_A</th><td>Brain_PDOX</td><td>31</td><td>29</td><td>A</td><td>NoDrug_Tumor</td><td>NoDrug</td><td>1</td></tr>\n",
       "\t<tr><th scope=row>AAACTGCTGGCTCCAA.1_A</th><td>Brain_PDOX</td><td>26</td><td>24</td><td>A</td><td>NoDrug_Tumor</td><td>NoDrug</td><td>2</td></tr>\n",
       "\t<tr><th scope=row>AAACTTGCAAACGTAT.1_A</th><td>Brain_PDOX</td><td>43</td><td>43</td><td>A</td><td>NoDrug_Tumor</td><td>NoDrug</td><td>2</td></tr>\n",
       "</tbody>\n",
       "</table>\n"
      ],
      "text/latex": [
       "A data.frame: 10 × 7\n",
       "\\begin{tabular}{r|lllllll}\n",
       "  & orig.ident & nCount\\_RNA & nFeature\\_RNA & sample & condition & drug & cluster\\\\\n",
       "  & <fct> & <dbl> & <int> & <chr> & <chr> & <chr> & <int>\\\\\n",
       "\\hline\n",
       "\tAAACAGAGCGACTCCT.1\\_A & Brain\\_PDOX & 60 & 54 & A & NoDrug\\_Tumor & NoDrug & 1\\\\\n",
       "\tAAACAGGGTCTATATT.1\\_A & Brain\\_PDOX & 13 & 13 & A & NoDrug\\_Tumor & NoDrug & 2\\\\\n",
       "\tAAACCCGAACGAAATC.1\\_A & Brain\\_PDOX & 15 & 14 & A & NoDrug\\_Tumor & NoDrug & 1\\\\\n",
       "\tAAACCGGGTAGGTACC.1\\_A & Brain\\_PDOX & 29 & 26 & A & NoDrug\\_Tumor & NoDrug & 1\\\\\n",
       "\tAAACCTCATGAAGTTG.1\\_A & Brain\\_PDOX & 17 & 16 & A & NoDrug\\_Tumor & NoDrug & 2\\\\\n",
       "\tAAACGAGACGGTTGAT.1\\_A & Brain\\_PDOX & 26 & 24 & A & NoDrug\\_Tumor & NoDrug & 1\\\\\n",
       "\tAAACGTGTTCGCCCTA.1\\_A & Brain\\_PDOX & 31 & 29 & A & NoDrug\\_Tumor & NoDrug & 1\\\\\n",
       "\tAAACTCGTGATATAAG.1\\_A & Brain\\_PDOX & 31 & 29 & A & NoDrug\\_Tumor & NoDrug & 1\\\\\n",
       "\tAAACTGCTGGCTCCAA.1\\_A & Brain\\_PDOX & 26 & 24 & A & NoDrug\\_Tumor & NoDrug & 2\\\\\n",
       "\tAAACTTGCAAACGTAT.1\\_A & Brain\\_PDOX & 43 & 43 & A & NoDrug\\_Tumor & NoDrug & 2\\\\\n",
       "\\end{tabular}\n"
      ],
      "text/markdown": [
       "\n",
       "A data.frame: 10 × 7\n",
       "\n",
       "| <!--/--> | orig.ident &lt;fct&gt; | nCount_RNA &lt;dbl&gt; | nFeature_RNA &lt;int&gt; | sample &lt;chr&gt; | condition &lt;chr&gt; | drug &lt;chr&gt; | cluster &lt;int&gt; |\n",
       "|---|---|---|---|---|---|---|---|\n",
       "| AAACAGAGCGACTCCT.1_A | Brain_PDOX | 60 | 54 | A | NoDrug_Tumor | NoDrug | 1 |\n",
       "| AAACAGGGTCTATATT.1_A | Brain_PDOX | 13 | 13 | A | NoDrug_Tumor | NoDrug | 2 |\n",
       "| AAACCCGAACGAAATC.1_A | Brain_PDOX | 15 | 14 | A | NoDrug_Tumor | NoDrug | 1 |\n",
       "| AAACCGGGTAGGTACC.1_A | Brain_PDOX | 29 | 26 | A | NoDrug_Tumor | NoDrug | 1 |\n",
       "| AAACCTCATGAAGTTG.1_A | Brain_PDOX | 17 | 16 | A | NoDrug_Tumor | NoDrug | 2 |\n",
       "| AAACGAGACGGTTGAT.1_A | Brain_PDOX | 26 | 24 | A | NoDrug_Tumor | NoDrug | 1 |\n",
       "| AAACGTGTTCGCCCTA.1_A | Brain_PDOX | 31 | 29 | A | NoDrug_Tumor | NoDrug | 1 |\n",
       "| AAACTCGTGATATAAG.1_A | Brain_PDOX | 31 | 29 | A | NoDrug_Tumor | NoDrug | 1 |\n",
       "| AAACTGCTGGCTCCAA.1_A | Brain_PDOX | 26 | 24 | A | NoDrug_Tumor | NoDrug | 2 |\n",
       "| AAACTTGCAAACGTAT.1_A | Brain_PDOX | 43 | 43 | A | NoDrug_Tumor | NoDrug | 2 |\n",
       "\n"
      ],
      "text/plain": [
       "                     orig.ident nCount_RNA nFeature_RNA sample condition   \n",
       "AAACAGAGCGACTCCT.1_A Brain_PDOX 60         54           A      NoDrug_Tumor\n",
       "AAACAGGGTCTATATT.1_A Brain_PDOX 13         13           A      NoDrug_Tumor\n",
       "AAACCCGAACGAAATC.1_A Brain_PDOX 15         14           A      NoDrug_Tumor\n",
       "AAACCGGGTAGGTACC.1_A Brain_PDOX 29         26           A      NoDrug_Tumor\n",
       "AAACCTCATGAAGTTG.1_A Brain_PDOX 17         16           A      NoDrug_Tumor\n",
       "AAACGAGACGGTTGAT.1_A Brain_PDOX 26         24           A      NoDrug_Tumor\n",
       "AAACGTGTTCGCCCTA.1_A Brain_PDOX 31         29           A      NoDrug_Tumor\n",
       "AAACTCGTGATATAAG.1_A Brain_PDOX 31         29           A      NoDrug_Tumor\n",
       "AAACTGCTGGCTCCAA.1_A Brain_PDOX 26         24           A      NoDrug_Tumor\n",
       "AAACTTGCAAACGTAT.1_A Brain_PDOX 43         43           A      NoDrug_Tumor\n",
       "                     drug   cluster\n",
       "AAACAGAGCGACTCCT.1_A NoDrug 1      \n",
       "AAACAGGGTCTATATT.1_A NoDrug 2      \n",
       "AAACCCGAACGAAATC.1_A NoDrug 1      \n",
       "AAACCGGGTAGGTACC.1_A NoDrug 1      \n",
       "AAACCTCATGAAGTTG.1_A NoDrug 2      \n",
       "AAACGAGACGGTTGAT.1_A NoDrug 1      \n",
       "AAACGTGTTCGCCCTA.1_A NoDrug 1      \n",
       "AAACTCGTGATATAAG.1_A NoDrug 1      \n",
       "AAACTGCTGGCTCCAA.1_A NoDrug 2      \n",
       "AAACTTGCAAACGTAT.1_A NoDrug 2      "
      ]
     },
     "metadata": {},
     "output_type": "display_data"
    }
   ],
   "source": [
    "so_old<-readRDS(\"raw_combined_seurat.rds\")\n",
    "so_old <- subset(so_old, subset = condition %in% c(\"NoDrug_Tumor\", \"Drug_Tumor\"))\n",
    "\n",
    "set.seed(123)  # for reproducibility\n",
    "\n",
    "# Create a new 'cluster' column\n",
    "so_old$cluster <- NA\n",
    "\n",
    "# Loop through each sample and assign random clusters\n",
    "samples <- unique(so_old$sample)\n",
    "for (s in samples) {\n",
    "  cell_ids <- WhichCells(so_old, expression = sample == s)\n",
    "  so_old$cluster[cell_ids] <- sample(1:2, length(cell_ids), replace = TRUE)\n",
    "}\n",
    "\n",
    "\n",
    "head(so_old)"
   ]
  },
  {
   "cell_type": "code",
   "execution_count": 4,
   "id": "0e344c8c-1501-42f6-b671-1a816bfa1db2",
   "metadata": {},
   "outputs": [
    {
     "data": {
      "text/html": [
       "<table class=\"dataframe\">\n",
       "<caption>A grouped_df: 4 × 3</caption>\n",
       "<thead>\n",
       "\t<tr><th scope=col>condition</th><th scope=col>cluster</th><th scope=col>n</th></tr>\n",
       "\t<tr><th scope=col>&lt;chr&gt;</th><th scope=col>&lt;int&gt;</th><th scope=col>&lt;int&gt;</th></tr>\n",
       "</thead>\n",
       "<tbody>\n",
       "\t<tr><td>Drug_Tumor  </td><td>1</td><td>1018</td></tr>\n",
       "\t<tr><td>Drug_Tumor  </td><td>2</td><td>1025</td></tr>\n",
       "\t<tr><td>NoDrug_Tumor</td><td>1</td><td>2078</td></tr>\n",
       "\t<tr><td>NoDrug_Tumor</td><td>2</td><td>2107</td></tr>\n",
       "</tbody>\n",
       "</table>\n"
      ],
      "text/latex": [
       "A grouped\\_df: 4 × 3\n",
       "\\begin{tabular}{lll}\n",
       " condition & cluster & n\\\\\n",
       " <chr> & <int> & <int>\\\\\n",
       "\\hline\n",
       "\t Drug\\_Tumor   & 1 & 1018\\\\\n",
       "\t Drug\\_Tumor   & 2 & 1025\\\\\n",
       "\t NoDrug\\_Tumor & 1 & 2078\\\\\n",
       "\t NoDrug\\_Tumor & 2 & 2107\\\\\n",
       "\\end{tabular}\n"
      ],
      "text/markdown": [
       "\n",
       "A grouped_df: 4 × 3\n",
       "\n",
       "| condition &lt;chr&gt; | cluster &lt;int&gt; | n &lt;int&gt; |\n",
       "|---|---|---|\n",
       "| Drug_Tumor   | 1 | 1018 |\n",
       "| Drug_Tumor   | 2 | 1025 |\n",
       "| NoDrug_Tumor | 1 | 2078 |\n",
       "| NoDrug_Tumor | 2 | 2107 |\n",
       "\n"
      ],
      "text/plain": [
       "  condition    cluster n   \n",
       "1 Drug_Tumor   1       1018\n",
       "2 Drug_Tumor   2       1025\n",
       "3 NoDrug_Tumor 1       2078\n",
       "4 NoDrug_Tumor 2       2107"
      ]
     },
     "metadata": {},
     "output_type": "display_data"
    }
   ],
   "source": [
    "so_old@meta.data %>% group_by(condition, cluster) %>% tally()"
   ]
  },
  {
   "cell_type": "code",
   "execution_count": 179,
   "id": "9922c786-5cf3-4c7a-8f2a-35a5f0796e7c",
   "metadata": {},
   "outputs": [
    {
     "data": {
      "text/plain": [
       "   Min. 1st Qu.  Median    Mean 3rd Qu.    Max. \n",
       "  19489   19835   35002   34936   50103   50248 "
      ]
     },
     "metadata": {},
     "output_type": "display_data"
    },
    {
     "data": {
      "text/html": [
       "<strong>pdf:</strong> 2"
      ],
      "text/latex": [
       "\\textbf{pdf:} 2"
      ],
      "text/markdown": [
       "**pdf:** 2"
      ],
      "text/plain": [
       "pdf \n",
       "  2 "
      ]
     },
     "metadata": {},
     "output_type": "display_data"
    },
    {
     "data": {
      "text/html": [
       "0.00218827561262428"
      ],
      "text/latex": [
       "0.00218827561262428"
      ],
      "text/markdown": [
       "0.00218827561262428"
      ],
      "text/plain": [
       "[1] 0.002188276"
      ]
     },
     "metadata": {},
     "output_type": "display_data"
    },
    {
     "data": {
      "text/html": [
       "<strong>pdf:</strong> 2"
      ],
      "text/latex": [
       "\\textbf{pdf:} 2"
      ],
      "text/markdown": [
       "**pdf:** 2"
      ],
      "text/plain": [
       "pdf \n",
       "  2 "
      ]
     },
     "metadata": {},
     "output_type": "display_data"
    },
    {
     "data": {
      "text/html": [
       "<strong>pdf:</strong> 2"
      ],
      "text/latex": [
       "\\textbf{pdf:} 2"
      ],
      "text/markdown": [
       "**pdf:** 2"
      ],
      "text/plain": [
       "pdf \n",
       "  2 "
      ]
     },
     "metadata": {},
     "output_type": "display_data"
    },
    {
     "data": {
      "text/html": [
       "<table class=\"dataframe\">\n",
       "<caption>A matrix: 3 × 2 of type dbl</caption>\n",
       "<thead>\n",
       "\t<tr><th></th><th scope=col>Drug_Tumor</th><th scope=col>NoDrug_Tumor</th></tr>\n",
       "</thead>\n",
       "<tbody>\n",
       "\t<tr><th scope=row>Int</th><td> 0</td><td>0</td></tr>\n",
       "\t<tr><th scope=row>NoDrug_Tumor</th><td>-1</td><td>1</td></tr>\n",
       "\t<tr><th scope=row>2</th><td> 0</td><td>0</td></tr>\n",
       "</tbody>\n",
       "</table>\n"
      ],
      "text/latex": [
       "A matrix: 3 × 2 of type dbl\n",
       "\\begin{tabular}{r|ll}\n",
       "  & Drug\\_Tumor & NoDrug\\_Tumor\\\\\n",
       "\\hline\n",
       "\tInt &  0 & 0\\\\\n",
       "\tNoDrug\\_Tumor & -1 & 1\\\\\n",
       "\t2 &  0 & 0\\\\\n",
       "\\end{tabular}\n"
      ],
      "text/markdown": [
       "\n",
       "A matrix: 3 × 2 of type dbl\n",
       "\n",
       "| <!--/--> | Drug_Tumor | NoDrug_Tumor |\n",
       "|---|---|---|\n",
       "| Int |  0 | 0 |\n",
       "| NoDrug_Tumor | -1 | 1 |\n",
       "| 2 |  0 | 0 |\n",
       "\n"
      ],
      "text/plain": [
       "             Drug_Tumor NoDrug_Tumor\n",
       "Int           0         0           \n",
       "NoDrug_Tumor -1         1           \n",
       "2             0         0           "
      ]
     },
     "metadata": {},
     "output_type": "display_data"
    }
   ],
   "source": [
    "y<-Seurat2PB(so_old,sample=\"cluster\",cluster=\"condition\")\n",
    "summary(y$samples$lib.size)\n",
    "\n",
    "keep.samples<-y$samples$lib.size > 100 \n",
    "#table(keep.samples) \n",
    "\n",
    "y<-y[,keep.samples]\n",
    "#Keep only uTARs for DE analysis. Skip to calculate FC for gene-co-exp\n",
    "#uTARs <- rownames(y)[grep(\"^uTAR\", rownames(y))]\n",
    "#y<-y[uTARs,,keep=FALSE]\n",
    "\n",
    "#normalization\n",
    "y<-normLibSizes(y)\n",
    "\n",
    "#MDS plots\n",
    "cluster<-as.factor(y$samples$cluster) \n",
    "pdf(\"MDS_uTAR.pdf\")\n",
    "plotMDS(y,pch=16,col=c(2:8)[cluster],main=\"MDS\") \n",
    "legend(\"topleft\",legend=paste0(levels(cluster)), pch=14,col=2:8,cex=0.8)\n",
    "dev.off()\n",
    "\n",
    "#design matrix\n",
    "donor<-factor(y$sample$sample)\n",
    "design<-model.matrix(~cluster+donor)\n",
    "colnames(design)<-gsub(\"donor\",\"\",colnames(design))\n",
    "colnames(design)<-gsub(\"cluster\",\"\",colnames(design))\n",
    "colnames(design)[1]<-\"Int\"\n",
    "\n",
    "#dispersion estimates\n",
    "#Dispersion Estimation\n",
    "y<-estimateDisp(y,design,robust=TRUE)\n",
    "y$common.dispersion #0.14  #0.2852. #V3 0.05g\n",
    "pdf(\"dispersion.pdf\")\n",
    "plotBCV(y)\n",
    "dev.off()\n",
    "\n",
    "fit<-glmQLFit(y,design,robust=TRUE) \n",
    "pdf(\"QLdisp.pdf\")\n",
    "plotQLDisp(fit)\n",
    "dev.off()\n",
    "\n",
    "\n",
    "## Marker gene identification\n",
    "ncls<-nlevels(cluster) \n",
    "contr<-rbind(matrix(1/(1-ncls),ncls,ncls), +matrix(0,ncol(design)-ncls,ncls)) \n",
    "diag(contr)<-1 \n",
    "contr[1,]<-0 \n",
    "rownames(contr)<-colnames(design) \n",
    "colnames(contr)<-levels(cluster)\n",
    "contr\n",
    "\n",
    "# Qasi-likelihood f-test for each comprison\n",
    "qlf<-list() \n",
    "for(i in 1:ncls){ \n",
    "  qlf[[i]]<-glmQLFTest(fit,contrast=contr[,i]) \n",
    "  qlf[[i]]$comparison<-paste0(levels(donor)[i],\"_vs_others\") \n",
    "}"
   ]
  },
  {
   "cell_type": "code",
   "execution_count": 134,
   "id": "890a4ec8-4d60-4903-a845-54c63451981a",
   "metadata": {
    "scrolled": true
   },
   "outputs": [
    {
     "name": "stdout",
     "output_type": "stream",
     "text": [
      "List of 2\n",
      " $ :Formal class 'DGELRT' [package \"edgeR\"] with 1 slot\n",
      "  .. ..@ .Data:List of 26\n",
      "  .. .. ..$ : num [1:15237, 1:3] -12.51 -13.6 -11.65 -7.48 -12.26 ...\n",
      "  .. .. .. ..- attr(*, \"dimnames\")=List of 2\n",
      "  .. .. .. .. ..$ : chr [1:15237] \"cuTAR100000\" \"cuTAR10001\" \"cuTAR100102\" \"cuTAR100103\" ...\n",
      "  .. .. .. .. ..$ : chr [1:3] \"Int\" \"NoDrug_Tumor\" \"2\"\n",
      "  .. .. ..$ : num [1:15237, 1:4] 5.80e-08 2.81e-14 1.51e-07 1.28e+01 1.67e-07 ...\n",
      "  .. .. .. ..- attr(*, \"dimnames\")=List of 2\n",
      "  .. .. .. .. ..$ : chr [1:15237] \"cuTAR100000\" \"cuTAR10001\" \"cuTAR100102\" \"cuTAR100103\" ...\n",
      "  .. .. .. .. ..$ : chr [1:4] \"1_clusterDrug_Tumor\" \"1_clusterNoDrug_Tumor\" \"2_clusterDrug_Tumor\" \"2_clusterNoDrug_Tumor\"\n",
      "  .. .. ..$ : num [1:15237] 2.63e-07 5.61e-07 4.96e-07 3.17e-01 4.02e-07 ...\n",
      "  .. .. ..$ : int [1:15237] 16 15 16 4 15 4 4 4 0 3 ...\n",
      "  .. .. ..$ : logi [1:15237] FALSE FALSE FALSE FALSE FALSE FALSE ...\n",
      "  .. .. ..$ : chr \"levenberg\"\n",
      "  .. .. ..$ : num [1:15237, 1:3] -26.7 -41.24 -25.75 -7.49 -25.64 ...\n",
      "  .. .. .. ..- attr(*, \"dimnames\")=List of 2\n",
      "  .. .. .. .. ..$ : chr [1:15237] \"cuTAR100000\" \"cuTAR10001\" \"cuTAR100102\" \"cuTAR100103\" ...\n",
      "  .. .. .. .. ..$ : chr [1:3] \"Int\" \"NoDrug_Tumor\" \"2\"\n",
      "  .. .. ..$ : int [1:15237] 1 1 1 1 1 1 1 1 1 1 ...\n",
      "  .. .. ..$ : num [1:4, 1:3] 1 1 1 1 0 1 0 1 0 0 ...\n",
      "  .. .. .. ..- attr(*, \"dimnames\")=List of 2\n",
      "  .. .. .. .. ..$ : chr [1:4] \"1\" \"2\" \"3\" \"4\"\n",
      "  .. .. .. .. ..$ : chr [1:3] \"Int\" \"NoDrug_Tumor\" \"2\"\n",
      "  .. .. .. ..- attr(*, \"assign\")= int [1:3] 0 1 2\n",
      "  .. .. .. ..- attr(*, \"contrasts\")=List of 2\n",
      "  .. .. .. .. ..$ cluster: chr \"contr.treatment\"\n",
      "  .. .. .. .. ..$ donor  : chr \"contr.treatment\"\n",
      "  .. .. ..$ : 'CompressedMatrix' num [1:15237, 1:4] 10 10 10 10 10 ...\n",
      "  .. .. .. ..- attr(*, \"Dims\")= int [1:2] 15237 4\n",
      "  .. .. .. ..- attr(*, \"repeat.row\")= logi TRUE\n",
      "  .. .. .. ..- attr(*, \"repeat.col\")= logi FALSE\n",
      "  .. .. ..$ : num 0.01\n",
      "  .. .. ..$ : 'CompressedMatrix' num [1:15237, 1:4] 1 1 1 1 1 1 1 1 1 1 ...\n",
      "  .. .. .. ..- attr(*, \"Dims\")= int [1:2] 15237 4\n",
      "  .. .. .. ..- attr(*, \"repeat.row\")= logi TRUE\n",
      "  .. .. .. ..- attr(*, \"repeat.col\")= logi TRUE\n",
      "  .. .. ..$ : num 0.125\n",
      "  .. .. ..$ : num [1:15237] 1.77e-07 6.00e-14 5.00e-14 9.96e-01 2.57e-07 ...\n",
      "  .. .. ..$ : num [1:15237] 1.85e-08 0.00 0.00 3.12e-01 2.90e-08 ...\n",
      "  .. .. ..$ : num 1\n",
      "  .. .. ..$ : num [1:15237] 8135 8135 8135 8135 8135 ...\n",
      "  .. .. ..$ : num [1:15237] 2.359 4.435 4.43 0.988 2.362 ...\n",
      "  .. .. ..$ : num [1:15237] 2.359 4.435 4.43 0.988 2.362 ...\n",
      "  .. .. ..$ :'data.frame':\t4 obs. of  5 variables:\n",
      "  .. .. .. ..$ group       : Factor w/ 1 level \"1\": 1 1 1 1\n",
      "  .. .. .. ..$ lib.size    : num [1:4] 19950 50248 19489 50055\n",
      "  .. .. .. ..$ norm.factors: num [1:4] 1.146 0.9 1.132 0.856\n",
      "  .. .. .. ..$ sample      : chr [1:4] \"1\" \"1\" \"2\" \"2\"\n",
      "  .. .. .. ..$ cluster     : chr [1:4] \"Drug_Tumor\" \"NoDrug_Tumor\" \"Drug_Tumor\" \"NoDrug_Tumor\"\n",
      "  .. .. ..$ :'data.frame':\t15237 obs. of  1 variable:\n",
      "  .. .. .. ..$ gene: chr [1:15237] \"cuTAR100000\" \"cuTAR10001\" \"cuTAR100102\" \"cuTAR100103\" ...\n",
      "  .. .. ..$ : num [1:15237] 6.37 6.08 6.08 9.46 6.37 ...\n",
      "  .. .. ..$ :'data.frame':\t15237 obs. of  4 variables:\n",
      "  .. .. .. ..$ logFC : num [1:15237] -0.036 -2.015 2.78 -0.482 -3.327 ...\n",
      "  .. .. .. ..$ logCPM: num [1:15237] 6.37 6.08 6.08 9.46 6.37 ...\n",
      "  .. .. .. ..$ F     : num [1:15237] 0.000237 0.186754 0.485308 1.706024 1.039831 ...\n",
      "  .. .. .. ..$ PValue: num [1:15237] 0.988 0.666 0.486 0.192 0.308 ...\n",
      "  .. .. ..$ : chr \"1_vs_others\"\n",
      "  .. .. ..$ : int [1:15237] 1 1 1 1 1 1 1 1 1 1 ...\n",
      "  .. .. ..$ : num [1:15237] 8135 8135 8135 8136 8135 ...\n",
      "  .. ..$ names: chr [1:26] \"coefficients\" \"fitted.values\" \"deviance\" \"iter\" ...\n",
      " $ :Formal class 'DGELRT' [package \"edgeR\"] with 1 slot\n",
      "  .. ..@ .Data:List of 26\n",
      "  .. .. ..$ : num [1:15237, 1:3] -12.51 -13.6 -11.65 -7.48 -12.26 ...\n",
      "  .. .. .. ..- attr(*, \"dimnames\")=List of 2\n",
      "  .. .. .. .. ..$ : chr [1:15237] \"cuTAR100000\" \"cuTAR10001\" \"cuTAR100102\" \"cuTAR100103\" ...\n",
      "  .. .. .. .. ..$ : chr [1:3] \"Int\" \"NoDrug_Tumor\" \"2\"\n",
      "  .. .. ..$ : num [1:15237, 1:4] 5.80e-08 2.81e-14 1.51e-07 1.28e+01 1.67e-07 ...\n",
      "  .. .. .. ..- attr(*, \"dimnames\")=List of 2\n",
      "  .. .. .. .. ..$ : chr [1:15237] \"cuTAR100000\" \"cuTAR10001\" \"cuTAR100102\" \"cuTAR100103\" ...\n",
      "  .. .. .. .. ..$ : chr [1:4] \"1_clusterDrug_Tumor\" \"1_clusterNoDrug_Tumor\" \"2_clusterDrug_Tumor\" \"2_clusterNoDrug_Tumor\"\n",
      "  .. .. ..$ : num [1:15237] 2.63e-07 5.61e-07 4.96e-07 3.17e-01 4.02e-07 ...\n",
      "  .. .. ..$ : int [1:15237] 16 15 16 4 15 4 4 4 0 3 ...\n",
      "  .. .. ..$ : logi [1:15237] FALSE FALSE FALSE FALSE FALSE FALSE ...\n",
      "  .. .. ..$ : chr \"levenberg\"\n",
      "  .. .. ..$ : num [1:15237, 1:3] -26.7 -41.24 -25.75 -7.49 -25.64 ...\n",
      "  .. .. .. ..- attr(*, \"dimnames\")=List of 2\n",
      "  .. .. .. .. ..$ : chr [1:15237] \"cuTAR100000\" \"cuTAR10001\" \"cuTAR100102\" \"cuTAR100103\" ...\n",
      "  .. .. .. .. ..$ : chr [1:3] \"Int\" \"NoDrug_Tumor\" \"2\"\n",
      "  .. .. ..$ : int [1:15237] 1 1 1 1 1 1 1 1 1 1 ...\n",
      "  .. .. ..$ : num [1:4, 1:3] 1 1 1 1 0 1 0 1 0 0 ...\n",
      "  .. .. .. ..- attr(*, \"dimnames\")=List of 2\n",
      "  .. .. .. .. ..$ : chr [1:4] \"1\" \"2\" \"3\" \"4\"\n",
      "  .. .. .. .. ..$ : chr [1:3] \"Int\" \"NoDrug_Tumor\" \"2\"\n",
      "  .. .. .. ..- attr(*, \"assign\")= int [1:3] 0 1 2\n",
      "  .. .. .. ..- attr(*, \"contrasts\")=List of 2\n",
      "  .. .. .. .. ..$ cluster: chr \"contr.treatment\"\n",
      "  .. .. .. .. ..$ donor  : chr \"contr.treatment\"\n",
      "  .. .. ..$ : 'CompressedMatrix' num [1:15237, 1:4] 10 10 10 10 10 ...\n",
      "  .. .. .. ..- attr(*, \"Dims\")= int [1:2] 15237 4\n",
      "  .. .. .. ..- attr(*, \"repeat.row\")= logi TRUE\n",
      "  .. .. .. ..- attr(*, \"repeat.col\")= logi FALSE\n",
      "  .. .. ..$ : num 0.01\n",
      "  .. .. ..$ : 'CompressedMatrix' num [1:15237, 1:4] 1 1 1 1 1 1 1 1 1 1 ...\n",
      "  .. .. .. ..- attr(*, \"Dims\")= int [1:2] 15237 4\n",
      "  .. .. .. ..- attr(*, \"repeat.row\")= logi TRUE\n",
      "  .. .. .. ..- attr(*, \"repeat.col\")= logi TRUE\n",
      "  .. .. ..$ : num 0.125\n",
      "  .. .. ..$ : num [1:15237] 1.77e-07 6.00e-14 5.00e-14 9.96e-01 2.57e-07 ...\n",
      "  .. .. ..$ : num [1:15237] 1.85e-08 0.00 0.00 3.12e-01 2.90e-08 ...\n",
      "  .. .. ..$ : num 1\n",
      "  .. .. ..$ : num [1:15237] 8135 8135 8135 8135 8135 ...\n",
      "  .. .. ..$ : num [1:15237] 2.359 4.435 4.43 0.988 2.362 ...\n",
      "  .. .. ..$ : num [1:15237] 2.359 4.435 4.43 0.988 2.362 ...\n",
      "  .. .. ..$ :'data.frame':\t4 obs. of  5 variables:\n",
      "  .. .. .. ..$ group       : Factor w/ 1 level \"1\": 1 1 1 1\n",
      "  .. .. .. ..$ lib.size    : num [1:4] 19950 50248 19489 50055\n",
      "  .. .. .. ..$ norm.factors: num [1:4] 1.146 0.9 1.132 0.856\n",
      "  .. .. .. ..$ sample      : chr [1:4] \"1\" \"1\" \"2\" \"2\"\n",
      "  .. .. .. ..$ cluster     : chr [1:4] \"Drug_Tumor\" \"NoDrug_Tumor\" \"Drug_Tumor\" \"NoDrug_Tumor\"\n",
      "  .. .. ..$ :'data.frame':\t15237 obs. of  1 variable:\n",
      "  .. .. .. ..$ gene: chr [1:15237] \"cuTAR100000\" \"cuTAR10001\" \"cuTAR100102\" \"cuTAR100103\" ...\n",
      "  .. .. ..$ : num [1:15237] 6.37 6.08 6.08 9.46 6.37 ...\n",
      "  .. .. ..$ :'data.frame':\t15237 obs. of  4 variables:\n",
      "  .. .. .. ..$ logFC : num [1:15237] 0.036 2.015 -2.78 0.482 3.327 ...\n",
      "  .. .. .. ..$ logCPM: num [1:15237] 6.37 6.08 6.08 9.46 6.37 ...\n",
      "  .. .. .. ..$ F     : num [1:15237] 0.000237 0.186754 0.485308 1.706024 1.039831 ...\n",
      "  .. .. .. ..$ PValue: num [1:15237] 0.988 0.666 0.486 0.192 0.308 ...\n",
      "  .. .. ..$ : chr \"2_vs_others\"\n",
      "  .. .. ..$ : int [1:15237] 1 1 1 1 1 1 1 1 1 1 ...\n",
      "  .. .. ..$ : num [1:15237] 8135 8135 8135 8136 8135 ...\n",
      "  .. ..$ names: chr [1:26] \"coefficients\" \"fitted.values\" \"deviance\" \"iter\" ...\n"
     ]
    }
   ],
   "source": [
    "str(qlf)"
   ]
  },
  {
   "cell_type": "code",
   "execution_count": 181,
   "id": "544166d8-f12f-4323-af86-ca56533c465b",
   "metadata": {},
   "outputs": [
    {
     "data": {
      "text/html": [
       "50"
      ],
      "text/latex": [
       "50"
      ],
      "text/markdown": [
       "50"
      ],
      "text/plain": [
       "[1] 50"
      ]
     },
     "metadata": {},
     "output_type": "display_data"
    }
   ],
   "source": [
    "top <- 25  # Number of top genes to select from each direction (up and down)\n",
    "topMarkers <- list()\n",
    "\n",
    "for (i in 1:ncls) {\n",
    "  # Get the table for the current cluster\n",
    "  qlf[[i]]$table$FDR <- p.adjust(qlf[[i]]$table$PValue, method = \"BH\")\n",
    "  current_table <- qlf[[i]]$table\n",
    "\n",
    "  # Order genes by PValue, then by logFC (positive and negative separately)\n",
    "  ordered_genes <- current_table[order(current_table$PValue, decreasing = FALSE), ]\n",
    "  ordered_genes <- ordered_genes[ordered_genes$FDR < 0.05, ]\n",
    "\n",
    "  # Filter for upregulated genes (logFC > 0)\n",
    "  upregulated <- ordered_genes[ordered_genes$logFC > 2, ]\n",
    "  upregulated <- upregulated[order(-upregulated$logFC), ]  # Sort by descending logFC\n",
    "  \n",
    "  # Filter for downregulated genes (logFC < 0)\n",
    "  downregulated <- ordered_genes[ordered_genes$logFC < 2, ]\n",
    "  downregulated <- downregulated[order(downregulated$logFC), ]  # Sort by ascending logFC\n",
    "  \n",
    "  # Remove unwanted genes (e.g., RPS, RPL, LINC)\n",
    "  upregulated <- upregulated[!grepl(\"^RPS|^RPL|^LINC\", rownames(upregulated)), ]\n",
    "  downregulated <- downregulated[!grepl(\"^RPS|^RPL|^LINC\", rownames(downregulated)), ]\n",
    "  \n",
    "  # Select top N genes from both up and down\n",
    "  top_up <- head(rownames(upregulated), top)\n",
    "  top_down <- head(rownames(downregulated), top)\n",
    "  \n",
    "  # Combine selected genes for this cluster\n",
    "  topMarkers[[i]] <- c(top_up, top_down)\n",
    "}\n",
    "\n",
    "# Combine all selected genes into a single list\n",
    "combined_topMarkers <- unlist(topMarkers, use.names = FALSE)\n",
    "\n",
    "# Remove duplicates if necessary\n",
    "combined_topMarkers <- unique(combined_topMarkers)\n",
    "\n",
    "# Print the total number of genes in the final list\n",
    "length(combined_topMarkers)\n",
    "\n",
    "# Final result: `combined_topMarkers` contains top genes (upregulated and downregulated) for all clusters\n",
    "topMarkers <-combined_topMarkers"
   ]
  },
  {
   "cell_type": "code",
   "execution_count": 182,
   "id": "23f3e406-6660-4a67-a6e1-2ceee9bd2927",
   "metadata": {},
   "outputs": [
    {
     "data": {
      "text/html": [
       "6536"
      ],
      "text/latex": [
       "6536"
      ],
      "text/markdown": [
       "6536"
      ],
      "text/plain": [
       "[1] 6536"
      ]
     },
     "metadata": {},
     "output_type": "display_data"
    }
   ],
   "source": [
    "grep(\"cuTAR290541\",rownames(qlf[[2]]$table))"
   ]
  },
  {
   "cell_type": "code",
   "execution_count": 183,
   "id": "4a5609cb-72df-4f2a-b80c-c32792a99200",
   "metadata": {},
   "outputs": [
    {
     "data": {
      "text/html": [
       "<table class=\"dataframe\">\n",
       "<caption>A data.frame: 1 × 5</caption>\n",
       "<thead>\n",
       "\t<tr><th></th><th scope=col>logFC</th><th scope=col>logCPM</th><th scope=col>F</th><th scope=col>PValue</th><th scope=col>FDR</th></tr>\n",
       "\t<tr><th></th><th scope=col>&lt;dbl&gt;</th><th scope=col>&lt;dbl&gt;</th><th scope=col>&lt;dbl&gt;</th><th scope=col>&lt;dbl&gt;</th><th scope=col>&lt;dbl&gt;</th></tr>\n",
       "</thead>\n",
       "<tbody>\n",
       "\t<tr><th scope=row>cuTAR290541</th><td>2.262392</td><td>9.259154</td><td>21.27909</td><td>4.031101e-06</td><td>0.000491375</td></tr>\n",
       "</tbody>\n",
       "</table>\n"
      ],
      "text/latex": [
       "A data.frame: 1 × 5\n",
       "\\begin{tabular}{r|lllll}\n",
       "  & logFC & logCPM & F & PValue & FDR\\\\\n",
       "  & <dbl> & <dbl> & <dbl> & <dbl> & <dbl>\\\\\n",
       "\\hline\n",
       "\tcuTAR290541 & 2.262392 & 9.259154 & 21.27909 & 4.031101e-06 & 0.000491375\\\\\n",
       "\\end{tabular}\n"
      ],
      "text/markdown": [
       "\n",
       "A data.frame: 1 × 5\n",
       "\n",
       "| <!--/--> | logFC &lt;dbl&gt; | logCPM &lt;dbl&gt; | F &lt;dbl&gt; | PValue &lt;dbl&gt; | FDR &lt;dbl&gt; |\n",
       "|---|---|---|---|---|---|\n",
       "| cuTAR290541 | 2.262392 | 9.259154 | 21.27909 | 4.031101e-06 | 0.000491375 |\n",
       "\n"
      ],
      "text/plain": [
       "            logFC    logCPM   F        PValue       FDR        \n",
       "cuTAR290541 2.262392 9.259154 21.27909 4.031101e-06 0.000491375"
      ]
     },
     "metadata": {},
     "output_type": "display_data"
    }
   ],
   "source": [
    "\n",
    "qlf[[2]]$table[6536,]"
   ]
  },
  {
   "cell_type": "code",
   "execution_count": 187,
   "id": "611e4692-fedf-4292-b13a-cc7314d6b600",
   "metadata": {},
   "outputs": [],
   "source": [
    "lcpm<-cpm(y,log=TRUE) \n",
    "annot<-data.frame(cluster=cluster) \n",
    "rownames(annot)<-colnames(y) \n",
    "ann_colors<-list(cluster=0:5) \n",
    "names(ann_colors$cluster)<-levels(cluster)"
   ]
  },
  {
   "cell_type": "code",
   "execution_count": 185,
   "id": "de06b3f4-d1f3-485e-8fa3-adcfed570faa",
   "metadata": {},
   "outputs": [
    {
     "data": {
      "text/html": [
       "<style>\n",
       ".list-inline {list-style: none; margin:0; padding: 0}\n",
       ".list-inline>li {display: inline-block}\n",
       ".list-inline>li:not(:last-child)::after {content: \"\\00b7\"; padding: 0 .5ex}\n",
       "</style>\n",
       "<ol class=list-inline><li>'1_clusterDrug_Tumor'</li><li>'1_clusterNoDrug_Tumor'</li><li>'2_clusterDrug_Tumor'</li><li>'2_clusterNoDrug_Tumor'</li></ol>\n"
      ],
      "text/latex": [
       "\\begin{enumerate*}\n",
       "\\item '1\\_clusterDrug\\_Tumor'\n",
       "\\item '1\\_clusterNoDrug\\_Tumor'\n",
       "\\item '2\\_clusterDrug\\_Tumor'\n",
       "\\item '2\\_clusterNoDrug\\_Tumor'\n",
       "\\end{enumerate*}\n"
      ],
      "text/markdown": [
       "1. '1_clusterDrug_Tumor'\n",
       "2. '1_clusterNoDrug_Tumor'\n",
       "3. '2_clusterDrug_Tumor'\n",
       "4. '2_clusterNoDrug_Tumor'\n",
       "\n",
       "\n"
      ],
      "text/plain": [
       "[1] \"1_clusterDrug_Tumor\"   \"1_clusterNoDrug_Tumor\" \"2_clusterDrug_Tumor\"  \n",
       "[4] \"2_clusterNoDrug_Tumor\""
      ]
     },
     "metadata": {},
     "output_type": "display_data"
    }
   ],
   "source": [
    "colnames(lcpm)"
   ]
  },
  {
   "cell_type": "code",
   "execution_count": 130,
   "id": "b59c6a1e-277b-496b-b2e5-a1b43887899c",
   "metadata": {},
   "outputs": [
    {
     "data": {
      "image/png": "[encoded data removed]",
      "text/plain": [
       "plot without title"
      ]
     },
     "metadata": {
      "image/png": {
       "height": 240,
       "width": 480
      }
     },
     "output_type": "display_data"
    }
   ],
   "source": [
    "desired_order<-c(\"1_clusterDrug_Tumor\",\"2_clusterDrug_Tumor\",\"1_clusterNoDrug_Tumor\",\"2_clusterNoDrug_Tumor\")\n",
    "lcpm_o <- lcpm[,match(desired_order, colnames(lcpm)), drop = FALSE]\n",
    "\n",
    "\n",
    "rownames(annot)<-gsub(\"cluster\",\"\",rownames(annot))\n",
    "annot_o <- annot[match(desired_order, rownames(annot)), , drop = FALSE]\n",
    "\n",
    "\n",
    "\n",
    "options(repr.plot.width = 8, repr.plot.height = 4)\n",
    "\n",
    "pheatmap::pheatmap(lcpm_o[c(\"cuTAR78711\",\"cuTAR276859\",\"cuTAR290541\"),],breaks=seq(-2,2,length.out=101),color=colorRampPalette(c(\"blue\",\"white\",\"red\"))(100),scale=\"row\",\n",
    "                   cluster_cols=FALSE,border_color=\"NA\",fontsize_row=5,\n",
    "                   show_colnames=FALSE,\n",
    "                   annotation_col=annot_o,annotation_colors=ann_colors)\n",
    "#grid.text(levels(annot_o$cluster), x = c(0.25, 0.6), y = c(0.89, 0.89),gp = gpa"
   ]
  },
  {
   "cell_type": "code",
   "execution_count": 189,
   "id": "943dc11b-4f1a-4b04-9c23-4f0b52d473ec",
   "metadata": {},
   "outputs": [
    {
     "data": {
      "image/png": "[encoded data removed]",
      "text/plain": [
       "plot without title"
      ]
     },
     "metadata": {
      "image/png": {
       "height": 240,
       "width": 480
      }
     },
     "output_type": "display_data"
    }
   ],
   "source": [
    "desired_order<-c(\"1_clusterNoDrug_Tumor\",\"2_clusterNoDrug_Tumor\",\"1_clusterDrug_Tumor\",\"2_clusterDrug_Tumor\")\n",
    "lcpm_o <- lcpm[,match(desired_order, colnames(lcpm)), drop = FALSE]\n",
    "\n",
    "\n",
    "rownames(annot)<-gsub(\"cluster\",\"\",rownames(annot))\n",
    "annot_o <- annot[match(desired_order, rownames(annot)), , drop = FALSE]\n",
    "\n",
    "\n",
    "\n",
    "options(repr.plot.width = 8, repr.plot.height = 4)\n",
    "\n",
    "pheatmap::pheatmap(lcpm_o[c(topMarkers,\"cuTAR78711\",\"cuTAR276859\",\"cuTAR290541\"),],breaks=seq(-2,2,length.out=101),color=colorRampPalette(c(\"blue\",\"white\",\"red\"))(100),scale=\"row\",\n",
    "                   cluster_cols=FALSE,border_color=\"NA\",fontsize_row=5,\n",
    "                   show_colnames=FALSE,\n",
    "                   annotation_col=annot_o,annotation_colors=ann_colors)\n",
    "#grid.text(levels(annot_o$cluster), x = c(0.25, 0.6), y = c(0.89, 0.89),gp = gpa"
   ]
  },
  {
   "cell_type": "code",
   "execution_count": 192,
   "id": "84e95d6f-19fd-4035-ae65-6a534d17c02b",
   "metadata": {},
   "outputs": [
    {
     "data": {
      "image/png": "[encoded data removed]",
      "text/plain": [
       "plot without title"
      ]
     },
     "metadata": {
      "image/png": {
       "height": 240,
       "width": 480
      }
     },
     "output_type": "display_data"
    }
   ],
   "source": [
    "heatmap_data2 <- lcpm_o[c(topMarkers,\"cuTAR78711\",\"cuTAR276859\",\"cuTAR290541\"), ]\n",
    "\n",
    "# Create a column annotation (for KM1 and KM2)\n",
    "annotation_col <- data.frame(\n",
    "  Group = rep(c(\"Control\", \"Treatment\"), each = 2)  # Adjust according to your number of columns per group\n",
    ")\n",
    "\n",
    "# Set rownames of the annotation to match column names in the heatmap\n",
    "rownames(annotation_col) <- colnames(heatmap_data2)\n",
    "\n",
    "pheatmap::pheatmap(\n",
    "  heatmap_data2,\n",
    "  breaks = seq(-2, 2, length.out = 101),\n",
    "  color = colorRampPalette(c(\"blue\", \"white\", \"red\"))(100),\n",
    "  scale = \"row\",\n",
    "  cluster_cols = FALSE,\n",
    "  border_color = \"NA\",\n",
    "  fontsize_row = 8,\n",
    "  show_colnames = FALSE,\n",
    "  annotation_col = annotation_col,  # Adding the annotation column here\n",
    "  annotation_colors = list(Group = c(\"Control\" = \"blue\", \"Treatment\" = \"red\"))  # Customize colors for annotation\n",
    ")"
   ]
  },
  {
   "cell_type": "code",
   "execution_count": 154,
   "id": "a4a3664c-8331-49bb-9092-71b90e2061f9",
   "metadata": {},
   "outputs": [
    {
     "data": {
      "text/html": [],
      "text/latex": [],
      "text/markdown": [],
      "text/plain": [
       "integer(0)"
      ]
     },
     "metadata": {},
     "output_type": "display_data"
    }
   ],
   "source": [
    "grep(\"cuTAR276859\",downregulated)"
   ]
  },
  {
   "cell_type": "markdown",
   "id": "da239c3d-bc81-42c1-9eaf-bc50c81fd939",
   "metadata": {},
   "source": [
    "# sample-wise pseudo"
   ]
  },
  {
   "cell_type": "code",
   "execution_count": 14,
   "id": "64d765d3-9e0d-4fcb-b332-19cd7950cf5b",
   "metadata": {},
   "outputs": [
    {
     "data": {
      "text/html": [
       "<table class=\"dataframe\">\n",
       "<caption>A data.frame: 10 × 7</caption>\n",
       "<thead>\n",
       "\t<tr><th></th><th scope=col>orig.ident</th><th scope=col>nCount_RNA</th><th scope=col>nFeature_RNA</th><th scope=col>sample</th><th scope=col>condition</th><th scope=col>drug</th><th scope=col>cluster</th></tr>\n",
       "\t<tr><th></th><th scope=col>&lt;fct&gt;</th><th scope=col>&lt;dbl&gt;</th><th scope=col>&lt;int&gt;</th><th scope=col>&lt;chr&gt;</th><th scope=col>&lt;chr&gt;</th><th scope=col>&lt;chr&gt;</th><th scope=col>&lt;chr&gt;</th></tr>\n",
       "</thead>\n",
       "<tbody>\n",
       "\t<tr><th scope=row>AAACAGAGCGACTCCT.1_A</th><td>Brain_PDOX</td><td>60</td><td>54</td><td>A</td><td>NoDrug_Tumor</td><td>NoDrug</td><td>A_1</td></tr>\n",
       "\t<tr><th scope=row>AAACAGGGTCTATATT.1_A</th><td>Brain_PDOX</td><td>13</td><td>13</td><td>A</td><td>NoDrug_Tumor</td><td>NoDrug</td><td>A_2</td></tr>\n",
       "\t<tr><th scope=row>AAACCCGAACGAAATC.1_A</th><td>Brain_PDOX</td><td>15</td><td>14</td><td>A</td><td>NoDrug_Tumor</td><td>NoDrug</td><td>A_1</td></tr>\n",
       "\t<tr><th scope=row>AAACCGGGTAGGTACC.1_A</th><td>Brain_PDOX</td><td>29</td><td>26</td><td>A</td><td>NoDrug_Tumor</td><td>NoDrug</td><td>A_1</td></tr>\n",
       "\t<tr><th scope=row>AAACCTCATGAAGTTG.1_A</th><td>Brain_PDOX</td><td>17</td><td>16</td><td>A</td><td>NoDrug_Tumor</td><td>NoDrug</td><td>A_2</td></tr>\n",
       "\t<tr><th scope=row>AAACGAGACGGTTGAT.1_A</th><td>Brain_PDOX</td><td>26</td><td>24</td><td>A</td><td>NoDrug_Tumor</td><td>NoDrug</td><td>A_1</td></tr>\n",
       "\t<tr><th scope=row>AAACGTGTTCGCCCTA.1_A</th><td>Brain_PDOX</td><td>31</td><td>29</td><td>A</td><td>NoDrug_Tumor</td><td>NoDrug</td><td>A_1</td></tr>\n",
       "\t<tr><th scope=row>AAACTCGTGATATAAG.1_A</th><td>Brain_PDOX</td><td>31</td><td>29</td><td>A</td><td>NoDrug_Tumor</td><td>NoDrug</td><td>A_1</td></tr>\n",
       "\t<tr><th scope=row>AAACTGCTGGCTCCAA.1_A</th><td>Brain_PDOX</td><td>26</td><td>24</td><td>A</td><td>NoDrug_Tumor</td><td>NoDrug</td><td>A_2</td></tr>\n",
       "\t<tr><th scope=row>AAACTTGCAAACGTAT.1_A</th><td>Brain_PDOX</td><td>43</td><td>43</td><td>A</td><td>NoDrug_Tumor</td><td>NoDrug</td><td>A_2</td></tr>\n",
       "</tbody>\n",
       "</table>\n"
      ],
      "text/latex": [
       "A data.frame: 10 × 7\n",
       "\\begin{tabular}{r|lllllll}\n",
       "  & orig.ident & nCount\\_RNA & nFeature\\_RNA & sample & condition & drug & cluster\\\\\n",
       "  & <fct> & <dbl> & <int> & <chr> & <chr> & <chr> & <chr>\\\\\n",
       "\\hline\n",
       "\tAAACAGAGCGACTCCT.1\\_A & Brain\\_PDOX & 60 & 54 & A & NoDrug\\_Tumor & NoDrug & A\\_1\\\\\n",
       "\tAAACAGGGTCTATATT.1\\_A & Brain\\_PDOX & 13 & 13 & A & NoDrug\\_Tumor & NoDrug & A\\_2\\\\\n",
       "\tAAACCCGAACGAAATC.1\\_A & Brain\\_PDOX & 15 & 14 & A & NoDrug\\_Tumor & NoDrug & A\\_1\\\\\n",
       "\tAAACCGGGTAGGTACC.1\\_A & Brain\\_PDOX & 29 & 26 & A & NoDrug\\_Tumor & NoDrug & A\\_1\\\\\n",
       "\tAAACCTCATGAAGTTG.1\\_A & Brain\\_PDOX & 17 & 16 & A & NoDrug\\_Tumor & NoDrug & A\\_2\\\\\n",
       "\tAAACGAGACGGTTGAT.1\\_A & Brain\\_PDOX & 26 & 24 & A & NoDrug\\_Tumor & NoDrug & A\\_1\\\\\n",
       "\tAAACGTGTTCGCCCTA.1\\_A & Brain\\_PDOX & 31 & 29 & A & NoDrug\\_Tumor & NoDrug & A\\_1\\\\\n",
       "\tAAACTCGTGATATAAG.1\\_A & Brain\\_PDOX & 31 & 29 & A & NoDrug\\_Tumor & NoDrug & A\\_1\\\\\n",
       "\tAAACTGCTGGCTCCAA.1\\_A & Brain\\_PDOX & 26 & 24 & A & NoDrug\\_Tumor & NoDrug & A\\_2\\\\\n",
       "\tAAACTTGCAAACGTAT.1\\_A & Brain\\_PDOX & 43 & 43 & A & NoDrug\\_Tumor & NoDrug & A\\_2\\\\\n",
       "\\end{tabular}\n"
      ],
      "text/markdown": [
       "\n",
       "A data.frame: 10 × 7\n",
       "\n",
       "| <!--/--> | orig.ident &lt;fct&gt; | nCount_RNA &lt;dbl&gt; | nFeature_RNA &lt;int&gt; | sample &lt;chr&gt; | condition &lt;chr&gt; | drug &lt;chr&gt; | cluster &lt;chr&gt; |\n",
       "|---|---|---|---|---|---|---|---|\n",
       "| AAACAGAGCGACTCCT.1_A | Brain_PDOX | 60 | 54 | A | NoDrug_Tumor | NoDrug | A_1 |\n",
       "| AAACAGGGTCTATATT.1_A | Brain_PDOX | 13 | 13 | A | NoDrug_Tumor | NoDrug | A_2 |\n",
       "| AAACCCGAACGAAATC.1_A | Brain_PDOX | 15 | 14 | A | NoDrug_Tumor | NoDrug | A_1 |\n",
       "| AAACCGGGTAGGTACC.1_A | Brain_PDOX | 29 | 26 | A | NoDrug_Tumor | NoDrug | A_1 |\n",
       "| AAACCTCATGAAGTTG.1_A | Brain_PDOX | 17 | 16 | A | NoDrug_Tumor | NoDrug | A_2 |\n",
       "| AAACGAGACGGTTGAT.1_A | Brain_PDOX | 26 | 24 | A | NoDrug_Tumor | NoDrug | A_1 |\n",
       "| AAACGTGTTCGCCCTA.1_A | Brain_PDOX | 31 | 29 | A | NoDrug_Tumor | NoDrug | A_1 |\n",
       "| AAACTCGTGATATAAG.1_A | Brain_PDOX | 31 | 29 | A | NoDrug_Tumor | NoDrug | A_1 |\n",
       "| AAACTGCTGGCTCCAA.1_A | Brain_PDOX | 26 | 24 | A | NoDrug_Tumor | NoDrug | A_2 |\n",
       "| AAACTTGCAAACGTAT.1_A | Brain_PDOX | 43 | 43 | A | NoDrug_Tumor | NoDrug | A_2 |\n",
       "\n"
      ],
      "text/plain": [
       "                     orig.ident nCount_RNA nFeature_RNA sample condition   \n",
       "AAACAGAGCGACTCCT.1_A Brain_PDOX 60         54           A      NoDrug_Tumor\n",
       "AAACAGGGTCTATATT.1_A Brain_PDOX 13         13           A      NoDrug_Tumor\n",
       "AAACCCGAACGAAATC.1_A Brain_PDOX 15         14           A      NoDrug_Tumor\n",
       "AAACCGGGTAGGTACC.1_A Brain_PDOX 29         26           A      NoDrug_Tumor\n",
       "AAACCTCATGAAGTTG.1_A Brain_PDOX 17         16           A      NoDrug_Tumor\n",
       "AAACGAGACGGTTGAT.1_A Brain_PDOX 26         24           A      NoDrug_Tumor\n",
       "AAACGTGTTCGCCCTA.1_A Brain_PDOX 31         29           A      NoDrug_Tumor\n",
       "AAACTCGTGATATAAG.1_A Brain_PDOX 31         29           A      NoDrug_Tumor\n",
       "AAACTGCTGGCTCCAA.1_A Brain_PDOX 26         24           A      NoDrug_Tumor\n",
       "AAACTTGCAAACGTAT.1_A Brain_PDOX 43         43           A      NoDrug_Tumor\n",
       "                     drug   cluster\n",
       "AAACAGAGCGACTCCT.1_A NoDrug A_1    \n",
       "AAACAGGGTCTATATT.1_A NoDrug A_2    \n",
       "AAACCCGAACGAAATC.1_A NoDrug A_1    \n",
       "AAACCGGGTAGGTACC.1_A NoDrug A_1    \n",
       "AAACCTCATGAAGTTG.1_A NoDrug A_2    \n",
       "AAACGAGACGGTTGAT.1_A NoDrug A_1    \n",
       "AAACGTGTTCGCCCTA.1_A NoDrug A_1    \n",
       "AAACTCGTGATATAAG.1_A NoDrug A_1    \n",
       "AAACTGCTGGCTCCAA.1_A NoDrug A_2    \n",
       "AAACTTGCAAACGTAT.1_A NoDrug A_2    "
      ]
     },
     "metadata": {},
     "output_type": "display_data"
    }
   ],
   "source": [
    "so_old2<-readRDS(\"raw_combined_seurat.rds\")\n",
    "so_old2 <- subset(so_old, subset = condition %in% c(\"NoDrug_Tumor\", \"Drug_Tumor\"))\n",
    "\n",
    "set.seed(123)  # for reproducibility\n",
    "\n",
    "# Create a new 'cluster' column\n",
    "so_old2$cluster <- NA\n",
    "\n",
    "# Loop through each sample and assign random clusters with sample ID prefix\n",
    "samples <- unique(so_old2$sample)\n",
    "for (s in samples) {\n",
    "  cell_ids <- WhichCells(so_old2, expression = sample == s)\n",
    "  random_clusters <- sample(1:2, length(cell_ids), replace = TRUE)\n",
    "  so_old$cluster[cell_ids] <- paste0(s, \"_\", random_clusters)\n",
    "}\n",
    "so_old2@meta.data$treatment <- ifelse(so_old2$sample %in% c(\"A\", \"B\"), \"Control\", \"Treatment\")\n",
    "\n",
    "\n",
    "head(so_old)"
   ]
  },
  {
   "cell_type": "code",
   "execution_count": 198,
   "id": "b5b79564-1362-4881-a94e-4d3429e7dd74",
   "metadata": {},
   "outputs": [
    {
     "data": {
      "text/html": [
       "<table class=\"dataframe\">\n",
       "<caption>A grouped_df: 4 × 3</caption>\n",
       "<thead>\n",
       "\t<tr><th scope=col>treatment</th><th scope=col>sample</th><th scope=col>n</th></tr>\n",
       "\t<tr><th scope=col>&lt;chr&gt;</th><th scope=col>&lt;chr&gt;</th><th scope=col>&lt;int&gt;</th></tr>\n",
       "</thead>\n",
       "<tbody>\n",
       "\t<tr><td>Control  </td><td>A</td><td>2722</td></tr>\n",
       "\t<tr><td>Control  </td><td>B</td><td>1463</td></tr>\n",
       "\t<tr><td>Treatment</td><td>C</td><td> 986</td></tr>\n",
       "\t<tr><td>Treatment</td><td>D</td><td>1057</td></tr>\n",
       "</tbody>\n",
       "</table>\n"
      ],
      "text/latex": [
       "A grouped\\_df: 4 × 3\n",
       "\\begin{tabular}{lll}\n",
       " treatment & sample & n\\\\\n",
       " <chr> & <chr> & <int>\\\\\n",
       "\\hline\n",
       "\t Control   & A & 2722\\\\\n",
       "\t Control   & B & 1463\\\\\n",
       "\t Treatment & C &  986\\\\\n",
       "\t Treatment & D & 1057\\\\\n",
       "\\end{tabular}\n"
      ],
      "text/markdown": [
       "\n",
       "A grouped_df: 4 × 3\n",
       "\n",
       "| treatment &lt;chr&gt; | sample &lt;chr&gt; | n &lt;int&gt; |\n",
       "|---|---|---|\n",
       "| Control   | A | 2722 |\n",
       "| Control   | B | 1463 |\n",
       "| Treatment | C |  986 |\n",
       "| Treatment | D | 1057 |\n",
       "\n"
      ],
      "text/plain": [
       "  treatment sample n   \n",
       "1 Control   A      2722\n",
       "2 Control   B      1463\n",
       "3 Treatment C       986\n",
       "4 Treatment D      1057"
      ]
     },
     "metadata": {},
     "output_type": "display_data"
    }
   ],
   "source": [
    "so_old2@meta.data %>% group_by(treatment, sample) %>% tally()"
   ]
  },
  {
   "cell_type": "code",
   "execution_count": 196,
   "id": "e8fa7819-7ac2-427e-8dee-655ac2d33c5a",
   "metadata": {
    "scrolled": true
   },
   "outputs": [
    {
     "data": {
      "text/html": [
       "<dl>\n",
       "\t<dt>$counts</dt>\n",
       "\t\t<dd><table class=\"dataframe\">\n",
       "<caption>A matrix: 15237 × 4 of type dbl</caption>\n",
       "<thead>\n",
       "\t<tr><th></th><th scope=col>A_clusterNoDrug_Tumor</th><th scope=col>B_clusterNoDrug_Tumor</th><th scope=col>C_clusterDrug_Tumor</th><th scope=col>D_clusterDrug_Tumor</th></tr>\n",
       "</thead>\n",
       "<tbody>\n",
       "\t<tr><th scope=row>cuTAR100000</th><td>  2</td><td> 0</td><td> 1</td><td> 0</td></tr>\n",
       "\t<tr><th scope=row>cuTAR10001</th><td>  0</td><td> 1</td><td> 0</td><td> 0</td></tr>\n",
       "\t<tr><th scope=row>cuTAR100102</th><td>  0</td><td> 0</td><td> 1</td><td> 0</td></tr>\n",
       "\t<tr><th scope=row>cuTAR100103</th><td> 47</td><td>16</td><td>11</td><td>12</td></tr>\n",
       "\t<tr><th scope=row>cuTAR100104</th><td>  3</td><td> 0</td><td> 0</td><td> 0</td></tr>\n",
       "\t<tr><th scope=row>cuTAR100106</th><td>  7</td><td> 2</td><td> 1</td><td> 5</td></tr>\n",
       "\t<tr><th scope=row>cuTAR100108</th><td>  0</td><td> 1</td><td> 1</td><td> 0</td></tr>\n",
       "\t<tr><th scope=row>cuTAR100131</th><td> 37</td><td>20</td><td>11</td><td> 7</td></tr>\n",
       "\t<tr><th scope=row>cuTAR100174</th><td>  0</td><td> 0</td><td> 0</td><td> 0</td></tr>\n",
       "\t<tr><th scope=row>cuTAR100175</th><td>  8</td><td> 1</td><td> 0</td><td> 3</td></tr>\n",
       "\t<tr><th scope=row>cuTAR100204</th><td>  0</td><td> 0</td><td> 0</td><td> 1</td></tr>\n",
       "\t<tr><th scope=row>cuTAR100205</th><td>  2</td><td> 0</td><td> 0</td><td> 0</td></tr>\n",
       "\t<tr><th scope=row>cuTAR100208</th><td>  0</td><td> 1</td><td> 0</td><td> 0</td></tr>\n",
       "\t<tr><th scope=row>cuTAR100342</th><td>  0</td><td> 0</td><td> 0</td><td> 1</td></tr>\n",
       "\t<tr><th scope=row>cuTAR10035</th><td>  0</td><td>13</td><td>10</td><td>12</td></tr>\n",
       "\t<tr><th scope=row>cuTAR100350</th><td>  0</td><td> 1</td><td> 0</td><td> 0</td></tr>\n",
       "\t<tr><th scope=row>cuTAR10037</th><td>  0</td><td> 0</td><td> 0</td><td> 1</td></tr>\n",
       "\t<tr><th scope=row>cuTAR100371</th><td> 14</td><td> 3</td><td> 0</td><td> 4</td></tr>\n",
       "\t<tr><th scope=row>cuTAR10039</th><td>  0</td><td> 0</td><td> 0</td><td> 0</td></tr>\n",
       "\t<tr><th scope=row>cuTAR100395</th><td>  8</td><td> 0</td><td> 1</td><td> 2</td></tr>\n",
       "\t<tr><th scope=row>cuTAR10040</th><td>  2</td><td> 0</td><td> 1</td><td> 0</td></tr>\n",
       "\t<tr><th scope=row>cuTAR100438</th><td>  0</td><td> 2</td><td> 0</td><td> 0</td></tr>\n",
       "\t<tr><th scope=row>cuTAR100491</th><td>  0</td><td> 1</td><td> 0</td><td> 1</td></tr>\n",
       "\t<tr><th scope=row>cuTAR100492</th><td>163</td><td>62</td><td>45</td><td>51</td></tr>\n",
       "\t<tr><th scope=row>cuTAR100508</th><td>  2</td><td> 0</td><td> 0</td><td> 0</td></tr>\n",
       "\t<tr><th scope=row>cuTAR100513</th><td>  0</td><td> 0</td><td> 0</td><td> 1</td></tr>\n",
       "\t<tr><th scope=row>cuTAR100536</th><td>  0</td><td> 3</td><td> 0</td><td> 0</td></tr>\n",
       "\t<tr><th scope=row>cuTAR100541</th><td>  7</td><td> 8</td><td> 0</td><td> 4</td></tr>\n",
       "\t<tr><th scope=row>cuTAR100542</th><td>  0</td><td> 0</td><td> 0</td><td> 0</td></tr>\n",
       "\t<tr><th scope=row>cuTAR100543</th><td>  2</td><td> 0</td><td> 0</td><td> 0</td></tr>\n",
       "\t<tr><th scope=row>⋮</th><td>⋮</td><td>⋮</td><td>⋮</td><td>⋮</td></tr>\n",
       "\t<tr><th scope=row>cuTAR98229</th><td>  5</td><td> 0</td><td> 1</td><td>0</td></tr>\n",
       "\t<tr><th scope=row>cuTAR9828</th><td>  0</td><td> 0</td><td> 0</td><td>0</td></tr>\n",
       "\t<tr><th scope=row>cuTAR98374</th><td>  0</td><td> 0</td><td> 0</td><td>1</td></tr>\n",
       "\t<tr><th scope=row>cuTAR98378</th><td>  0</td><td> 3</td><td> 0</td><td>2</td></tr>\n",
       "\t<tr><th scope=row>cuTAR98455</th><td>  0</td><td> 0</td><td> 0</td><td>0</td></tr>\n",
       "\t<tr><th scope=row>cuTAR98505</th><td>  9</td><td> 0</td><td> 0</td><td>2</td></tr>\n",
       "\t<tr><th scope=row>cuTAR98506</th><td>  1</td><td> 0</td><td> 1</td><td>0</td></tr>\n",
       "\t<tr><th scope=row>cuTAR98509</th><td> 64</td><td>19</td><td> 8</td><td>8</td></tr>\n",
       "\t<tr><th scope=row>cuTAR98511</th><td>  0</td><td> 3</td><td> 0</td><td>1</td></tr>\n",
       "\t<tr><th scope=row>cuTAR98646</th><td>  0</td><td> 0</td><td> 0</td><td>0</td></tr>\n",
       "\t<tr><th scope=row>cuTAR98941</th><td>  4</td><td> 0</td><td> 0</td><td>0</td></tr>\n",
       "\t<tr><th scope=row>cuTAR99093</th><td>100</td><td>20</td><td>23</td><td>0</td></tr>\n",
       "\t<tr><th scope=row>cuTAR99094</th><td>  0</td><td> 1</td><td> 0</td><td>0</td></tr>\n",
       "\t<tr><th scope=row>cuTAR9933</th><td>  0</td><td> 0</td><td> 0</td><td>0</td></tr>\n",
       "\t<tr><th scope=row>cuTAR99405</th><td>  3</td><td> 1</td><td> 0</td><td>0</td></tr>\n",
       "\t<tr><th scope=row>cuTAR99424</th><td>  0</td><td> 0</td><td> 1</td><td>0</td></tr>\n",
       "\t<tr><th scope=row>cuTAR9944</th><td>  1</td><td> 0</td><td> 0</td><td>0</td></tr>\n",
       "\t<tr><th scope=row>cuTAR99444</th><td>  1</td><td> 0</td><td> 0</td><td>1</td></tr>\n",
       "\t<tr><th scope=row>cuTAR99475</th><td>  1</td><td> 0</td><td> 0</td><td>0</td></tr>\n",
       "\t<tr><th scope=row>cuTAR99577</th><td>  0</td><td>10</td><td> 4</td><td>0</td></tr>\n",
       "\t<tr><th scope=row>cuTAR99596</th><td>  8</td><td> 0</td><td> 0</td><td>0</td></tr>\n",
       "\t<tr><th scope=row>cuTAR99598</th><td>  0</td><td> 0</td><td> 0</td><td>1</td></tr>\n",
       "\t<tr><th scope=row>cuTAR99599</th><td>  0</td><td> 0</td><td> 2</td><td>2</td></tr>\n",
       "\t<tr><th scope=row>cuTAR99642</th><td>  6</td><td> 0</td><td> 0</td><td>0</td></tr>\n",
       "\t<tr><th scope=row>cuTAR99755</th><td>  0</td><td> 3</td><td> 2</td><td>5</td></tr>\n",
       "\t<tr><th scope=row>cuTAR99786</th><td>  2</td><td> 0</td><td> 0</td><td>0</td></tr>\n",
       "\t<tr><th scope=row>cuTAR99816</th><td>  5</td><td> 0</td><td> 2</td><td>0</td></tr>\n",
       "\t<tr><th scope=row>cuTAR99824</th><td>  1</td><td> 0</td><td> 0</td><td>0</td></tr>\n",
       "\t<tr><th scope=row>cuTAR99830</th><td>  1</td><td> 3</td><td> 3</td><td>1</td></tr>\n",
       "\t<tr><th scope=row>cuTAR99941</th><td>  0</td><td> 0</td><td> 1</td><td>0</td></tr>\n",
       "</tbody>\n",
       "</table>\n",
       "</dd>\n",
       "\t<dt>$samples</dt>\n",
       "\t\t<dd><table class=\"dataframe\">\n",
       "<caption>A data.frame: 4 × 5</caption>\n",
       "<thead>\n",
       "\t<tr><th></th><th scope=col>group</th><th scope=col>lib.size</th><th scope=col>norm.factors</th><th scope=col>sample</th><th scope=col>cluster</th></tr>\n",
       "\t<tr><th></th><th scope=col>&lt;fct&gt;</th><th scope=col>&lt;dbl&gt;</th><th scope=col>&lt;dbl&gt;</th><th scope=col>&lt;chr&gt;</th><th scope=col>&lt;chr&gt;</th></tr>\n",
       "</thead>\n",
       "<tbody>\n",
       "\t<tr><th scope=row>A_clusterNoDrug_Tumor</th><td>1</td><td>73801</td><td>0.8843864</td><td>A</td><td>NoDrug_Tumor</td></tr>\n",
       "\t<tr><th scope=row>B_clusterNoDrug_Tumor</th><td>1</td><td>26502</td><td>1.0477991</td><td>B</td><td>NoDrug_Tumor</td></tr>\n",
       "\t<tr><th scope=row>C_clusterDrug_Tumor</th><td>1</td><td>17719</td><td>1.0560356</td><td>C</td><td>Drug_Tumor  </td></tr>\n",
       "\t<tr><th scope=row>D_clusterDrug_Tumor</th><td>1</td><td>21720</td><td>1.0218835</td><td>D</td><td>Drug_Tumor  </td></tr>\n",
       "</tbody>\n",
       "</table>\n",
       "</dd>\n",
       "\t<dt>$genes</dt>\n",
       "\t\t<dd><table class=\"dataframe\">\n",
       "<caption>A data.frame: 15237 × 1</caption>\n",
       "<thead>\n",
       "\t<tr><th></th><th scope=col>gene</th></tr>\n",
       "\t<tr><th></th><th scope=col>&lt;chr&gt;</th></tr>\n",
       "</thead>\n",
       "<tbody>\n",
       "\t<tr><th scope=row>cuTAR100000</th><td>cuTAR100000</td></tr>\n",
       "\t<tr><th scope=row>cuTAR10001</th><td>cuTAR10001 </td></tr>\n",
       "\t<tr><th scope=row>cuTAR100102</th><td>cuTAR100102</td></tr>\n",
       "\t<tr><th scope=row>cuTAR100103</th><td>cuTAR100103</td></tr>\n",
       "\t<tr><th scope=row>cuTAR100104</th><td>cuTAR100104</td></tr>\n",
       "\t<tr><th scope=row>cuTAR100106</th><td>cuTAR100106</td></tr>\n",
       "\t<tr><th scope=row>cuTAR100108</th><td>cuTAR100108</td></tr>\n",
       "\t<tr><th scope=row>cuTAR100131</th><td>cuTAR100131</td></tr>\n",
       "\t<tr><th scope=row>cuTAR100174</th><td>cuTAR100174</td></tr>\n",
       "\t<tr><th scope=row>cuTAR100175</th><td>cuTAR100175</td></tr>\n",
       "\t<tr><th scope=row>cuTAR100204</th><td>cuTAR100204</td></tr>\n",
       "\t<tr><th scope=row>cuTAR100205</th><td>cuTAR100205</td></tr>\n",
       "\t<tr><th scope=row>cuTAR100208</th><td>cuTAR100208</td></tr>\n",
       "\t<tr><th scope=row>cuTAR100342</th><td>cuTAR100342</td></tr>\n",
       "\t<tr><th scope=row>cuTAR10035</th><td>cuTAR10035 </td></tr>\n",
       "\t<tr><th scope=row>cuTAR100350</th><td>cuTAR100350</td></tr>\n",
       "\t<tr><th scope=row>cuTAR10037</th><td>cuTAR10037 </td></tr>\n",
       "\t<tr><th scope=row>cuTAR100371</th><td>cuTAR100371</td></tr>\n",
       "\t<tr><th scope=row>cuTAR10039</th><td>cuTAR10039 </td></tr>\n",
       "\t<tr><th scope=row>cuTAR100395</th><td>cuTAR100395</td></tr>\n",
       "\t<tr><th scope=row>cuTAR10040</th><td>cuTAR10040 </td></tr>\n",
       "\t<tr><th scope=row>cuTAR100438</th><td>cuTAR100438</td></tr>\n",
       "\t<tr><th scope=row>cuTAR100491</th><td>cuTAR100491</td></tr>\n",
       "\t<tr><th scope=row>cuTAR100492</th><td>cuTAR100492</td></tr>\n",
       "\t<tr><th scope=row>cuTAR100508</th><td>cuTAR100508</td></tr>\n",
       "\t<tr><th scope=row>cuTAR100513</th><td>cuTAR100513</td></tr>\n",
       "\t<tr><th scope=row>cuTAR100536</th><td>cuTAR100536</td></tr>\n",
       "\t<tr><th scope=row>cuTAR100541</th><td>cuTAR100541</td></tr>\n",
       "\t<tr><th scope=row>cuTAR100542</th><td>cuTAR100542</td></tr>\n",
       "\t<tr><th scope=row>cuTAR100543</th><td>cuTAR100543</td></tr>\n",
       "\t<tr><th scope=row>⋮</th><td>⋮</td></tr>\n",
       "\t<tr><th scope=row>cuTAR98229</th><td>cuTAR98229</td></tr>\n",
       "\t<tr><th scope=row>cuTAR9828</th><td>cuTAR9828 </td></tr>\n",
       "\t<tr><th scope=row>cuTAR98374</th><td>cuTAR98374</td></tr>\n",
       "\t<tr><th scope=row>cuTAR98378</th><td>cuTAR98378</td></tr>\n",
       "\t<tr><th scope=row>cuTAR98455</th><td>cuTAR98455</td></tr>\n",
       "\t<tr><th scope=row>cuTAR98505</th><td>cuTAR98505</td></tr>\n",
       "\t<tr><th scope=row>cuTAR98506</th><td>cuTAR98506</td></tr>\n",
       "\t<tr><th scope=row>cuTAR98509</th><td>cuTAR98509</td></tr>\n",
       "\t<tr><th scope=row>cuTAR98511</th><td>cuTAR98511</td></tr>\n",
       "\t<tr><th scope=row>cuTAR98646</th><td>cuTAR98646</td></tr>\n",
       "\t<tr><th scope=row>cuTAR98941</th><td>cuTAR98941</td></tr>\n",
       "\t<tr><th scope=row>cuTAR99093</th><td>cuTAR99093</td></tr>\n",
       "\t<tr><th scope=row>cuTAR99094</th><td>cuTAR99094</td></tr>\n",
       "\t<tr><th scope=row>cuTAR9933</th><td>cuTAR9933 </td></tr>\n",
       "\t<tr><th scope=row>cuTAR99405</th><td>cuTAR99405</td></tr>\n",
       "\t<tr><th scope=row>cuTAR99424</th><td>cuTAR99424</td></tr>\n",
       "\t<tr><th scope=row>cuTAR9944</th><td>cuTAR9944 </td></tr>\n",
       "\t<tr><th scope=row>cuTAR99444</th><td>cuTAR99444</td></tr>\n",
       "\t<tr><th scope=row>cuTAR99475</th><td>cuTAR99475</td></tr>\n",
       "\t<tr><th scope=row>cuTAR99577</th><td>cuTAR99577</td></tr>\n",
       "\t<tr><th scope=row>cuTAR99596</th><td>cuTAR99596</td></tr>\n",
       "\t<tr><th scope=row>cuTAR99598</th><td>cuTAR99598</td></tr>\n",
       "\t<tr><th scope=row>cuTAR99599</th><td>cuTAR99599</td></tr>\n",
       "\t<tr><th scope=row>cuTAR99642</th><td>cuTAR99642</td></tr>\n",
       "\t<tr><th scope=row>cuTAR99755</th><td>cuTAR99755</td></tr>\n",
       "\t<tr><th scope=row>cuTAR99786</th><td>cuTAR99786</td></tr>\n",
       "\t<tr><th scope=row>cuTAR99816</th><td>cuTAR99816</td></tr>\n",
       "\t<tr><th scope=row>cuTAR99824</th><td>cuTAR99824</td></tr>\n",
       "\t<tr><th scope=row>cuTAR99830</th><td>cuTAR99830</td></tr>\n",
       "\t<tr><th scope=row>cuTAR99941</th><td>cuTAR99941</td></tr>\n",
       "</tbody>\n",
       "</table>\n",
       "</dd>\n",
       "\t<dt>$design</dt>\n",
       "\t\t<dd><table class=\"dataframe\">\n",
       "<caption>A matrix: 4 × 5 of type dbl</caption>\n",
       "<thead>\n",
       "\t<tr><th></th><th scope=col>Int</th><th scope=col>NoDrug_Tumor</th><th scope=col>B</th><th scope=col>C</th><th scope=col>D</th></tr>\n",
       "</thead>\n",
       "<tbody>\n",
       "\t<tr><th scope=row>1</th><td>1</td><td>1</td><td>0</td><td>0</td><td>0</td></tr>\n",
       "\t<tr><th scope=row>2</th><td>1</td><td>1</td><td>1</td><td>0</td><td>0</td></tr>\n",
       "\t<tr><th scope=row>3</th><td>1</td><td>0</td><td>0</td><td>1</td><td>0</td></tr>\n",
       "\t<tr><th scope=row>4</th><td>1</td><td>0</td><td>0</td><td>0</td><td>1</td></tr>\n",
       "</tbody>\n",
       "</table>\n",
       "</dd>\n",
       "\t<dt>$common.dispersion</dt>\n",
       "\t\t<dd>&lt;NA&gt;</dd>\n",
       "\t<dt>$trended.dispersion</dt>\n",
       "\t\t<dd>&lt;NA&gt;</dd>\n",
       "\t<dt>$tagwise.dispersion</dt>\n",
       "\t\t<dd>&lt;NA&gt;</dd>\n",
       "\t<dt>$AveLogCPM</dt>\n",
       "\t\t<dd><style>\n",
       ".list-inline {list-style: none; margin:0; padding: 0}\n",
       ".list-inline>li {display: inline-block}\n",
       ".list-inline>li:not(:last-child)::after {content: \"\\00b7\"; padding: 0 .5ex}\n",
       "</style>\n",
       "<ol class=list-inline><li>6.35186459964936</li><li>6.07734065715968</li><li>6.08216566668063</li><li>9.40980797292119</li><li>6.3305035178844</li><li>7.42995529304833</li><li>6.24123368150562</li><li>9.26220601600496</li><li>5.90011961382731</li><li>7.18564587561224</li><li>6.08027551064515</li><li>6.20236549374221</li><li>6.07734065715968</li><li>6.08027551064515</li><li>8.556333313103</li><li>6.07734065715968</li><li>6.08027551064515</li><li>7.697490835534</li><li>5.90011961382731</li><li>7.10694081316931</li><li>6.35186459964936</li><li>6.23640295784426</li><li>6.23933779701885</li><li>11.242318754081</li><li>6.20236549374221</li><li>6.08027551064515</li><li>6.3807357304395</li><li>7.6756394260482</li><li>5.90011961382731</li><li>6.20236549374221</li><li>9.07259530670747</li><li>9.29067336241506</li><li>6.08027551064515</li><li>5.90011961382731</li><li>6.06003808836144</li><li>5.90011961382731</li><li>6.07734065715968</li><li>9.29021454482815</li><li>6.07734065715968</li><li>6.3305035178844</li><li>6.07734065715968</li><li>8.64196486632865</li><li>5.90011961382731</li><li>6.08027551064515</li><li>6.06003808836144</li><li>7.95116706746774</li><li>6.70230966428342</li><li>6.60196492963437</li><li>6.59045690256359</li><li>6.5536379034171</li><li>10.4750698859416</li><li>13.1318552951958</li><li>13.3988820158425</li><li>7.78043488507017</li><li>6.07734065715968</li><li>6.07734065715968</li><li>6.23640295784426</li><li>6.06003808836144</li><li>7.30097743746301</li><li>6.06003808836144</li><li>5.90011961382731</li><li>6.08027551064515</li><li>7.92526291940335</li><li>6.20236549374221</li><li>6.07734065715968</li><li>6.90647432781003</li><li>5.90011961382731</li><li>6.97263526630395</li><li>6.52654513767991</li><li>5.90011961382731</li><li>6.08216566668063</li><li>7.62747916852767</li><li>5.90011961382731</li><li>6.5536379034171</li><li>9.37963330872208</li><li>8.30006356715548</li><li>6.51287279422225</li><li>8.80017669073766</li><li>6.20236549374221</li><li>6.06003808836144</li><li>6.07734065715968</li><li>6.39146081691952</li><li>6.20236549374221</li><li>6.3305035178844</li><li>7.27861160213831</li><li>6.08216566668063</li><li>6.06003808836144</li><li>6.08027551064515</li><li>7.29864350104227</li><li>6.23640295784426</li><li>7.24995544408959</li><li>7.15129967577035</li><li>8.12365549134958</li><li>6.23640295784426</li><li>5.90011961382731</li><li>5.90011961382731</li><li>6.64251210235062</li><li>6.06003808836144</li><li>6.38955275283534</li><li>6.24417769910565</li><li>6.08216566668063</li><li>6.24123368150562</li><li>6.08027551064515</li><li>6.24123368150562</li><li>6.24227814152968</li><li>6.23933779701885</li><li>6.08216566668063</li><li>6.08027551064515</li><li>6.08216566668063</li><li>6.07734065715968</li><li>7.06279148114789</li><li>6.20236549374221</li><li>6.22409961165388</li><li>6.06003808836144</li><li>5.90011961382731</li><li>6.35186459964936</li><li>5.90011961382731</li><li>6.07734065715968</li><li>7.44232639369988</li><li>6.20236549374221</li><li>5.90011961382731</li><li>6.23640295784426</li><li>6.35186459964936</li><li>6.24227814152968</li><li>5.90011961382731</li><li>6.08216566668063</li><li>7.63463926690858</li><li>5.90011961382731</li><li>7.03161900718259</li><li>6.74325160810979</li><li>5.90011961382731</li><li>6.87874190749482</li><li>6.59518336601398</li><li>6.61148547403417</li><li>6.93785389992265</li><li>7.11158913468427</li><li>6.44696034916366</li><li>8.16664809325344</li><li>6.3305035178844</li><li>5.90011961382731</li><li>6.23640295784426</li><li>6.3807357304395</li><li>7.47301192976291</li><li>6.20236549374221</li><li>6.24607970553034</li><li>6.07734065715968</li><li>6.47967745450551</li><li>6.62702104357471</li><li>5.90011961382731</li><li>6.3305035178844</li><li>6.24227814152968</li><li>6.52654513767991</li><li>6.2222223429317</li><li>6.07734065715968</li><li>6.08216566668063</li><li>7.80581215656298</li><li>6.06003808836144</li><li>7.98348697671141</li><li>6.70230966428342</li><li>6.75751779429804</li><li>6.34711934024103</li><li>6.06003808836144</li><li>5.90011961382731</li><li>6.3305035178844</li><li>6.06003808836144</li><li>6.07734065715968</li><li>6.24227814152968</li><li>6.08216566668063</li><li>6.23640295784426</li><li>6.07734065715968</li><li>6.08027551064515</li><li>6.07734065715968</li><li>6.20236549374221</li><li>6.08216566668063</li><li>6.78985632007585</li><li>6.44696034916366</li><li>6.21931530437852</li><li>7.81876886103793</li><li>6.44696034916366</li><li>6.65201225151587</li><li>6.08027551064515</li><li>6.79453427601167</li><li>7.15735555590049</li><li>6.59518336601398</li><li>5.90011961382731</li><li>7.04990802174178</li><li>9.47699532488352</li><li>9.67023498153249</li><li>6.77124404763654</li><li>8.2178913719844</li><li>8.47129145177833</li><li>7.44983336852251</li><li>7.03044032238774</li><li>6.08216566668063</li><li>6.07734065715968</li><li>6.64251210235062</li><li>6.24227814152968</li><li>9.11728243383227</li><li>6.86595842521099</li><li>6.08216566668063</li><li>⋯</li><li>6.20236549374221</li><li>7.17294457317675</li><li>7.75134722227519</li><li>6.06003808836144</li><li>6.23640295784426</li><li>5.90011961382731</li><li>6.20236549374221</li><li>8.57329526824972</li><li>7.18653129471577</li><li>5.90011961382731</li><li>6.24227814152968</li><li>6.08027551064515</li><li>6.07734065715968</li><li>6.08216566668063</li><li>6.07734065715968</li><li>6.07734065715968</li><li>6.24227814152968</li><li>7.08423460420406</li><li>6.07734065715968</li><li>7.8156739613113</li><li>6.92738050255308</li><li>6.07734065715968</li><li>6.08027551064515</li><li>6.06003808836144</li><li>6.20236549374221</li><li>6.65201225151587</li><li>6.3807357304395</li><li>6.60196492963437</li><li>6.07734065715968</li><li>5.90011961382731</li><li>6.46325934710473</li><li>6.44696034916366</li><li>7.84314608518628</li><li>6.06003808836144</li><li>5.90011961382731</li><li>6.5206488363371</li><li>6.3807357304395</li><li>7.96583594654638</li><li>6.3305035178844</li><li>6.23933779701885</li><li>8.51341070169098</li><li>8.29242745353388</li><li>6.23640295784426</li><li>6.08027551064515</li><li>6.08216566668063</li><li>6.69945712585707</li><li>6.08216566668063</li><li>6.08027551064515</li><li>5.90011961382731</li><li>6.38557006761006</li><li>6.81888991990838</li><li>6.06003808836144</li><li>6.07734065715968</li><li>6.06003808836144</li><li>6.3836693033992</li><li>5.90011961382731</li><li>5.90011961382731</li><li>6.44696034916366</li><li>6.08027551064515</li><li>5.90011961382731</li><li>8.09509285483784</li><li>7.27127486111055</li><li>6.08027551064515</li><li>7.14395411492485</li><li>6.48919227186784</li><li>7.07224094443507</li><li>6.64060040306958</li><li>6.23640295784426</li><li>6.08027551064515</li><li>6.20236549374221</li><li>5.90011961382731</li><li>6.46796708122147</li><li>6.68353848925067</li><li>6.08216566668063</li><li>6.3807357304395</li><li>7.0176772691519</li><li>6.24227814152968</li><li>6.5323069582805</li><li>7.44052912282162</li><li>6.44696034916366</li><li>5.90011961382731</li><li>6.77984022973554</li><li>5.90011961382731</li><li>6.20236549374221</li><li>6.34711934024103</li><li>6.3734572853812</li><li>6.46611406868372</li><li>6.06003808836144</li><li>5.90011961382731</li><li>6.87874190749482</li><li>8.39658656614636</li><li>6.3305035178844</li><li>6.3836693033992</li><li>6.23640295784426</li><li>8.02412694193638</li><li>6.08216566668063</li><li>5.90011961382731</li><li>6.24227814152968</li><li>6.6929037881074</li><li>6.21931530437852</li><li>6.38660830502149</li><li>7.82688066371052</li><li>5.90011961382731</li><li>5.90011961382731</li><li>6.07734065715968</li><li>8.44982452686784</li><li>6.08216566668063</li><li>6.34999969786854</li><li>7.25090879153122</li><li>6.08216566668063</li><li>7.9596941611501</li><li>7.58611814569194</li><li>6.20236549374221</li><li>6.23640295784426</li><li>6.44696034916366</li><li>7.04197089659068</li><li>6.08027551064515</li><li>7.59823146245933</li><li>6.22409961165388</li><li>6.36386318359411</li><li>6.07734065715968</li><li>6.24227814152968</li><li>6.72500219303021</li><li>10.6975853217752</li><li>6.08216566668063</li><li>7.53162026548368</li><li>6.38955275283534</li><li>6.07734065715968</li><li>6.74325160810979</li><li>6.24607970553034</li><li>7.13468093823189</li><li>6.07734065715968</li><li>6.3305035178844</li><li>7.49588191255888</li><li>6.24607970553034</li><li>6.07734065715968</li><li>9.21467051008271</li><li>6.08216566668063</li><li>6.89237295469716</li><li>6.44696034916366</li><li>7.80233303893899</li><li>6.20236549374221</li><li>6.20236549374221</li><li>6.46611406868372</li><li>6.20236549374221</li><li>6.23640295784426</li><li>6.07734065715968</li><li>6.08027551064515</li><li>6.44696034916366</li><li>6.607727001284</li><li>6.06003808836144</li><li>6.34711934024103</li><li>5.90011961382731</li><li>7.19377944450508</li><li>5.90011961382731</li><li>6.21931530437852</li><li>6.23640295784426</li><li>8.71202707938631</li><li>6.23640295784426</li><li>6.2222223429317</li><li>7.07472547298886</li><li>6.46611406868372</li><li>6.24607970553034</li><li>6.35186459964936</li><li>6.24417769910565</li><li>6.08027551064515</li><li>6.06003808836144</li><li>6.07734065715968</li><li>5.90011961382731</li><li>7.22041104065898</li><li>6.6723603680844</li><li>5.90011961382731</li><li>6.08027551064515</li><li>6.64060040306958</li><li>5.90011961382731</li><li>7.0877359394003</li><li>6.22409961165388</li><li>9.5008535587027</li><li>6.51580392142795</li><li>5.90011961382731</li><li>6.44696034916366</li><li>9.94797059924596</li><li>6.07734065715968</li><li>5.90011961382731</li><li>6.46325934710473</li><li>6.08216566668063</li><li>6.06003808836144</li><li>6.2222223429317</li><li>6.06003808836144</li><li>7.46174720614584</li><li>6.82829613237995</li><li>6.08027551064515</li><li>6.5284632855172</li><li>6.65201225151587</li><li>7.15740853498228</li><li>6.20236549374221</li><li>6.78351921499143</li><li>6.06003808836144</li><li>6.95375425924138</li><li>6.08216566668063</li></ol>\n",
       "</dd>\n",
       "\t<dt>$trend.method</dt>\n",
       "\t\t<dd>'locfit'</dd>\n",
       "</dl>\n"
      ],
      "text/latex": [
       "\\begin{description}\n",
       "\\item[\\$counts] A matrix: 15237 × 4 of type dbl\n",
       "\\begin{tabular}{r|llll}\n",
       "  & A\\_clusterNoDrug\\_Tumor & B\\_clusterNoDrug\\_Tumor & C\\_clusterDrug\\_Tumor & D\\_clusterDrug\\_Tumor\\\\\n",
       "\\hline\n",
       "\tcuTAR100000 &   2 &  0 &  1 &  0\\\\\n",
       "\tcuTAR10001 &   0 &  1 &  0 &  0\\\\\n",
       "\tcuTAR100102 &   0 &  0 &  1 &  0\\\\\n",
       "\tcuTAR100103 &  47 & 16 & 11 & 12\\\\\n",
       "\tcuTAR100104 &   3 &  0 &  0 &  0\\\\\n",
       "\tcuTAR100106 &   7 &  2 &  1 &  5\\\\\n",
       "\tcuTAR100108 &   0 &  1 &  1 &  0\\\\\n",
       "\tcuTAR100131 &  37 & 20 & 11 &  7\\\\\n",
       "\tcuTAR100174 &   0 &  0 &  0 &  0\\\\\n",
       "\tcuTAR100175 &   8 &  1 &  0 &  3\\\\\n",
       "\tcuTAR100204 &   0 &  0 &  0 &  1\\\\\n",
       "\tcuTAR100205 &   2 &  0 &  0 &  0\\\\\n",
       "\tcuTAR100208 &   0 &  1 &  0 &  0\\\\\n",
       "\tcuTAR100342 &   0 &  0 &  0 &  1\\\\\n",
       "\tcuTAR10035 &   0 & 13 & 10 & 12\\\\\n",
       "\tcuTAR100350 &   0 &  1 &  0 &  0\\\\\n",
       "\tcuTAR10037 &   0 &  0 &  0 &  1\\\\\n",
       "\tcuTAR100371 &  14 &  3 &  0 &  4\\\\\n",
       "\tcuTAR10039 &   0 &  0 &  0 &  0\\\\\n",
       "\tcuTAR100395 &   8 &  0 &  1 &  2\\\\\n",
       "\tcuTAR10040 &   2 &  0 &  1 &  0\\\\\n",
       "\tcuTAR100438 &   0 &  2 &  0 &  0\\\\\n",
       "\tcuTAR100491 &   0 &  1 &  0 &  1\\\\\n",
       "\tcuTAR100492 & 163 & 62 & 45 & 51\\\\\n",
       "\tcuTAR100508 &   2 &  0 &  0 &  0\\\\\n",
       "\tcuTAR100513 &   0 &  0 &  0 &  1\\\\\n",
       "\tcuTAR100536 &   0 &  3 &  0 &  0\\\\\n",
       "\tcuTAR100541 &   7 &  8 &  0 &  4\\\\\n",
       "\tcuTAR100542 &   0 &  0 &  0 &  0\\\\\n",
       "\tcuTAR100543 &   2 &  0 &  0 &  0\\\\\n",
       "\t⋮ & ⋮ & ⋮ & ⋮ & ⋮\\\\\n",
       "\tcuTAR98229 &   5 &  0 &  1 & 0\\\\\n",
       "\tcuTAR9828 &   0 &  0 &  0 & 0\\\\\n",
       "\tcuTAR98374 &   0 &  0 &  0 & 1\\\\\n",
       "\tcuTAR98378 &   0 &  3 &  0 & 2\\\\\n",
       "\tcuTAR98455 &   0 &  0 &  0 & 0\\\\\n",
       "\tcuTAR98505 &   9 &  0 &  0 & 2\\\\\n",
       "\tcuTAR98506 &   1 &  0 &  1 & 0\\\\\n",
       "\tcuTAR98509 &  64 & 19 &  8 & 8\\\\\n",
       "\tcuTAR98511 &   0 &  3 &  0 & 1\\\\\n",
       "\tcuTAR98646 &   0 &  0 &  0 & 0\\\\\n",
       "\tcuTAR98941 &   4 &  0 &  0 & 0\\\\\n",
       "\tcuTAR99093 & 100 & 20 & 23 & 0\\\\\n",
       "\tcuTAR99094 &   0 &  1 &  0 & 0\\\\\n",
       "\tcuTAR9933 &   0 &  0 &  0 & 0\\\\\n",
       "\tcuTAR99405 &   3 &  1 &  0 & 0\\\\\n",
       "\tcuTAR99424 &   0 &  0 &  1 & 0\\\\\n",
       "\tcuTAR9944 &   1 &  0 &  0 & 0\\\\\n",
       "\tcuTAR99444 &   1 &  0 &  0 & 1\\\\\n",
       "\tcuTAR99475 &   1 &  0 &  0 & 0\\\\\n",
       "\tcuTAR99577 &   0 & 10 &  4 & 0\\\\\n",
       "\tcuTAR99596 &   8 &  0 &  0 & 0\\\\\n",
       "\tcuTAR99598 &   0 &  0 &  0 & 1\\\\\n",
       "\tcuTAR99599 &   0 &  0 &  2 & 2\\\\\n",
       "\tcuTAR99642 &   6 &  0 &  0 & 0\\\\\n",
       "\tcuTAR99755 &   0 &  3 &  2 & 5\\\\\n",
       "\tcuTAR99786 &   2 &  0 &  0 & 0\\\\\n",
       "\tcuTAR99816 &   5 &  0 &  2 & 0\\\\\n",
       "\tcuTAR99824 &   1 &  0 &  0 & 0\\\\\n",
       "\tcuTAR99830 &   1 &  3 &  3 & 1\\\\\n",
       "\tcuTAR99941 &   0 &  0 &  1 & 0\\\\\n",
       "\\end{tabular}\n",
       "\n",
       "\\item[\\$samples] A data.frame: 4 × 5\n",
       "\\begin{tabular}{r|lllll}\n",
       "  & group & lib.size & norm.factors & sample & cluster\\\\\n",
       "  & <fct> & <dbl> & <dbl> & <chr> & <chr>\\\\\n",
       "\\hline\n",
       "\tA\\_clusterNoDrug\\_Tumor & 1 & 73801 & 0.8843864 & A & NoDrug\\_Tumor\\\\\n",
       "\tB\\_clusterNoDrug\\_Tumor & 1 & 26502 & 1.0477991 & B & NoDrug\\_Tumor\\\\\n",
       "\tC\\_clusterDrug\\_Tumor & 1 & 17719 & 1.0560356 & C & Drug\\_Tumor  \\\\\n",
       "\tD\\_clusterDrug\\_Tumor & 1 & 21720 & 1.0218835 & D & Drug\\_Tumor  \\\\\n",
       "\\end{tabular}\n",
       "\n",
       "\\item[\\$genes] A data.frame: 15237 × 1\n",
       "\\begin{tabular}{r|l}\n",
       "  & gene\\\\\n",
       "  & <chr>\\\\\n",
       "\\hline\n",
       "\tcuTAR100000 & cuTAR100000\\\\\n",
       "\tcuTAR10001 & cuTAR10001 \\\\\n",
       "\tcuTAR100102 & cuTAR100102\\\\\n",
       "\tcuTAR100103 & cuTAR100103\\\\\n",
       "\tcuTAR100104 & cuTAR100104\\\\\n",
       "\tcuTAR100106 & cuTAR100106\\\\\n",
       "\tcuTAR100108 & cuTAR100108\\\\\n",
       "\tcuTAR100131 & cuTAR100131\\\\\n",
       "\tcuTAR100174 & cuTAR100174\\\\\n",
       "\tcuTAR100175 & cuTAR100175\\\\\n",
       "\tcuTAR100204 & cuTAR100204\\\\\n",
       "\tcuTAR100205 & cuTAR100205\\\\\n",
       "\tcuTAR100208 & cuTAR100208\\\\\n",
       "\tcuTAR100342 & cuTAR100342\\\\\n",
       "\tcuTAR10035 & cuTAR10035 \\\\\n",
       "\tcuTAR100350 & cuTAR100350\\\\\n",
       "\tcuTAR10037 & cuTAR10037 \\\\\n",
       "\tcuTAR100371 & cuTAR100371\\\\\n",
       "\tcuTAR10039 & cuTAR10039 \\\\\n",
       "\tcuTAR100395 & cuTAR100395\\\\\n",
       "\tcuTAR10040 & cuTAR10040 \\\\\n",
       "\tcuTAR100438 & cuTAR100438\\\\\n",
       "\tcuTAR100491 & cuTAR100491\\\\\n",
       "\tcuTAR100492 & cuTAR100492\\\\\n",
       "\tcuTAR100508 & cuTAR100508\\\\\n",
       "\tcuTAR100513 & cuTAR100513\\\\\n",
       "\tcuTAR100536 & cuTAR100536\\\\\n",
       "\tcuTAR100541 & cuTAR100541\\\\\n",
       "\tcuTAR100542 & cuTAR100542\\\\\n",
       "\tcuTAR100543 & cuTAR100543\\\\\n",
       "\t⋮ & ⋮\\\\\n",
       "\tcuTAR98229 & cuTAR98229\\\\\n",
       "\tcuTAR9828 & cuTAR9828 \\\\\n",
       "\tcuTAR98374 & cuTAR98374\\\\\n",
       "\tcuTAR98378 & cuTAR98378\\\\\n",
       "\tcuTAR98455 & cuTAR98455\\\\\n",
       "\tcuTAR98505 & cuTAR98505\\\\\n",
       "\tcuTAR98506 & cuTAR98506\\\\\n",
       "\tcuTAR98509 & cuTAR98509\\\\\n",
       "\tcuTAR98511 & cuTAR98511\\\\\n",
       "\tcuTAR98646 & cuTAR98646\\\\\n",
       "\tcuTAR98941 & cuTAR98941\\\\\n",
       "\tcuTAR99093 & cuTAR99093\\\\\n",
       "\tcuTAR99094 & cuTAR99094\\\\\n",
       "\tcuTAR9933 & cuTAR9933 \\\\\n",
       "\tcuTAR99405 & cuTAR99405\\\\\n",
       "\tcuTAR99424 & cuTAR99424\\\\\n",
       "\tcuTAR9944 & cuTAR9944 \\\\\n",
       "\tcuTAR99444 & cuTAR99444\\\\\n",
       "\tcuTAR99475 & cuTAR99475\\\\\n",
       "\tcuTAR99577 & cuTAR99577\\\\\n",
       "\tcuTAR99596 & cuTAR99596\\\\\n",
       "\tcuTAR99598 & cuTAR99598\\\\\n",
       "\tcuTAR99599 & cuTAR99599\\\\\n",
       "\tcuTAR99642 & cuTAR99642\\\\\n",
       "\tcuTAR99755 & cuTAR99755\\\\\n",
       "\tcuTAR99786 & cuTAR99786\\\\\n",
       "\tcuTAR99816 & cuTAR99816\\\\\n",
       "\tcuTAR99824 & cuTAR99824\\\\\n",
       "\tcuTAR99830 & cuTAR99830\\\\\n",
       "\tcuTAR99941 & cuTAR99941\\\\\n",
       "\\end{tabular}\n",
       "\n",
       "\\item[\\$design] A matrix: 4 × 5 of type dbl\n",
       "\\begin{tabular}{r|lllll}\n",
       "  & Int & NoDrug\\_Tumor & B & C & D\\\\\n",
       "\\hline\n",
       "\t1 & 1 & 1 & 0 & 0 & 0\\\\\n",
       "\t2 & 1 & 1 & 1 & 0 & 0\\\\\n",
       "\t3 & 1 & 0 & 0 & 1 & 0\\\\\n",
       "\t4 & 1 & 0 & 0 & 0 & 1\\\\\n",
       "\\end{tabular}\n",
       "\n",
       "\\item[\\$common.dispersion] <NA>\n",
       "\\item[\\$trended.dispersion] <NA>\n",
       "\\item[\\$tagwise.dispersion] <NA>\n",
       "\\item[\\$AveLogCPM] \\begin{enumerate*}\n",
       "\\item 6.35186459964936\n",
       "\\item 6.07734065715968\n",
       "\\item 6.08216566668063\n",
       "\\item 9.40980797292119\n",
       "\\item 6.3305035178844\n",
       "\\item 7.42995529304833\n",
       "\\item 6.24123368150562\n",
       "\\item 9.26220601600496\n",
       "\\item 5.90011961382731\n",
       "\\item 7.18564587561224\n",
       "\\item 6.08027551064515\n",
       "\\item 6.20236549374221\n",
       "\\item 6.07734065715968\n",
       "\\item 6.08027551064515\n",
       "\\item 8.556333313103\n",
       "\\item 6.07734065715968\n",
       "\\item 6.08027551064515\n",
       "\\item 7.697490835534\n",
       "\\item 5.90011961382731\n",
       "\\item 7.10694081316931\n",
       "\\item 6.35186459964936\n",
       "\\item 6.23640295784426\n",
       "\\item 6.23933779701885\n",
       "\\item 11.242318754081\n",
       "\\item 6.20236549374221\n",
       "\\item 6.08027551064515\n",
       "\\item 6.3807357304395\n",
       "\\item 7.6756394260482\n",
       "\\item 5.90011961382731\n",
       "\\item 6.20236549374221\n",
       "\\item 9.07259530670747\n",
       "\\item 9.29067336241506\n",
       "\\item 6.08027551064515\n",
       "\\item 5.90011961382731\n",
       "\\item 6.06003808836144\n",
       "\\item 5.90011961382731\n",
       "\\item 6.07734065715968\n",
       "\\item 9.29021454482815\n",
       "\\item 6.07734065715968\n",
       "\\item 6.3305035178844\n",
       "\\item 6.07734065715968\n",
       "\\item 8.64196486632865\n",
       "\\item 5.90011961382731\n",
       "\\item 6.08027551064515\n",
       "\\item 6.06003808836144\n",
       "\\item 7.95116706746774\n",
       "\\item 6.70230966428342\n",
       "\\item 6.60196492963437\n",
       "\\item 6.59045690256359\n",
       "\\item 6.5536379034171\n",
       "\\item 10.4750698859416\n",
       "\\item 13.1318552951958\n",
       "\\item 13.3988820158425\n",
       "\\item 7.78043488507017\n",
       "\\item 6.07734065715968\n",
       "\\item 6.07734065715968\n",
       "\\item 6.23640295784426\n",
       "\\item 6.06003808836144\n",
       "\\item 7.30097743746301\n",
       "\\item 6.06003808836144\n",
       "\\item 5.90011961382731\n",
       "\\item 6.08027551064515\n",
       "\\item 7.92526291940335\n",
       "\\item 6.20236549374221\n",
       "\\item 6.07734065715968\n",
       "\\item 6.90647432781003\n",
       "\\item 5.90011961382731\n",
       "\\item 6.97263526630395\n",
       "\\item 6.52654513767991\n",
       "\\item 5.90011961382731\n",
       "\\item 6.08216566668063\n",
       "\\item 7.62747916852767\n",
       "\\item 5.90011961382731\n",
       "\\item 6.5536379034171\n",
       "\\item 9.37963330872208\n",
       "\\item 8.30006356715548\n",
       "\\item 6.51287279422225\n",
       "\\item 8.80017669073766\n",
       "\\item 6.20236549374221\n",
       "\\item 6.06003808836144\n",
       "\\item 6.07734065715968\n",
       "\\item 6.39146081691952\n",
       "\\item 6.20236549374221\n",
       "\\item 6.3305035178844\n",
       "\\item 7.27861160213831\n",
       "\\item 6.08216566668063\n",
       "\\item 6.06003808836144\n",
       "\\item 6.08027551064515\n",
       "\\item 7.29864350104227\n",
       "\\item 6.23640295784426\n",
       "\\item 7.24995544408959\n",
       "\\item 7.15129967577035\n",
       "\\item 8.12365549134958\n",
       "\\item 6.23640295784426\n",
       "\\item 5.90011961382731\n",
       "\\item 5.90011961382731\n",
       "\\item 6.64251210235062\n",
       "\\item 6.06003808836144\n",
       "\\item 6.38955275283534\n",
       "\\item 6.24417769910565\n",
       "\\item 6.08216566668063\n",
       "\\item 6.24123368150562\n",
       "\\item 6.08027551064515\n",
       "\\item 6.24123368150562\n",
       "\\item 6.24227814152968\n",
       "\\item 6.23933779701885\n",
       "\\item 6.08216566668063\n",
       "\\item 6.08027551064515\n",
       "\\item 6.08216566668063\n",
       "\\item 6.07734065715968\n",
       "\\item 7.06279148114789\n",
       "\\item 6.20236549374221\n",
       "\\item 6.22409961165388\n",
       "\\item 6.06003808836144\n",
       "\\item 5.90011961382731\n",
       "\\item 6.35186459964936\n",
       "\\item 5.90011961382731\n",
       "\\item 6.07734065715968\n",
       "\\item 7.44232639369988\n",
       "\\item 6.20236549374221\n",
       "\\item 5.90011961382731\n",
       "\\item 6.23640295784426\n",
       "\\item 6.35186459964936\n",
       "\\item 6.24227814152968\n",
       "\\item 5.90011961382731\n",
       "\\item 6.08216566668063\n",
       "\\item 7.63463926690858\n",
       "\\item 5.90011961382731\n",
       "\\item 7.03161900718259\n",
       "\\item 6.74325160810979\n",
       "\\item 5.90011961382731\n",
       "\\item 6.87874190749482\n",
       "\\item 6.59518336601398\n",
       "\\item 6.61148547403417\n",
       "\\item 6.93785389992265\n",
       "\\item 7.11158913468427\n",
       "\\item 6.44696034916366\n",
       "\\item 8.16664809325344\n",
       "\\item 6.3305035178844\n",
       "\\item 5.90011961382731\n",
       "\\item 6.23640295784426\n",
       "\\item 6.3807357304395\n",
       "\\item 7.47301192976291\n",
       "\\item 6.20236549374221\n",
       "\\item 6.24607970553034\n",
       "\\item 6.07734065715968\n",
       "\\item 6.47967745450551\n",
       "\\item 6.62702104357471\n",
       "\\item 5.90011961382731\n",
       "\\item 6.3305035178844\n",
       "\\item 6.24227814152968\n",
       "\\item 6.52654513767991\n",
       "\\item 6.2222223429317\n",
       "\\item 6.07734065715968\n",
       "\\item 6.08216566668063\n",
       "\\item 7.80581215656298\n",
       "\\item 6.06003808836144\n",
       "\\item 7.98348697671141\n",
       "\\item 6.70230966428342\n",
       "\\item 6.75751779429804\n",
       "\\item 6.34711934024103\n",
       "\\item 6.06003808836144\n",
       "\\item 5.90011961382731\n",
       "\\item 6.3305035178844\n",
       "\\item 6.06003808836144\n",
       "\\item 6.07734065715968\n",
       "\\item 6.24227814152968\n",
       "\\item 6.08216566668063\n",
       "\\item 6.23640295784426\n",
       "\\item 6.07734065715968\n",
       "\\item 6.08027551064515\n",
       "\\item 6.07734065715968\n",
       "\\item 6.20236549374221\n",
       "\\item 6.08216566668063\n",
       "\\item 6.78985632007585\n",
       "\\item 6.44696034916366\n",
       "\\item 6.21931530437852\n",
       "\\item 7.81876886103793\n",
       "\\item 6.44696034916366\n",
       "\\item 6.65201225151587\n",
       "\\item 6.08027551064515\n",
       "\\item 6.79453427601167\n",
       "\\item 7.15735555590049\n",
       "\\item 6.59518336601398\n",
       "\\item 5.90011961382731\n",
       "\\item 7.04990802174178\n",
       "\\item 9.47699532488352\n",
       "\\item 9.67023498153249\n",
       "\\item 6.77124404763654\n",
       "\\item 8.2178913719844\n",
       "\\item 8.47129145177833\n",
       "\\item 7.44983336852251\n",
       "\\item 7.03044032238774\n",
       "\\item 6.08216566668063\n",
       "\\item 6.07734065715968\n",
       "\\item 6.64251210235062\n",
       "\\item 6.24227814152968\n",
       "\\item 9.11728243383227\n",
       "\\item 6.86595842521099\n",
       "\\item 6.08216566668063\n",
       "\\item ⋯\n",
       "\\item 6.20236549374221\n",
       "\\item 7.17294457317675\n",
       "\\item 7.75134722227519\n",
       "\\item 6.06003808836144\n",
       "\\item 6.23640295784426\n",
       "\\item 5.90011961382731\n",
       "\\item 6.20236549374221\n",
       "\\item 8.57329526824972\n",
       "\\item 7.18653129471577\n",
       "\\item 5.90011961382731\n",
       "\\item 6.24227814152968\n",
       "\\item 6.08027551064515\n",
       "\\item 6.07734065715968\n",
       "\\item 6.08216566668063\n",
       "\\item 6.07734065715968\n",
       "\\item 6.07734065715968\n",
       "\\item 6.24227814152968\n",
       "\\item 7.08423460420406\n",
       "\\item 6.07734065715968\n",
       "\\item 7.8156739613113\n",
       "\\item 6.92738050255308\n",
       "\\item 6.07734065715968\n",
       "\\item 6.08027551064515\n",
       "\\item 6.06003808836144\n",
       "\\item 6.20236549374221\n",
       "\\item 6.65201225151587\n",
       "\\item 6.3807357304395\n",
       "\\item 6.60196492963437\n",
       "\\item 6.07734065715968\n",
       "\\item 5.90011961382731\n",
       "\\item 6.46325934710473\n",
       "\\item 6.44696034916366\n",
       "\\item 7.84314608518628\n",
       "\\item 6.06003808836144\n",
       "\\item 5.90011961382731\n",
       "\\item 6.5206488363371\n",
       "\\item 6.3807357304395\n",
       "\\item 7.96583594654638\n",
       "\\item 6.3305035178844\n",
       "\\item 6.23933779701885\n",
       "\\item 8.51341070169098\n",
       "\\item 8.29242745353388\n",
       "\\item 6.23640295784426\n",
       "\\item 6.08027551064515\n",
       "\\item 6.08216566668063\n",
       "\\item 6.69945712585707\n",
       "\\item 6.08216566668063\n",
       "\\item 6.08027551064515\n",
       "\\item 5.90011961382731\n",
       "\\item 6.38557006761006\n",
       "\\item 6.81888991990838\n",
       "\\item 6.06003808836144\n",
       "\\item 6.07734065715968\n",
       "\\item 6.06003808836144\n",
       "\\item 6.3836693033992\n",
       "\\item 5.90011961382731\n",
       "\\item 5.90011961382731\n",
       "\\item 6.44696034916366\n",
       "\\item 6.08027551064515\n",
       "\\item 5.90011961382731\n",
       "\\item 8.09509285483784\n",
       "\\item 7.27127486111055\n",
       "\\item 6.08027551064515\n",
       "\\item 7.14395411492485\n",
       "\\item 6.48919227186784\n",
       "\\item 7.07224094443507\n",
       "\\item 6.64060040306958\n",
       "\\item 6.23640295784426\n",
       "\\item 6.08027551064515\n",
       "\\item 6.20236549374221\n",
       "\\item 5.90011961382731\n",
       "\\item 6.46796708122147\n",
       "\\item 6.68353848925067\n",
       "\\item 6.08216566668063\n",
       "\\item 6.3807357304395\n",
       "\\item 7.0176772691519\n",
       "\\item 6.24227814152968\n",
       "\\item 6.5323069582805\n",
       "\\item 7.44052912282162\n",
       "\\item 6.44696034916366\n",
       "\\item 5.90011961382731\n",
       "\\item 6.77984022973554\n",
       "\\item 5.90011961382731\n",
       "\\item 6.20236549374221\n",
       "\\item 6.34711934024103\n",
       "\\item 6.3734572853812\n",
       "\\item 6.46611406868372\n",
       "\\item 6.06003808836144\n",
       "\\item 5.90011961382731\n",
       "\\item 6.87874190749482\n",
       "\\item 8.39658656614636\n",
       "\\item 6.3305035178844\n",
       "\\item 6.3836693033992\n",
       "\\item 6.23640295784426\n",
       "\\item 8.02412694193638\n",
       "\\item 6.08216566668063\n",
       "\\item 5.90011961382731\n",
       "\\item 6.24227814152968\n",
       "\\item 6.6929037881074\n",
       "\\item 6.21931530437852\n",
       "\\item 6.38660830502149\n",
       "\\item 7.82688066371052\n",
       "\\item 5.90011961382731\n",
       "\\item 5.90011961382731\n",
       "\\item 6.07734065715968\n",
       "\\item 8.44982452686784\n",
       "\\item 6.08216566668063\n",
       "\\item 6.34999969786854\n",
       "\\item 7.25090879153122\n",
       "\\item 6.08216566668063\n",
       "\\item 7.9596941611501\n",
       "\\item 7.58611814569194\n",
       "\\item 6.20236549374221\n",
       "\\item 6.23640295784426\n",
       "\\item 6.44696034916366\n",
       "\\item 7.04197089659068\n",
       "\\item 6.08027551064515\n",
       "\\item 7.59823146245933\n",
       "\\item 6.22409961165388\n",
       "\\item 6.36386318359411\n",
       "\\item 6.07734065715968\n",
       "\\item 6.24227814152968\n",
       "\\item 6.72500219303021\n",
       "\\item 10.6975853217752\n",
       "\\item 6.08216566668063\n",
       "\\item 7.53162026548368\n",
       "\\item 6.38955275283534\n",
       "\\item 6.07734065715968\n",
       "\\item 6.74325160810979\n",
       "\\item 6.24607970553034\n",
       "\\item 7.13468093823189\n",
       "\\item 6.07734065715968\n",
       "\\item 6.3305035178844\n",
       "\\item 7.49588191255888\n",
       "\\item 6.24607970553034\n",
       "\\item 6.07734065715968\n",
       "\\item 9.21467051008271\n",
       "\\item 6.08216566668063\n",
       "\\item 6.89237295469716\n",
       "\\item 6.44696034916366\n",
       "\\item 7.80233303893899\n",
       "\\item 6.20236549374221\n",
       "\\item 6.20236549374221\n",
       "\\item 6.46611406868372\n",
       "\\item 6.20236549374221\n",
       "\\item 6.23640295784426\n",
       "\\item 6.07734065715968\n",
       "\\item 6.08027551064515\n",
       "\\item 6.44696034916366\n",
       "\\item 6.607727001284\n",
       "\\item 6.06003808836144\n",
       "\\item 6.34711934024103\n",
       "\\item 5.90011961382731\n",
       "\\item 7.19377944450508\n",
       "\\item 5.90011961382731\n",
       "\\item 6.21931530437852\n",
       "\\item 6.23640295784426\n",
       "\\item 8.71202707938631\n",
       "\\item 6.23640295784426\n",
       "\\item 6.2222223429317\n",
       "\\item 7.07472547298886\n",
       "\\item 6.46611406868372\n",
       "\\item 6.24607970553034\n",
       "\\item 6.35186459964936\n",
       "\\item 6.24417769910565\n",
       "\\item 6.08027551064515\n",
       "\\item 6.06003808836144\n",
       "\\item 6.07734065715968\n",
       "\\item 5.90011961382731\n",
       "\\item 7.22041104065898\n",
       "\\item 6.6723603680844\n",
       "\\item 5.90011961382731\n",
       "\\item 6.08027551064515\n",
       "\\item 6.64060040306958\n",
       "\\item 5.90011961382731\n",
       "\\item 7.0877359394003\n",
       "\\item 6.22409961165388\n",
       "\\item 9.5008535587027\n",
       "\\item 6.51580392142795\n",
       "\\item 5.90011961382731\n",
       "\\item 6.44696034916366\n",
       "\\item 9.94797059924596\n",
       "\\item 6.07734065715968\n",
       "\\item 5.90011961382731\n",
       "\\item 6.46325934710473\n",
       "\\item 6.08216566668063\n",
       "\\item 6.06003808836144\n",
       "\\item 6.2222223429317\n",
       "\\item 6.06003808836144\n",
       "\\item 7.46174720614584\n",
       "\\item 6.82829613237995\n",
       "\\item 6.08027551064515\n",
       "\\item 6.5284632855172\n",
       "\\item 6.65201225151587\n",
       "\\item 7.15740853498228\n",
       "\\item 6.20236549374221\n",
       "\\item 6.78351921499143\n",
       "\\item 6.06003808836144\n",
       "\\item 6.95375425924138\n",
       "\\item 6.08216566668063\n",
       "\\end{enumerate*}\n",
       "\n",
       "\\item[\\$trend.method] 'locfit'\n",
       "\\end{description}\n"
      ],
      "text/markdown": [
       "$counts\n",
       ":   \n",
       "A matrix: 15237 × 4 of type dbl\n",
       "\n",
       "| <!--/--> | A_clusterNoDrug_Tumor | B_clusterNoDrug_Tumor | C_clusterDrug_Tumor | D_clusterDrug_Tumor |\n",
       "|---|---|---|---|---|\n",
       "| cuTAR100000 |   2 |  0 |  1 |  0 |\n",
       "| cuTAR10001 |   0 |  1 |  0 |  0 |\n",
       "| cuTAR100102 |   0 |  0 |  1 |  0 |\n",
       "| cuTAR100103 |  47 | 16 | 11 | 12 |\n",
       "| cuTAR100104 |   3 |  0 |  0 |  0 |\n",
       "| cuTAR100106 |   7 |  2 |  1 |  5 |\n",
       "| cuTAR100108 |   0 |  1 |  1 |  0 |\n",
       "| cuTAR100131 |  37 | 20 | 11 |  7 |\n",
       "| cuTAR100174 |   0 |  0 |  0 |  0 |\n",
       "| cuTAR100175 |   8 |  1 |  0 |  3 |\n",
       "| cuTAR100204 |   0 |  0 |  0 |  1 |\n",
       "| cuTAR100205 |   2 |  0 |  0 |  0 |\n",
       "| cuTAR100208 |   0 |  1 |  0 |  0 |\n",
       "| cuTAR100342 |   0 |  0 |  0 |  1 |\n",
       "| cuTAR10035 |   0 | 13 | 10 | 12 |\n",
       "| cuTAR100350 |   0 |  1 |  0 |  0 |\n",
       "| cuTAR10037 |   0 |  0 |  0 |  1 |\n",
       "| cuTAR100371 |  14 |  3 |  0 |  4 |\n",
       "| cuTAR10039 |   0 |  0 |  0 |  0 |\n",
       "| cuTAR100395 |   8 |  0 |  1 |  2 |\n",
       "| cuTAR10040 |   2 |  0 |  1 |  0 |\n",
       "| cuTAR100438 |   0 |  2 |  0 |  0 |\n",
       "| cuTAR100491 |   0 |  1 |  0 |  1 |\n",
       "| cuTAR100492 | 163 | 62 | 45 | 51 |\n",
       "| cuTAR100508 |   2 |  0 |  0 |  0 |\n",
       "| cuTAR100513 |   0 |  0 |  0 |  1 |\n",
       "| cuTAR100536 |   0 |  3 |  0 |  0 |\n",
       "| cuTAR100541 |   7 |  8 |  0 |  4 |\n",
       "| cuTAR100542 |   0 |  0 |  0 |  0 |\n",
       "| cuTAR100543 |   2 |  0 |  0 |  0 |\n",
       "| ⋮ | ⋮ | ⋮ | ⋮ | ⋮ |\n",
       "| cuTAR98229 |   5 |  0 |  1 | 0 |\n",
       "| cuTAR9828 |   0 |  0 |  0 | 0 |\n",
       "| cuTAR98374 |   0 |  0 |  0 | 1 |\n",
       "| cuTAR98378 |   0 |  3 |  0 | 2 |\n",
       "| cuTAR98455 |   0 |  0 |  0 | 0 |\n",
       "| cuTAR98505 |   9 |  0 |  0 | 2 |\n",
       "| cuTAR98506 |   1 |  0 |  1 | 0 |\n",
       "| cuTAR98509 |  64 | 19 |  8 | 8 |\n",
       "| cuTAR98511 |   0 |  3 |  0 | 1 |\n",
       "| cuTAR98646 |   0 |  0 |  0 | 0 |\n",
       "| cuTAR98941 |   4 |  0 |  0 | 0 |\n",
       "| cuTAR99093 | 100 | 20 | 23 | 0 |\n",
       "| cuTAR99094 |   0 |  1 |  0 | 0 |\n",
       "| cuTAR9933 |   0 |  0 |  0 | 0 |\n",
       "| cuTAR99405 |   3 |  1 |  0 | 0 |\n",
       "| cuTAR99424 |   0 |  0 |  1 | 0 |\n",
       "| cuTAR9944 |   1 |  0 |  0 | 0 |\n",
       "| cuTAR99444 |   1 |  0 |  0 | 1 |\n",
       "| cuTAR99475 |   1 |  0 |  0 | 0 |\n",
       "| cuTAR99577 |   0 | 10 |  4 | 0 |\n",
       "| cuTAR99596 |   8 |  0 |  0 | 0 |\n",
       "| cuTAR99598 |   0 |  0 |  0 | 1 |\n",
       "| cuTAR99599 |   0 |  0 |  2 | 2 |\n",
       "| cuTAR99642 |   6 |  0 |  0 | 0 |\n",
       "| cuTAR99755 |   0 |  3 |  2 | 5 |\n",
       "| cuTAR99786 |   2 |  0 |  0 | 0 |\n",
       "| cuTAR99816 |   5 |  0 |  2 | 0 |\n",
       "| cuTAR99824 |   1 |  0 |  0 | 0 |\n",
       "| cuTAR99830 |   1 |  3 |  3 | 1 |\n",
       "| cuTAR99941 |   0 |  0 |  1 | 0 |\n",
       "\n",
       "\n",
       "$samples\n",
       ":   \n",
       "A data.frame: 4 × 5\n",
       "\n",
       "| <!--/--> | group &lt;fct&gt; | lib.size &lt;dbl&gt; | norm.factors &lt;dbl&gt; | sample &lt;chr&gt; | cluster &lt;chr&gt; |\n",
       "|---|---|---|---|---|---|\n",
       "| A_clusterNoDrug_Tumor | 1 | 73801 | 0.8843864 | A | NoDrug_Tumor |\n",
       "| B_clusterNoDrug_Tumor | 1 | 26502 | 1.0477991 | B | NoDrug_Tumor |\n",
       "| C_clusterDrug_Tumor | 1 | 17719 | 1.0560356 | C | Drug_Tumor   |\n",
       "| D_clusterDrug_Tumor | 1 | 21720 | 1.0218835 | D | Drug_Tumor   |\n",
       "\n",
       "\n",
       "$genes\n",
       ":   \n",
       "A data.frame: 15237 × 1\n",
       "\n",
       "| <!--/--> | gene &lt;chr&gt; |\n",
       "|---|---|\n",
       "| cuTAR100000 | cuTAR100000 |\n",
       "| cuTAR10001 | cuTAR10001  |\n",
       "| cuTAR100102 | cuTAR100102 |\n",
       "| cuTAR100103 | cuTAR100103 |\n",
       "| cuTAR100104 | cuTAR100104 |\n",
       "| cuTAR100106 | cuTAR100106 |\n",
       "| cuTAR100108 | cuTAR100108 |\n",
       "| cuTAR100131 | cuTAR100131 |\n",
       "| cuTAR100174 | cuTAR100174 |\n",
       "| cuTAR100175 | cuTAR100175 |\n",
       "| cuTAR100204 | cuTAR100204 |\n",
       "| cuTAR100205 | cuTAR100205 |\n",
       "| cuTAR100208 | cuTAR100208 |\n",
       "| cuTAR100342 | cuTAR100342 |\n",
       "| cuTAR10035 | cuTAR10035  |\n",
       "| cuTAR100350 | cuTAR100350 |\n",
       "| cuTAR10037 | cuTAR10037  |\n",
       "| cuTAR100371 | cuTAR100371 |\n",
       "| cuTAR10039 | cuTAR10039  |\n",
       "| cuTAR100395 | cuTAR100395 |\n",
       "| cuTAR10040 | cuTAR10040  |\n",
       "| cuTAR100438 | cuTAR100438 |\n",
       "| cuTAR100491 | cuTAR100491 |\n",
       "| cuTAR100492 | cuTAR100492 |\n",
       "| cuTAR100508 | cuTAR100508 |\n",
       "| cuTAR100513 | cuTAR100513 |\n",
       "| cuTAR100536 | cuTAR100536 |\n",
       "| cuTAR100541 | cuTAR100541 |\n",
       "| cuTAR100542 | cuTAR100542 |\n",
       "| cuTAR100543 | cuTAR100543 |\n",
       "| ⋮ | ⋮ |\n",
       "| cuTAR98229 | cuTAR98229 |\n",
       "| cuTAR9828 | cuTAR9828  |\n",
       "| cuTAR98374 | cuTAR98374 |\n",
       "| cuTAR98378 | cuTAR98378 |\n",
       "| cuTAR98455 | cuTAR98455 |\n",
       "| cuTAR98505 | cuTAR98505 |\n",
       "| cuTAR98506 | cuTAR98506 |\n",
       "| cuTAR98509 | cuTAR98509 |\n",
       "| cuTAR98511 | cuTAR98511 |\n",
       "| cuTAR98646 | cuTAR98646 |\n",
       "| cuTAR98941 | cuTAR98941 |\n",
       "| cuTAR99093 | cuTAR99093 |\n",
       "| cuTAR99094 | cuTAR99094 |\n",
       "| cuTAR9933 | cuTAR9933  |\n",
       "| cuTAR99405 | cuTAR99405 |\n",
       "| cuTAR99424 | cuTAR99424 |\n",
       "| cuTAR9944 | cuTAR9944  |\n",
       "| cuTAR99444 | cuTAR99444 |\n",
       "| cuTAR99475 | cuTAR99475 |\n",
       "| cuTAR99577 | cuTAR99577 |\n",
       "| cuTAR99596 | cuTAR99596 |\n",
       "| cuTAR99598 | cuTAR99598 |\n",
       "| cuTAR99599 | cuTAR99599 |\n",
       "| cuTAR99642 | cuTAR99642 |\n",
       "| cuTAR99755 | cuTAR99755 |\n",
       "| cuTAR99786 | cuTAR99786 |\n",
       "| cuTAR99816 | cuTAR99816 |\n",
       "| cuTAR99824 | cuTAR99824 |\n",
       "| cuTAR99830 | cuTAR99830 |\n",
       "| cuTAR99941 | cuTAR99941 |\n",
       "\n",
       "\n",
       "$design\n",
       ":   \n",
       "A matrix: 4 × 5 of type dbl\n",
       "\n",
       "| <!--/--> | Int | NoDrug_Tumor | B | C | D |\n",
       "|---|---|---|---|---|---|\n",
       "| 1 | 1 | 1 | 0 | 0 | 0 |\n",
       "| 2 | 1 | 1 | 1 | 0 | 0 |\n",
       "| 3 | 1 | 0 | 0 | 1 | 0 |\n",
       "| 4 | 1 | 0 | 0 | 0 | 1 |\n",
       "\n",
       "\n",
       "$common.dispersion\n",
       ":   &lt;NA&gt;\n",
       "$trended.dispersion\n",
       ":   &lt;NA&gt;\n",
       "$tagwise.dispersion\n",
       ":   &lt;NA&gt;\n",
       "$AveLogCPM\n",
       ":   1. 6.35186459964936\n",
       "2. 6.07734065715968\n",
       "3. 6.08216566668063\n",
       "4. 9.40980797292119\n",
       "5. 6.3305035178844\n",
       "6. 7.42995529304833\n",
       "7. 6.24123368150562\n",
       "8. 9.26220601600496\n",
       "9. 5.90011961382731\n",
       "10. 7.18564587561224\n",
       "11. 6.08027551064515\n",
       "12. 6.20236549374221\n",
       "13. 6.07734065715968\n",
       "14. 6.08027551064515\n",
       "15. 8.556333313103\n",
       "16. 6.07734065715968\n",
       "17. 6.08027551064515\n",
       "18. 7.697490835534\n",
       "19. 5.90011961382731\n",
       "20. 7.10694081316931\n",
       "21. 6.35186459964936\n",
       "22. 6.23640295784426\n",
       "23. 6.23933779701885\n",
       "24. 11.242318754081\n",
       "25. 6.20236549374221\n",
       "26. 6.08027551064515\n",
       "27. 6.3807357304395\n",
       "28. 7.6756394260482\n",
       "29. 5.90011961382731\n",
       "30. 6.20236549374221\n",
       "31. 9.07259530670747\n",
       "32. 9.29067336241506\n",
       "33. 6.08027551064515\n",
       "34. 5.90011961382731\n",
       "35. 6.06003808836144\n",
       "36. 5.90011961382731\n",
       "37. 6.07734065715968\n",
       "38. 9.29021454482815\n",
       "39. 6.07734065715968\n",
       "40. 6.3305035178844\n",
       "41. 6.07734065715968\n",
       "42. 8.64196486632865\n",
       "43. 5.90011961382731\n",
       "44. 6.08027551064515\n",
       "45. 6.06003808836144\n",
       "46. 7.95116706746774\n",
       "47. 6.70230966428342\n",
       "48. 6.60196492963437\n",
       "49. 6.59045690256359\n",
       "50. 6.5536379034171\n",
       "51. 10.4750698859416\n",
       "52. 13.1318552951958\n",
       "53. 13.3988820158425\n",
       "54. 7.78043488507017\n",
       "55. 6.07734065715968\n",
       "56. 6.07734065715968\n",
       "57. 6.23640295784426\n",
       "58. 6.06003808836144\n",
       "59. 7.30097743746301\n",
       "60. 6.06003808836144\n",
       "61. 5.90011961382731\n",
       "62. 6.08027551064515\n",
       "63. 7.92526291940335\n",
       "64. 6.20236549374221\n",
       "65. 6.07734065715968\n",
       "66. 6.90647432781003\n",
       "67. 5.90011961382731\n",
       "68. 6.97263526630395\n",
       "69. 6.52654513767991\n",
       "70. 5.90011961382731\n",
       "71. 6.08216566668063\n",
       "72. 7.62747916852767\n",
       "73. 5.90011961382731\n",
       "74. 6.5536379034171\n",
       "75. 9.37963330872208\n",
       "76. 8.30006356715548\n",
       "77. 6.51287279422225\n",
       "78. 8.80017669073766\n",
       "79. 6.20236549374221\n",
       "80. 6.06003808836144\n",
       "81. 6.07734065715968\n",
       "82. 6.39146081691952\n",
       "83. 6.20236549374221\n",
       "84. 6.3305035178844\n",
       "85. 7.27861160213831\n",
       "86. 6.08216566668063\n",
       "87. 6.06003808836144\n",
       "88. 6.08027551064515\n",
       "89. 7.29864350104227\n",
       "90. 6.23640295784426\n",
       "91. 7.24995544408959\n",
       "92. 7.15129967577035\n",
       "93. 8.12365549134958\n",
       "94. 6.23640295784426\n",
       "95. 5.90011961382731\n",
       "96. 5.90011961382731\n",
       "97. 6.64251210235062\n",
       "98. 6.06003808836144\n",
       "99. 6.38955275283534\n",
       "100. 6.24417769910565\n",
       "101. 6.08216566668063\n",
       "102. 6.24123368150562\n",
       "103. 6.08027551064515\n",
       "104. 6.24123368150562\n",
       "105. 6.24227814152968\n",
       "106. 6.23933779701885\n",
       "107. 6.08216566668063\n",
       "108. 6.08027551064515\n",
       "109. 6.08216566668063\n",
       "110. 6.07734065715968\n",
       "111. 7.06279148114789\n",
       "112. 6.20236549374221\n",
       "113. 6.22409961165388\n",
       "114. 6.06003808836144\n",
       "115. 5.90011961382731\n",
       "116. 6.35186459964936\n",
       "117. 5.90011961382731\n",
       "118. 6.07734065715968\n",
       "119. 7.44232639369988\n",
       "120. 6.20236549374221\n",
       "121. 5.90011961382731\n",
       "122. 6.23640295784426\n",
       "123. 6.35186459964936\n",
       "124. 6.24227814152968\n",
       "125. 5.90011961382731\n",
       "126. 6.08216566668063\n",
       "127. 7.63463926690858\n",
       "128. 5.90011961382731\n",
       "129. 7.03161900718259\n",
       "130. 6.74325160810979\n",
       "131. 5.90011961382731\n",
       "132. 6.87874190749482\n",
       "133. 6.59518336601398\n",
       "134. 6.61148547403417\n",
       "135. 6.93785389992265\n",
       "136. 7.11158913468427\n",
       "137. 6.44696034916366\n",
       "138. 8.16664809325344\n",
       "139. 6.3305035178844\n",
       "140. 5.90011961382731\n",
       "141. 6.23640295784426\n",
       "142. 6.3807357304395\n",
       "143. 7.47301192976291\n",
       "144. 6.20236549374221\n",
       "145. 6.24607970553034\n",
       "146. 6.07734065715968\n",
       "147. 6.47967745450551\n",
       "148. 6.62702104357471\n",
       "149. 5.90011961382731\n",
       "150. 6.3305035178844\n",
       "151. 6.24227814152968\n",
       "152. 6.52654513767991\n",
       "153. 6.2222223429317\n",
       "154. 6.07734065715968\n",
       "155. 6.08216566668063\n",
       "156. 7.80581215656298\n",
       "157. 6.06003808836144\n",
       "158. 7.98348697671141\n",
       "159. 6.70230966428342\n",
       "160. 6.75751779429804\n",
       "161. 6.34711934024103\n",
       "162. 6.06003808836144\n",
       "163. 5.90011961382731\n",
       "164. 6.3305035178844\n",
       "165. 6.06003808836144\n",
       "166. 6.07734065715968\n",
       "167. 6.24227814152968\n",
       "168. 6.08216566668063\n",
       "169. 6.23640295784426\n",
       "170. 6.07734065715968\n",
       "171. 6.08027551064515\n",
       "172. 6.07734065715968\n",
       "173. 6.20236549374221\n",
       "174. 6.08216566668063\n",
       "175. 6.78985632007585\n",
       "176. 6.44696034916366\n",
       "177. 6.21931530437852\n",
       "178. 7.81876886103793\n",
       "179. 6.44696034916366\n",
       "180. 6.65201225151587\n",
       "181. 6.08027551064515\n",
       "182. 6.79453427601167\n",
       "183. 7.15735555590049\n",
       "184. 6.59518336601398\n",
       "185. 5.90011961382731\n",
       "186. 7.04990802174178\n",
       "187. 9.47699532488352\n",
       "188. 9.67023498153249\n",
       "189. 6.77124404763654\n",
       "190. 8.2178913719844\n",
       "191. 8.47129145177833\n",
       "192. 7.44983336852251\n",
       "193. 7.03044032238774\n",
       "194. 6.08216566668063\n",
       "195. 6.07734065715968\n",
       "196. 6.64251210235062\n",
       "197. 6.24227814152968\n",
       "198. 9.11728243383227\n",
       "199. 6.86595842521099\n",
       "200. 6.08216566668063\n",
       "201. ⋯\n",
       "202. 6.20236549374221\n",
       "203. 7.17294457317675\n",
       "204. 7.75134722227519\n",
       "205. 6.06003808836144\n",
       "206. 6.23640295784426\n",
       "207. 5.90011961382731\n",
       "208. 6.20236549374221\n",
       "209. 8.57329526824972\n",
       "210. 7.18653129471577\n",
       "211. 5.90011961382731\n",
       "212. 6.24227814152968\n",
       "213. 6.08027551064515\n",
       "214. 6.07734065715968\n",
       "215. 6.08216566668063\n",
       "216. 6.07734065715968\n",
       "217. 6.07734065715968\n",
       "218. 6.24227814152968\n",
       "219. 7.08423460420406\n",
       "220. 6.07734065715968\n",
       "221. 7.8156739613113\n",
       "222. 6.92738050255308\n",
       "223. 6.07734065715968\n",
       "224. 6.08027551064515\n",
       "225. 6.06003808836144\n",
       "226. 6.20236549374221\n",
       "227. 6.65201225151587\n",
       "228. 6.3807357304395\n",
       "229. 6.60196492963437\n",
       "230. 6.07734065715968\n",
       "231. 5.90011961382731\n",
       "232. 6.46325934710473\n",
       "233. 6.44696034916366\n",
       "234. 7.84314608518628\n",
       "235. 6.06003808836144\n",
       "236. 5.90011961382731\n",
       "237. 6.5206488363371\n",
       "238. 6.3807357304395\n",
       "239. 7.96583594654638\n",
       "240. 6.3305035178844\n",
       "241. 6.23933779701885\n",
       "242. 8.51341070169098\n",
       "243. 8.29242745353388\n",
       "244. 6.23640295784426\n",
       "245. 6.08027551064515\n",
       "246. 6.08216566668063\n",
       "247. 6.69945712585707\n",
       "248. 6.08216566668063\n",
       "249. 6.08027551064515\n",
       "250. 5.90011961382731\n",
       "251. 6.38557006761006\n",
       "252. 6.81888991990838\n",
       "253. 6.06003808836144\n",
       "254. 6.07734065715968\n",
       "255. 6.06003808836144\n",
       "256. 6.3836693033992\n",
       "257. 5.90011961382731\n",
       "258. 5.90011961382731\n",
       "259. 6.44696034916366\n",
       "260. 6.08027551064515\n",
       "261. 5.90011961382731\n",
       "262. 8.09509285483784\n",
       "263. 7.27127486111055\n",
       "264. 6.08027551064515\n",
       "265. 7.14395411492485\n",
       "266. 6.48919227186784\n",
       "267. 7.07224094443507\n",
       "268. 6.64060040306958\n",
       "269. 6.23640295784426\n",
       "270. 6.08027551064515\n",
       "271. 6.20236549374221\n",
       "272. 5.90011961382731\n",
       "273. 6.46796708122147\n",
       "274. 6.68353848925067\n",
       "275. 6.08216566668063\n",
       "276. 6.3807357304395\n",
       "277. 7.0176772691519\n",
       "278. 6.24227814152968\n",
       "279. 6.5323069582805\n",
       "280. 7.44052912282162\n",
       "281. 6.44696034916366\n",
       "282. 5.90011961382731\n",
       "283. 6.77984022973554\n",
       "284. 5.90011961382731\n",
       "285. 6.20236549374221\n",
       "286. 6.34711934024103\n",
       "287. 6.3734572853812\n",
       "288. 6.46611406868372\n",
       "289. 6.06003808836144\n",
       "290. 5.90011961382731\n",
       "291. 6.87874190749482\n",
       "292. 8.39658656614636\n",
       "293. 6.3305035178844\n",
       "294. 6.3836693033992\n",
       "295. 6.23640295784426\n",
       "296. 8.02412694193638\n",
       "297. 6.08216566668063\n",
       "298. 5.90011961382731\n",
       "299. 6.24227814152968\n",
       "300. 6.6929037881074\n",
       "301. 6.21931530437852\n",
       "302. 6.38660830502149\n",
       "303. 7.82688066371052\n",
       "304. 5.90011961382731\n",
       "305. 5.90011961382731\n",
       "306. 6.07734065715968\n",
       "307. 8.44982452686784\n",
       "308. 6.08216566668063\n",
       "309. 6.34999969786854\n",
       "310. 7.25090879153122\n",
       "311. 6.08216566668063\n",
       "312. 7.9596941611501\n",
       "313. 7.58611814569194\n",
       "314. 6.20236549374221\n",
       "315. 6.23640295784426\n",
       "316. 6.44696034916366\n",
       "317. 7.04197089659068\n",
       "318. 6.08027551064515\n",
       "319. 7.59823146245933\n",
       "320. 6.22409961165388\n",
       "321. 6.36386318359411\n",
       "322. 6.07734065715968\n",
       "323. 6.24227814152968\n",
       "324. 6.72500219303021\n",
       "325. 10.6975853217752\n",
       "326. 6.08216566668063\n",
       "327. 7.53162026548368\n",
       "328. 6.38955275283534\n",
       "329. 6.07734065715968\n",
       "330. 6.74325160810979\n",
       "331. 6.24607970553034\n",
       "332. 7.13468093823189\n",
       "333. 6.07734065715968\n",
       "334. 6.3305035178844\n",
       "335. 7.49588191255888\n",
       "336. 6.24607970553034\n",
       "337. 6.07734065715968\n",
       "338. 9.21467051008271\n",
       "339. 6.08216566668063\n",
       "340. 6.89237295469716\n",
       "341. 6.44696034916366\n",
       "342. 7.80233303893899\n",
       "343. 6.20236549374221\n",
       "344. 6.20236549374221\n",
       "345. 6.46611406868372\n",
       "346. 6.20236549374221\n",
       "347. 6.23640295784426\n",
       "348. 6.07734065715968\n",
       "349. 6.08027551064515\n",
       "350. 6.44696034916366\n",
       "351. 6.607727001284\n",
       "352. 6.06003808836144\n",
       "353. 6.34711934024103\n",
       "354. 5.90011961382731\n",
       "355. 7.19377944450508\n",
       "356. 5.90011961382731\n",
       "357. 6.21931530437852\n",
       "358. 6.23640295784426\n",
       "359. 8.71202707938631\n",
       "360. 6.23640295784426\n",
       "361. 6.2222223429317\n",
       "362. 7.07472547298886\n",
       "363. 6.46611406868372\n",
       "364. 6.24607970553034\n",
       "365. 6.35186459964936\n",
       "366. 6.24417769910565\n",
       "367. 6.08027551064515\n",
       "368. 6.06003808836144\n",
       "369. 6.07734065715968\n",
       "370. 5.90011961382731\n",
       "371. 7.22041104065898\n",
       "372. 6.6723603680844\n",
       "373. 5.90011961382731\n",
       "374. 6.08027551064515\n",
       "375. 6.64060040306958\n",
       "376. 5.90011961382731\n",
       "377. 7.0877359394003\n",
       "378. 6.22409961165388\n",
       "379. 9.5008535587027\n",
       "380. 6.51580392142795\n",
       "381. 5.90011961382731\n",
       "382. 6.44696034916366\n",
       "383. 9.94797059924596\n",
       "384. 6.07734065715968\n",
       "385. 5.90011961382731\n",
       "386. 6.46325934710473\n",
       "387. 6.08216566668063\n",
       "388. 6.06003808836144\n",
       "389. 6.2222223429317\n",
       "390. 6.06003808836144\n",
       "391. 7.46174720614584\n",
       "392. 6.82829613237995\n",
       "393. 6.08027551064515\n",
       "394. 6.5284632855172\n",
       "395. 6.65201225151587\n",
       "396. 7.15740853498228\n",
       "397. 6.20236549374221\n",
       "398. 6.78351921499143\n",
       "399. 6.06003808836144\n",
       "400. 6.95375425924138\n",
       "401. 6.08216566668063\n",
       "\n",
       "\n",
       "\n",
       "$trend.method\n",
       ":   'locfit'\n",
       "\n",
       "\n"
      ],
      "text/plain": [
       "An object of class \"DGEList\"\n",
       "$counts\n",
       "            A_clusterNoDrug_Tumor B_clusterNoDrug_Tumor C_clusterDrug_Tumor\n",
       "cuTAR100000                     2                     0                   1\n",
       "cuTAR10001                      0                     1                   0\n",
       "cuTAR100102                     0                     0                   1\n",
       "cuTAR100103                    47                    16                  11\n",
       "cuTAR100104                     3                     0                   0\n",
       "            D_clusterDrug_Tumor\n",
       "cuTAR100000                   0\n",
       "cuTAR10001                    0\n",
       "cuTAR100102                   0\n",
       "cuTAR100103                  12\n",
       "cuTAR100104                   0\n",
       "15232 more rows ...\n",
       "\n",
       "$samples\n",
       "                      group lib.size norm.factors sample      cluster\n",
       "A_clusterNoDrug_Tumor     1    73801    0.8843864      A NoDrug_Tumor\n",
       "B_clusterNoDrug_Tumor     1    26502    1.0477991      B NoDrug_Tumor\n",
       "C_clusterDrug_Tumor       1    17719    1.0560356      C   Drug_Tumor\n",
       "D_clusterDrug_Tumor       1    21720    1.0218835      D   Drug_Tumor\n",
       "\n",
       "$genes\n",
       "                   gene\n",
       "cuTAR100000 cuTAR100000\n",
       "cuTAR10001   cuTAR10001\n",
       "cuTAR100102 cuTAR100102\n",
       "cuTAR100103 cuTAR100103\n",
       "cuTAR100104 cuTAR100104\n",
       "15232 more rows ...\n",
       "\n",
       "$design\n",
       "  Int NoDrug_Tumor B C D\n",
       "1   1            1 0 0 0\n",
       "2   1            1 1 0 0\n",
       "3   1            0 0 1 0\n",
       "4   1            0 0 0 1\n",
       "attr(,\"assign\")\n",
       "[1] 0 1 2 2 2\n",
       "attr(,\"contrasts\")\n",
       "attr(,\"contrasts\")$cluster\n",
       "[1] \"contr.treatment\"\n",
       "\n",
       "attr(,\"contrasts\")$donor\n",
       "[1] \"contr.treatment\"\n",
       "\n",
       "\n",
       "$common.dispersion\n",
       "[1] NA\n",
       "\n",
       "$trended.dispersion\n",
       "[1] NA\n",
       "\n",
       "$tagwise.dispersion\n",
       "[1] NA\n",
       "\n",
       "$AveLogCPM\n",
       "[1] 6.351865 6.077341 6.082166 9.409808 6.330504\n",
       "15232 more elements ...\n",
       "\n",
       "$trend.method\n",
       "[1] \"locfit\"\n"
      ]
     },
     "metadata": {},
     "output_type": "display_data"
    }
   ],
   "source": [
    "y"
   ]
  },
  {
   "cell_type": "code",
   "execution_count": 15,
   "id": "3721e1eb-9061-4b76-9c93-94643d0ddf0e",
   "metadata": {},
   "outputs": [
    {
     "data": {
      "text/plain": [
       "   Min. 1st Qu.  Median    Mean 3rd Qu.    Max. \n",
       "  17719   20720   24111   34936   38327   73801 "
      ]
     },
     "metadata": {},
     "output_type": "display_data"
    },
    {
     "data": {
      "text/plain": [
       "keep.samples\n",
       "TRUE \n",
       "   4 "
      ]
     },
     "metadata": {},
     "output_type": "display_data"
    },
    {
     "data": {
      "text/html": [
       "<strong>pdf:</strong> 2"
      ],
      "text/latex": [
       "\\textbf{pdf:} 2"
      ],
      "text/markdown": [
       "**pdf:** 2"
      ],
      "text/plain": [
       "pdf \n",
       "  2 "
      ]
     },
     "metadata": {},
     "output_type": "display_data"
    },
    {
     "name": "stdout",
     "output_type": "stream",
     "text": [
      "Residual degrees of freedom: 2 \n",
      "Common dispersion: 0.5737737 \n"
     ]
    },
    {
     "data": {
      "text/html": [
       "<strong>pdf:</strong> 2"
      ],
      "text/latex": [
       "\\textbf{pdf:} 2"
      ],
      "text/markdown": [
       "**pdf:** 2"
      ],
      "text/plain": [
       "pdf \n",
       "  2 "
      ]
     },
     "metadata": {},
     "output_type": "display_data"
    },
    {
     "data": {
      "text/html": [
       "<strong>pdf:</strong> 2"
      ],
      "text/latex": [
       "\\textbf{pdf:} 2"
      ],
      "text/markdown": [
       "**pdf:** 2"
      ],
      "text/plain": [
       "pdf \n",
       "  2 "
      ]
     },
     "metadata": {},
     "output_type": "display_data"
    },
    {
     "name": "stdout",
     "output_type": "stream",
     "text": [
      "Number of top markers: 43 \n",
      " [1] \"cuTAR100896\" \"cuTAR229141\" \"cuTAR127634\" \"cuTAR112268\" \"cuTAR65629\" \n",
      " [6] \"cuTAR354462\" \"cuTAR68010\"  \"cuTAR354794\" \"cuTAR36694\"  \"cuTAR173210\"\n",
      "[11] \"cuTAR23283\"  \"cuTAR106737\" \"cuTAR5170\"   \"cuTAR65312\"  \"cuTAR314024\"\n",
      "[16] \"cuTAR238221\" \"cuTAR214581\" \"cuTAR318936\" \"cuTAR158626\" \"cuTAR318937\"\n",
      "[21] \"cuTAR276611\" \"cuTAR318938\" \"cuTAR241963\" \"cuTAR260177\" \"cuTAR48676\" \n",
      "[26] \"cuTAR87821\"  \"cuTAR243709\" \"cuTAR311641\" \"cuTAR2960\"   \"cuTAR297820\"\n",
      "[31] \"cuTAR45781\"  \"cuTAR247818\" \"cuTAR159760\" \"cuTAR308813\" \"cuTAR37674\" \n",
      "[36] \"cuTAR271872\" \"cuTAR132093\" \"cuTAR290540\" \"cuTAR34354\"  \"cuTAR87485\" \n",
      "[41] \"cuTAR145492\" \"cuTAR57116\"  \"cuTAR87491\" \n"
     ]
    }
   ],
   "source": [
    "library(edgeR)\n",
    "library(Seurat)\n",
    "\n",
    "# Step 1: Pseudobulk by sample\n",
    "y <- Seurat2PB(so_old2, sample=\"sample\", cluster=\"treatment\")\n",
    "summary(y$samples$lib.size)\n",
    "\n",
    "# Step 2: Filter low library sizes\n",
    "keep.samples <- y$samples$lib.size > 100\n",
    "table(keep.samples)\n",
    "y <- y[, keep.samples]\n",
    "\n",
    "# Step 3: Normalize\n",
    "y <- normLibSizes(y)\n",
    "\n",
    "# Step 4: MDS plot\n",
    "treatment <- as.factor(y$samples$cluster)\n",
    "pdf(\"MDS.pdf\")\n",
    "plotMDS(y, pch=16, col=ifelse(treatment == \"Control\", \"blue\", \"red\"), main=\"MDS\")\n",
    "legend(\"topleft\", legend=levels(treatment), pch=16, col=c(\"blue\", \"red\"), cex=0.8)\n",
    "dev.off()\n",
    "\n",
    "# Step 5: Design matrix\n",
    "design <- model.matrix(~treatment)\n",
    "colnames(design) <- c(\"Intercept\", \"Treatment\")\n",
    "\n",
    "# Step 6: Check residual degrees of freedom\n",
    "n_samples <- ncol(y)\n",
    "n_params <- ncol(design)\n",
    "residual_df <- n_samples - n_params\n",
    "cat(\"Residual degrees of freedom:\", residual_df, \"\\n\")\n",
    "if (residual_df <= 0) {\n",
    "  stop(\"No residual degrees of freedom. Check sample counts.\")\n",
    "}\n",
    "\n",
    "# Step 7: Dispersion estimation\n",
    "y <- estimateDisp(y, design, robust=TRUE)\n",
    "cat(\"Common dispersion:\", y$common.dispersion, \"\\n\")\n",
    "pdf(\"dispersion.pdf\")\n",
    "plotBCV(y)\n",
    "dev.off()\n",
    "\n",
    "# Step 8: Fit model\n",
    "fit <- glmQLFit(y, design, robust=TRUE)\n",
    "pdf(\"QLdisp.pdf\")\n",
    "plotQLDisp(fit)\n",
    "dev.off()\n",
    "\n",
    "# Step 9: DE test (Treatment vs. Control)\n",
    "qlf <- glmQLFTest(fit, coef=\"Treatment\")\n",
    "\n",
    "# Step 10: Extract top markers (up and down)\n",
    "top <- 25  # Number of top genes to select\n",
    "qlf$table$FDR <- p.adjust(qlf$table$PValue, method=\"BH\")\n",
    "current_table <- qlf$table\n",
    "\n",
    "# Filter significant genes\n",
    "sig_genes <- current_table[current_table$FDR < 0.05, ]\n",
    "\n",
    "# Upregulated in Treatment (logFC > 2, higher in Treatment vs. Control)\n",
    "upregulated <- sig_genes[sig_genes$logFC > 2, ]\n",
    "upregulated <- upregulated[!grepl(\"^RPS|^RPL|^LINC\", rownames(upregulated)), ]\n",
    "upregulated <- upregulated[order(-upregulated$logFC), ]  # Sort by descending logFC\n",
    "top_up <- head(rownames(upregulated), top)\n",
    "\n",
    "# Downregulated in Treatment (logFC < -2, higher in Control vs. Control)\n",
    "downregulated <- sig_genes[sig_genes$logFC < -2, ]\n",
    "downregulated <- downregulated[!grepl(\"^RPS|^RPL|^LINC\", rownames(downregulated)), ]\n",
    "downregulated <- downregulated[order(downregulated$logFC), ]  # Sort by ascending logFC\n",
    "top_down <- head(rownames(downregulated), top)\n",
    "\n",
    "# Combine top markers\n",
    "combined_topMarkers <- unique(c(top_up, top_down))\n",
    "\n",
    "# Print results\n",
    "cat(\"Number of top markers:\", length(combined_topMarkers), \"\\n\")\n",
    "print(combined_topMarkers)\n",
    "\n",
    "# Save results\n",
    "write.csv(current_table, \"DE_Control_vs_Treatment_full.csv\")\n",
    "write.csv(data.frame(Gene=combined_topMarkers), \"Top_Markers.csv\")\n",
    "\n",
    "# Optional: Save top up/down separately\n",
    "write.csv(upregulated, \"Upregulated_in_Treatment.csv\")\n",
    "write.csv(downregulated, \"Upregulated_in_Control.csv\")"
   ]
  },
  {
   "cell_type": "code",
   "execution_count": 12,
   "id": "815cfe7c-fb8d-449b-a1e8-aba64f1193ea",
   "metadata": {},
   "outputs": [
    {
     "data": {
      "text/html": [
       "6536"
      ],
      "text/latex": [
       "6536"
      ],
      "text/markdown": [
       "6536"
      ],
      "text/plain": [
       "[1] 6536"
      ]
     },
     "metadata": {},
     "output_type": "display_data"
    }
   ],
   "source": [
    "grep(\"cuTAR290541\",rownames(qlf[[2]]$table))"
   ]
  },
  {
   "cell_type": "code",
   "execution_count": 16,
   "id": "993b4061-299c-466a-9f8c-2a519f8602f2",
   "metadata": {},
   "outputs": [
    {
     "data": {
      "text/plain": [
       "   Min. 1st Qu.  Median    Mean 3rd Qu.    Max. \n",
       "  17719   20720   24111   34936   38327   73801 "
      ]
     },
     "metadata": {},
     "output_type": "display_data"
    },
    {
     "data": {
      "text/plain": [
       "keep.samples\n",
       "TRUE \n",
       "   4 "
      ]
     },
     "metadata": {},
     "output_type": "display_data"
    },
    {
     "data": {
      "text/html": [
       "<strong>pdf:</strong> 2"
      ],
      "text/latex": [
       "\\textbf{pdf:} 2"
      ],
      "text/markdown": [
       "**pdf:** 2"
      ],
      "text/plain": [
       "pdf \n",
       "  2 "
      ]
     },
     "metadata": {},
     "output_type": "display_data"
    },
    {
     "name": "stdout",
     "output_type": "stream",
     "text": [
      "Residual degrees of freedom: 2 \n",
      "Common dispersion: 0.5737737 \n"
     ]
    },
    {
     "data": {
      "text/html": [
       "<strong>pdf:</strong> 2"
      ],
      "text/latex": [
       "\\textbf{pdf:} 2"
      ],
      "text/markdown": [
       "**pdf:** 2"
      ],
      "text/plain": [
       "pdf \n",
       "  2 "
      ]
     },
     "metadata": {},
     "output_type": "display_data"
    },
    {
     "data": {
      "text/html": [
       "<strong>pdf:</strong> 2"
      ],
      "text/latex": [
       "\\textbf{pdf:} 2"
      ],
      "text/markdown": [
       "**pdf:** 2"
      ],
      "text/plain": [
       "pdf \n",
       "  2 "
      ]
     },
     "metadata": {},
     "output_type": "display_data"
    },
    {
     "data": {
      "text/html": [
       "<table class=\"dataframe\">\n",
       "<caption>A matrix: 2 × 2 of type dbl</caption>\n",
       "<thead>\n",
       "\t<tr><th></th><th scope=col>Treatment_vs_Control</th><th scope=col>Control_vs_Treatment</th></tr>\n",
       "</thead>\n",
       "<tbody>\n",
       "\t<tr><th scope=row>Intercept</th><td>0</td><td> 0</td></tr>\n",
       "\t<tr><th scope=row>Treatment</th><td>1</td><td>-1</td></tr>\n",
       "</tbody>\n",
       "</table>\n"
      ],
      "text/latex": [
       "A matrix: 2 × 2 of type dbl\n",
       "\\begin{tabular}{r|ll}\n",
       "  & Treatment\\_vs\\_Control & Control\\_vs\\_Treatment\\\\\n",
       "\\hline\n",
       "\tIntercept & 0 &  0\\\\\n",
       "\tTreatment & 1 & -1\\\\\n",
       "\\end{tabular}\n"
      ],
      "text/markdown": [
       "\n",
       "A matrix: 2 × 2 of type dbl\n",
       "\n",
       "| <!--/--> | Treatment_vs_Control | Control_vs_Treatment |\n",
       "|---|---|---|\n",
       "| Intercept | 0 |  0 |\n",
       "| Treatment | 1 | -1 |\n",
       "\n"
      ],
      "text/plain": [
       "          Treatment_vs_Control Control_vs_Treatment\n",
       "Intercept 0                     0                  \n",
       "Treatment 1                    -1                  "
      ]
     },
     "metadata": {},
     "output_type": "display_data"
    },
    {
     "name": "stdout",
     "output_type": "stream",
     "text": [
      "Number of top markers: 43 \n",
      "[1] \"cuTAR100896\" \"cuTAR229141\" \"cuTAR127634\" \"cuTAR112268\" \"cuTAR65629\" \n",
      "[6] \"cuTAR354462\"\n"
     ]
    }
   ],
   "source": [
    "library(edgeR)\n",
    "library(Seurat)\n",
    "\n",
    "# Step 1: Pseudobulk by sample\n",
    "y <- Seurat2PB(so_old2, sample=\"sample\", cluster=\"treatment\")\n",
    "summary(y$samples$lib.size)\n",
    "\n",
    "# Step 2: Filter low library sizes\n",
    "keep.samples <- y$samples$lib.size > 100\n",
    "table(keep.samples)\n",
    "if (sum(keep.samples) < 4) {\n",
    "  warning(\"Fewer than 4 samples after filtering. Consider lowering lib.size threshold.\")\n",
    "}\n",
    "y <- y[, keep.samples]\n",
    "\n",
    "# Step 3: Normalize\n",
    "y <- normLibSizes(y)\n",
    "\n",
    "# Step 4: MDS plot\n",
    "treatment <- as.factor(y$samples$cluster) # cluster is treatment (Control/Treatment)\n",
    "pdf(\"MDS.pdf\")\n",
    "plotMDS(y, pch=16, col=ifelse(treatment == \"Control\", \"blue\", \"red\"), main=\"MDS\")\n",
    "legend(\"topleft\", legend=levels(treatment), pch=16, col=c(\"blue\", \"red\"), cex=0.8)\n",
    "dev.off()\n",
    "\n",
    "# Step 5: Design matrix\n",
    "design <- model.matrix(~treatment)\n",
    "colnames(design) <- c(\"Intercept\", \"Treatment\")\n",
    "\n",
    "# Step 6: Check residual degrees of freedom\n",
    "n_samples <- ncol(y)\n",
    "n_params <- ncol(design)\n",
    "residual_df <- n_samples - n_params\n",
    "cat(\"Residual degrees of freedom:\", residual_df, \"\\n\")\n",
    "if (residual_df <= 0) {\n",
    "  stop(\"No residual degrees of freedom. Check sample counts.\")\n",
    "}\n",
    "\n",
    "# Step 7: Dispersion estimation\n",
    "y <- estimateDisp(y, design, robust=TRUE)\n",
    "cat(\"Common dispersion:\", y$common.dispersion, \"\\n\")\n",
    "pdf(\"dispersion.pdf\")\n",
    "plotBCV(y)\n",
    "dev.off()\n",
    "\n",
    "# Step 8: Fit model\n",
    "fit <- glmQLFit(y, design, robust=TRUE)\n",
    "pdf(\"QLdisp.pdf\")\n",
    "plotQLDisp(fit)\n",
    "dev.off()\n",
    "\n",
    "# Step 9: Create contrasts for Control vs. Treatment\n",
    "ncls <- 2  # Two conditions: Control, Treatment\n",
    "contr <- matrix(0, ncol(design), ncls)\n",
    "colnames(contr) <- c(\"Treatment_vs_Control\", \"Control_vs_Treatment\")\n",
    "rownames(contr) <- colnames(design)\n",
    "contr[\"Treatment\", ] <- c(1, -1)  # Treatment vs. Control, Control vs. Treatment\n",
    "contr\n",
    "\n",
    "# Step 10: Quasi-likelihood F-tests\n",
    "qlf <- list()\n",
    "for (i in 1:ncls) {\n",
    "  qlf[[i]] <- glmQLFTest(fit, contrast=contr[, i])\n",
    "  qlf[[i]]$comparison <- colnames(contr)[i]\n",
    "}\n",
    "\n",
    "# Step 11: Extract top markers (up and down)\n",
    "top <- 25  # Number of top genes to select\n",
    "topMarkers <- list()\n",
    "\n",
    "for (i in 1:ncls) {\n",
    "  # Get table and compute FDR\n",
    "  qlf[[i]]$table$FDR <- p.adjust(qlf[[i]]$table$PValue, method=\"BH\")\n",
    "  current_table <- qlf[[i]]$table\n",
    "\n",
    "  # Filter significant genes\n",
    "  ordered_genes <- current_table[order(current_table$PValue, decreasing=FALSE), ]\n",
    "  ordered_genes <- ordered_genes[ordered_genes$FDR < 0.05, ]\n",
    "\n",
    "  # Upregulated genes (logFC > 2 for Treatment in Treatment_vs_Control, or Control in Control_vs_Treatment)\n",
    "  upregulated <- ordered_genes[ordered_genes$logFC > 2, ]\n",
    "  upregulated <- upregulated[!grepl(\"^RPS|^RPL|^LINC\", rownames(upregulated)), ]\n",
    "  upregulated <- upregulated[order(-upregulated$logFC), ]\n",
    "  top_up <- head(rownames(upregulated), top)\n",
    "\n",
    "  # Downregulated genes (logFC < -2)\n",
    "  downregulated <- ordered_genes[ordered_genes$logFC < -2, ]\n",
    "  downregulated <- downregulated[!grepl(\"^RPS|^RPL|^LINC\", rownames(downregulated)), ]\n",
    "  downregulated <- downregulated[order(downregulated$logFC), ]\n",
    "  top_down <- head(rownames(downregulated), top)\n",
    "\n",
    "  # Store top genes\n",
    "  topMarkers[[i]] <- c(top_up, top_down)\n",
    "}\n",
    "\n",
    "# Combine all selected genes\n",
    "combined_topMarkers <- unique(unlist(topMarkers))\n",
    "cat(\"Number of top markers:\", length(combined_topMarkers), \"\\n\")\n",
    "\n",
    "# Save results\n",
    "write.csv(combined_topMarkers, \"Top_Markers.csv\")\n",
    "for (i in 1:ncls) {\n",
    "  write.csv(qlf[[i]]$table, paste0(\"DE_\", qlf[[i]]$comparison, \".csv\"))\n",
    "}\n",
    "\n",
    "# Final result\n",
    "topMarkers <- combined_topMarkers\n",
    "print(head(combined_topMarkers))"
   ]
  },
  {
   "cell_type": "code",
   "execution_count": 224,
   "id": "1bb966c1-14a8-426c-badc-92e85408f24a",
   "metadata": {},
   "outputs": [
    {
     "data": {
      "text/html": [
       "6536"
      ],
      "text/latex": [
       "6536"
      ],
      "text/markdown": [
       "6536"
      ],
      "text/plain": [
       "[1] 6536"
      ]
     },
     "metadata": {},
     "output_type": "display_data"
    },
    {
     "data": {
      "text/html": [
       "14410"
      ],
      "text/latex": [
       "14410"
      ],
      "text/markdown": [
       "14410"
      ],
      "text/plain": [
       "[1] 14410"
      ]
     },
     "metadata": {},
     "output_type": "display_data"
    },
    {
     "data": {
      "text/html": [
       "6066"
      ],
      "text/latex": [
       "6066"
      ],
      "text/markdown": [
       "6066"
      ],
      "text/plain": [
       "[1] 6066"
      ]
     },
     "metadata": {},
     "output_type": "display_data"
    }
   ],
   "source": [
    "grep(\"cuTAR290541\",rownames(qlf[[2]]$table))\n",
    "grep(\"cuTAR78711\",rownames(qlf[[2]]$table))\n",
    "grep(\"cuTAR276859\",rownames(qlf[[2]]$table))"
   ]
  },
  {
   "cell_type": "code",
   "execution_count": 9,
   "id": "18da65d2-06ed-4ecf-8a55-d07330553b99",
   "metadata": {},
   "outputs": [
    {
     "data": {
      "text/html": [
       "<table class=\"dataframe\">\n",
       "<caption>A data.frame: 3 × 5</caption>\n",
       "<thead>\n",
       "\t<tr><th></th><th scope=col>logFC</th><th scope=col>logCPM</th><th scope=col>F</th><th scope=col>PValue</th><th scope=col>FDR</th></tr>\n",
       "\t<tr><th></th><th scope=col>&lt;dbl&gt;</th><th scope=col>&lt;dbl&gt;</th><th scope=col>&lt;dbl&gt;</th><th scope=col>&lt;dbl&gt;</th><th scope=col>&lt;dbl&gt;</th></tr>\n",
       "</thead>\n",
       "<tbody>\n",
       "\t<tr><th scope=row>cuTAR290541</th><td>2.127159</td><td>9.020650</td><td>11.117986</td><td>0.0008587668</td><td>0.1699355</td></tr>\n",
       "\t<tr><th scope=row>cuTAR78711</th><td>2.423967</td><td>8.567911</td><td> 9.426742</td><td>0.0021454864</td><td>0.3446224</td></tr>\n",
       "\t<tr><th scope=row>cuTAR276859</th><td>6.288701</td><td>7.752569</td><td> 9.373774</td><td>0.0022083012</td><td>0.3462523</td></tr>\n",
       "</tbody>\n",
       "</table>\n"
      ],
      "text/latex": [
       "A data.frame: 3 × 5\n",
       "\\begin{tabular}{r|lllll}\n",
       "  & logFC & logCPM & F & PValue & FDR\\\\\n",
       "  & <dbl> & <dbl> & <dbl> & <dbl> & <dbl>\\\\\n",
       "\\hline\n",
       "\tcuTAR290541 & 2.127159 & 9.020650 & 11.117986 & 0.0008587668 & 0.1699355\\\\\n",
       "\tcuTAR78711 & 2.423967 & 8.567911 &  9.426742 & 0.0021454864 & 0.3446224\\\\\n",
       "\tcuTAR276859 & 6.288701 & 7.752569 &  9.373774 & 0.0022083012 & 0.3462523\\\\\n",
       "\\end{tabular}\n"
      ],
      "text/markdown": [
       "\n",
       "A data.frame: 3 × 5\n",
       "\n",
       "| <!--/--> | logFC &lt;dbl&gt; | logCPM &lt;dbl&gt; | F &lt;dbl&gt; | PValue &lt;dbl&gt; | FDR &lt;dbl&gt; |\n",
       "|---|---|---|---|---|---|\n",
       "| cuTAR290541 | 2.127159 | 9.020650 | 11.117986 | 0.0008587668 | 0.1699355 |\n",
       "| cuTAR78711 | 2.423967 | 8.567911 |  9.426742 | 0.0021454864 | 0.3446224 |\n",
       "| cuTAR276859 | 6.288701 | 7.752569 |  9.373774 | 0.0022083012 | 0.3462523 |\n",
       "\n"
      ],
      "text/plain": [
       "            logFC    logCPM   F         PValue       FDR      \n",
       "cuTAR290541 2.127159 9.020650 11.117986 0.0008587668 0.1699355\n",
       "cuTAR78711  2.423967 8.567911  9.426742 0.0021454864 0.3446224\n",
       "cuTAR276859 6.288701 7.752569  9.373774 0.0022083012 0.3462523"
      ]
     },
     "metadata": {},
     "output_type": "display_data"
    }
   ],
   "source": [
    "qlf[[2]]$table[c(6536,14410,\n",
    "6066),]"
   ]
  },
  {
   "cell_type": "code",
   "execution_count": null,
   "id": "852eabb4-976d-445e-9896-6d2b4c2dd85b",
   "metadata": {},
   "outputs": [],
   "source": []
  },
  {
   "cell_type": "code",
   "execution_count": 229,
   "id": "4cf06202-e943-4f6f-b091-f495baa1120f",
   "metadata": {},
   "outputs": [
    {
     "data": {
      "text/html": [],
      "text/latex": [],
      "text/markdown": [],
      "text/plain": [
       "integer(0)"
      ]
     },
     "metadata": {},
     "output_type": "display_data"
    }
   ],
   "source": [
    "grep(\"cuTAR6939\",topMarkers)"
   ]
  },
  {
   "cell_type": "code",
   "execution_count": 17,
   "id": "3980ed7c-12a4-4781-94dd-9bbb129c04cf",
   "metadata": {},
   "outputs": [
    {
     "ename": "ERROR",
     "evalue": "Error: object 'cluster' not found\n",
     "output_type": "error",
     "traceback": [
      "Error: object 'cluster' not found\nTraceback:\n",
      "1. .handleSimpleError(function (cnd) \n . {\n .     watcher$capture_plot_and_output()\n .     cnd <- sanitize_call(cnd)\n .     watcher$push(cnd)\n .     switch(on_error, continue = invokeRestart(\"eval_continue\"), \n .         stop = invokeRestart(\"eval_stop\"), error = invokeRestart(\"eval_error\", \n .             cnd))\n . }, \"object 'cluster' not found\", base::quote(eval(expr, envir)))"
     ]
    }
   ],
   "source": [
    "lcpm<-cpm(y,log=TRUE) \n",
    "annot<-data.frame(cluster=cluster) \n",
    "rownames(annot)<-colnames(y) \n",
    "ann_colors<-list(cluster=0:5) \n",
    "names(ann_colors$cluster)<-levels(cluster)"
   ]
  },
  {
   "cell_type": "code",
   "execution_count": 11,
   "id": "ba517bde-3afd-4f15-af61-33997dfcf892",
   "metadata": {},
   "outputs": [
    {
     "data": {
      "text/html": [
       "<style>\n",
       ".list-inline {list-style: none; margin:0; padding: 0}\n",
       ".list-inline>li {display: inline-block}\n",
       ".list-inline>li:not(:last-child)::after {content: \"\\00b7\"; padding: 0 .5ex}\n",
       "</style>\n",
       "<ol class=list-inline><li>'A_clusterControl'</li><li>'B_clusterControl'</li><li>'C_clusterTreatment'</li><li>'D_clusterTreatment'</li></ol>\n"
      ],
      "text/latex": [
       "\\begin{enumerate*}\n",
       "\\item 'A\\_clusterControl'\n",
       "\\item 'B\\_clusterControl'\n",
       "\\item 'C\\_clusterTreatment'\n",
       "\\item 'D\\_clusterTreatment'\n",
       "\\end{enumerate*}\n"
      ],
      "text/markdown": [
       "1. 'A_clusterControl'\n",
       "2. 'B_clusterControl'\n",
       "3. 'C_clusterTreatment'\n",
       "4. 'D_clusterTreatment'\n",
       "\n",
       "\n"
      ],
      "text/plain": [
       "[1] \"A_clusterControl\"   \"B_clusterControl\"   \"C_clusterTreatment\"\n",
       "[4] \"D_clusterTreatment\""
      ]
     },
     "metadata": {},
     "output_type": "display_data"
    }
   ],
   "source": [
    "colnames(lcpm)"
   ]
  },
  {
   "cell_type": "code",
   "execution_count": 222,
   "id": "cfd1e78b-23af-45e8-9bfb-0df6fb3dcb0d",
   "metadata": {},
   "outputs": [
    {
     "data": {
      "text/html": [
       "<strong>pdf:</strong> 3"
      ],
      "text/latex": [
       "\\textbf{pdf:} 3"
      ],
      "text/markdown": [
       "**pdf:** 3"
      ],
      "text/plain": [
       "pdf \n",
       "  3 "
      ]
     },
     "metadata": {},
     "output_type": "display_data"
    },
    {
     "data": {
      "image/png": "[encoded data removed]",
      "text/plain": [
       "plot without title"
      ]
     },
     "metadata": {
      "image/png": {
       "height": 360,
       "width": 360
      }
     },
     "output_type": "display_data"
    }
   ],
   "source": [
    "heatmap_data2 <- lcpm[c(topMarkers,\"cuTAR78711\",\"cuTAR276859\",\"cuTAR290541\"), ]\n",
    "\n",
    "# Create a column annotation (for KM1 and KM2)\n",
    "annotation_col <- data.frame(\n",
    "  Group = rep(c(\"Control\", \"Treatment\"), each = 2)  # Adjust according to your number of columns per group\n",
    ")\n",
    "\n",
    "# Set rownames of the annotation to match column names in the heatmap\n",
    "rownames(annotation_col) <- colnames(heatmap_data2)\n",
    "\n",
    "\n",
    "options(repr.plot.width = 6, repr.plot.height = 6)\n",
    "\n",
    "pdf(\"control_vs_drug_brain.pdf\",width=6, height=6)\n",
    "p<-pheatmap::pheatmap(\n",
    "  heatmap_data2,\n",
    "  breaks = seq(-2, 2, length.out = 101),\n",
    "  color = colorRampPalette(c(\"blue\", \"white\", \"red\"))(100),\n",
    "  scale = \"row\",\n",
    "  cluster_cols = FALSE,\n",
    "  border_color = \"NA\",\n",
    "  fontsize_row = 8,\n",
    "  show_colnames = FALSE,\n",
    "  annotation_col = annotation_col,  # Adding the annotation column here\n",
    "  annotation_colors = list(Group = c(\"Control\" = \"blue\", \"Treatment\" = \"red\"))  # Customize colors for annotation\n",
    ")\n",
    "\n",
    "dev.off()\n",
    "\n",
    "p"
   ]
  },
  {
   "cell_type": "code",
   "execution_count": 19,
   "id": "d2976cc6-6623-4997-ab2f-b265f5bc6612",
   "metadata": {},
   "outputs": [
    {
     "data": {
      "text/html": [
       "<strong>pdf:</strong> 2"
      ],
      "text/latex": [
       "\\textbf{pdf:} 2"
      ],
      "text/markdown": [
       "**pdf:** 2"
      ],
      "text/plain": [
       "pdf \n",
       "  2 "
      ]
     },
     "metadata": {},
     "output_type": "display_data"
    },
    {
     "data": {
      "image/png": "[encoded data removed]",
      "text/plain": [
       "plot without title"
      ]
     },
     "metadata": {
      "image/png": {
       "height": 360,
       "width": 360
      }
     },
     "output_type": "display_data"
    }
   ],
   "source": [
    "heatmap_data2 <- lcpm[c(topMarkers,\"cuTAR78711\",\"cuTAR276859\",\"cuTAR290541\"), ]\n",
    "\n",
    "# Create a column annotation (for KM1 and KM2)\n",
    "annotation_col <- data.frame(\n",
    "  Group = rep(c(\"Control\", \"Treatment\"), each = 2)  # Adjust according to your number of columns per group\n",
    ")\n",
    "\n",
    "# Set rownames of the annotation to match column names in the heatmap\n",
    "rownames(annotation_col) <- colnames(heatmap_data2)\n",
    "\n",
    "\n",
    "options(repr.plot.width = 6, repr.plot.height = 6)\n",
    "\n",
    "p<-pheatmap::pheatmap(\n",
    "  heatmap_data2,\n",
    "  breaks = seq(-2, 2, length.out = 101),\n",
    "  color = colorRampPalette(c(\"blue\", \"white\", \"red\"))(100),\n",
    "  scale = \"row\",\n",
    "  cluster_cols = FALSE,\n",
    "  border_color = \"NA\",\n",
    "  fontsize_row = 8,\n",
    "  show_colnames = FALSE,\n",
    "  annotation_col = annotation_col,  # Adding the annotation column here\n",
    "  annotation_colors = list(Group = c(\"Control\" = \"blue\", \"Treatment\" = \"red\"))  # Customize colors for annotation\n",
    ")\n",
    "pdf(\"control_vs_drug_brain.pdf\",width=6, height=6)\n",
    "p\n",
    "dev.off()\n",
    "\n"
   ]
  },
  {
   "cell_type": "code",
   "execution_count": 20,
   "id": "bbbb6afb-05bf-4274-9af7-969a30af29b1",
   "metadata": {},
   "outputs": [
    {
     "data": {
      "text/html": [
       "<style>\n",
       ".list-inline {list-style: none; margin:0; padding: 0}\n",
       ".list-inline>li {display: inline-block}\n",
       ".list-inline>li:not(:last-child)::after {content: \"\\00b7\"; padding: 0 .5ex}\n",
       "</style>\n",
       "<ol class=list-inline><li>'A_clusterControl'</li><li>'B_clusterControl'</li><li>'C_clusterTreatment'</li><li>'D_clusterTreatment'</li></ol>\n"
      ],
      "text/latex": [
       "\\begin{enumerate*}\n",
       "\\item 'A\\_clusterControl'\n",
       "\\item 'B\\_clusterControl'\n",
       "\\item 'C\\_clusterTreatment'\n",
       "\\item 'D\\_clusterTreatment'\n",
       "\\end{enumerate*}\n"
      ],
      "text/markdown": [
       "1. 'A_clusterControl'\n",
       "2. 'B_clusterControl'\n",
       "3. 'C_clusterTreatment'\n",
       "4. 'D_clusterTreatment'\n",
       "\n",
       "\n"
      ],
      "text/plain": [
       "[1] \"A_clusterControl\"   \"B_clusterControl\"   \"C_clusterTreatment\"\n",
       "[4] \"D_clusterTreatment\""
      ]
     },
     "metadata": {},
     "output_type": "display_data"
    }
   ],
   "source": [
    "colnames(lcpm)"
   ]
  },
  {
   "cell_type": "code",
   "execution_count": 233,
   "id": "e70ea433-3fb7-4533-9b06-4a3eac8c78ab",
   "metadata": {},
   "outputs": [
    {
     "data": {
      "text/html": [
       "<style>\n",
       ".list-inline {list-style: none; margin:0; padding: 0}\n",
       ".list-inline>li {display: inline-block}\n",
       ".list-inline>li:not(:last-child)::after {content: \"\\00b7\"; padding: 0 .5ex}\n",
       "</style>\n",
       "<ol class=list-inline><li>'cuTAR100896'</li><li>'cuTAR229141'</li><li>'cuTAR127634'</li><li>'cuTAR112268'</li><li>'cuTAR65629'</li><li>'cuTAR354462'</li><li>'cuTAR68010'</li><li>'cuTAR354794'</li><li>'cuTAR36694'</li><li>'cuTAR173210'</li><li>'cuTAR23283'</li><li>'cuTAR106737'</li><li>'cuTAR5170'</li><li>'cuTAR65312'</li><li>'cuTAR314024'</li><li>'cuTAR238221'</li><li>'cuTAR214581'</li><li>'cuTAR318936'</li><li>'cuTAR158626'</li><li>'cuTAR318937'</li><li>'cuTAR276611'</li><li>'cuTAR318938'</li><li>'cuTAR241963'</li><li>'cuTAR260177'</li><li>'cuTAR48676'</li><li>'cuTAR87821'</li><li>'cuTAR243709'</li><li>'cuTAR311641'</li><li>'cuTAR2960'</li><li>'cuTAR297820'</li><li>'cuTAR45781'</li><li>'cuTAR247818'</li><li>'cuTAR159760'</li><li>'cuTAR308813'</li><li>'cuTAR37674'</li><li>'cuTAR271872'</li><li>'cuTAR132093'</li><li>'cuTAR290540'</li><li>'cuTAR34354'</li><li>'cuTAR87485'</li><li>'cuTAR145492'</li><li>'cuTAR57116'</li><li>'cuTAR87491'</li></ol>\n"
      ],
      "text/latex": [
       "\\begin{enumerate*}\n",
       "\\item 'cuTAR100896'\n",
       "\\item 'cuTAR229141'\n",
       "\\item 'cuTAR127634'\n",
       "\\item 'cuTAR112268'\n",
       "\\item 'cuTAR65629'\n",
       "\\item 'cuTAR354462'\n",
       "\\item 'cuTAR68010'\n",
       "\\item 'cuTAR354794'\n",
       "\\item 'cuTAR36694'\n",
       "\\item 'cuTAR173210'\n",
       "\\item 'cuTAR23283'\n",
       "\\item 'cuTAR106737'\n",
       "\\item 'cuTAR5170'\n",
       "\\item 'cuTAR65312'\n",
       "\\item 'cuTAR314024'\n",
       "\\item 'cuTAR238221'\n",
       "\\item 'cuTAR214581'\n",
       "\\item 'cuTAR318936'\n",
       "\\item 'cuTAR158626'\n",
       "\\item 'cuTAR318937'\n",
       "\\item 'cuTAR276611'\n",
       "\\item 'cuTAR318938'\n",
       "\\item 'cuTAR241963'\n",
       "\\item 'cuTAR260177'\n",
       "\\item 'cuTAR48676'\n",
       "\\item 'cuTAR87821'\n",
       "\\item 'cuTAR243709'\n",
       "\\item 'cuTAR311641'\n",
       "\\item 'cuTAR2960'\n",
       "\\item 'cuTAR297820'\n",
       "\\item 'cuTAR45781'\n",
       "\\item 'cuTAR247818'\n",
       "\\item 'cuTAR159760'\n",
       "\\item 'cuTAR308813'\n",
       "\\item 'cuTAR37674'\n",
       "\\item 'cuTAR271872'\n",
       "\\item 'cuTAR132093'\n",
       "\\item 'cuTAR290540'\n",
       "\\item 'cuTAR34354'\n",
       "\\item 'cuTAR87485'\n",
       "\\item 'cuTAR145492'\n",
       "\\item 'cuTAR57116'\n",
       "\\item 'cuTAR87491'\n",
       "\\end{enumerate*}\n"
      ],
      "text/markdown": [
       "1. 'cuTAR100896'\n",
       "2. 'cuTAR229141'\n",
       "3. 'cuTAR127634'\n",
       "4. 'cuTAR112268'\n",
       "5. 'cuTAR65629'\n",
       "6. 'cuTAR354462'\n",
       "7. 'cuTAR68010'\n",
       "8. 'cuTAR354794'\n",
       "9. 'cuTAR36694'\n",
       "10. 'cuTAR173210'\n",
       "11. 'cuTAR23283'\n",
       "12. 'cuTAR106737'\n",
       "13. 'cuTAR5170'\n",
       "14. 'cuTAR65312'\n",
       "15. 'cuTAR314024'\n",
       "16. 'cuTAR238221'\n",
       "17. 'cuTAR214581'\n",
       "18. 'cuTAR318936'\n",
       "19. 'cuTAR158626'\n",
       "20. 'cuTAR318937'\n",
       "21. 'cuTAR276611'\n",
       "22. 'cuTAR318938'\n",
       "23. 'cuTAR241963'\n",
       "24. 'cuTAR260177'\n",
       "25. 'cuTAR48676'\n",
       "26. 'cuTAR87821'\n",
       "27. 'cuTAR243709'\n",
       "28. 'cuTAR311641'\n",
       "29. 'cuTAR2960'\n",
       "30. 'cuTAR297820'\n",
       "31. 'cuTAR45781'\n",
       "32. 'cuTAR247818'\n",
       "33. 'cuTAR159760'\n",
       "34. 'cuTAR308813'\n",
       "35. 'cuTAR37674'\n",
       "36. 'cuTAR271872'\n",
       "37. 'cuTAR132093'\n",
       "38. 'cuTAR290540'\n",
       "39. 'cuTAR34354'\n",
       "40. 'cuTAR87485'\n",
       "41. 'cuTAR145492'\n",
       "42. 'cuTAR57116'\n",
       "43. 'cuTAR87491'\n",
       "\n",
       "\n"
      ],
      "text/plain": [
       " [1] \"cuTAR100896\" \"cuTAR229141\" \"cuTAR127634\" \"cuTAR112268\" \"cuTAR65629\" \n",
       " [6] \"cuTAR354462\" \"cuTAR68010\"  \"cuTAR354794\" \"cuTAR36694\"  \"cuTAR173210\"\n",
       "[11] \"cuTAR23283\"  \"cuTAR106737\" \"cuTAR5170\"   \"cuTAR65312\"  \"cuTAR314024\"\n",
       "[16] \"cuTAR238221\" \"cuTAR214581\" \"cuTAR318936\" \"cuTAR158626\" \"cuTAR318937\"\n",
       "[21] \"cuTAR276611\" \"cuTAR318938\" \"cuTAR241963\" \"cuTAR260177\" \"cuTAR48676\" \n",
       "[26] \"cuTAR87821\"  \"cuTAR243709\" \"cuTAR311641\" \"cuTAR2960\"   \"cuTAR297820\"\n",
       "[31] \"cuTAR45781\"  \"cuTAR247818\" \"cuTAR159760\" \"cuTAR308813\" \"cuTAR37674\" \n",
       "[36] \"cuTAR271872\" \"cuTAR132093\" \"cuTAR290540\" \"cuTAR34354\"  \"cuTAR87485\" \n",
       "[41] \"cuTAR145492\" \"cuTAR57116\"  \"cuTAR87491\" "
      ]
     },
     "metadata": {},
     "output_type": "display_data"
    }
   ],
   "source": [
    "topMarkers"
   ]
  },
  {
   "cell_type": "code",
   "execution_count": 230,
   "id": "1d31e2f8-55a1-4155-bf80-0d9aebc7b1df",
   "metadata": {},
   "outputs": [
    {
     "data": {
      "image/png": "[encoded data removed]",
      "text/plain": [
       "plot without title"
      ]
     },
     "metadata": {
      "image/png": {
       "height": 360,
       "width": 360
      }
     },
     "output_type": "display_data"
    }
   ],
   "source": [
    "genes_of_interest <- c(\"cuTAR290541\", \"cuTAR78711\", \"cuTAR276859\")\n",
    "VlnPlot(so_old2, features=genes_of_interest, group.by=\"treatment\")"
   ]
  },
  {
   "cell_type": "code",
   "execution_count": 232,
   "id": "457ad320-1eb8-46a6-af81-127f8757f758",
   "metadata": {},
   "outputs": [
    {
     "name": "stdout",
     "output_type": "stream",
     "text": [
      "cuTAR290541: FDR = 0.0000\n",
      "cuTAR78711: FDR = 0.0000\n",
      "cuTAR276859: FDR = 0.0004\n",
      "P-values:\n",
      "cuTAR290541: p = 0.0000\n",
      "cuTAR78711: p = 0.0000\n",
      "cuTAR276859: p = 0.0004\n"
     ]
    }
   ],
   "source": [
    "library(Seurat)\n",
    "library(ggplot2)\n",
    "library(ggpubr)\n",
    "library(dplyr)\n",
    "\n",
    "# Define genes of interest\n",
    "genes_of_interest <- c(\"cuTAR290541\", \"cuTAR78711\", \"cuTAR276859\")\n",
    "\n",
    "# Extract expression data and metadata\n",
    "expr_data <- GetAssayData(so_old2, slot=\"data\")[genes_of_interest, , drop=FALSE]\n",
    "meta_data <- so_old2@meta.data\n",
    "\n",
    "# Prepare data frame for plotting\n",
    "plot_data <- as.data.frame(t(as.matrix(expr_data)))\n",
    "plot_data$Treatment <- meta_data$treatment\n",
    "plot_data <- plot_data %>% \n",
    "  tidyr::pivot_longer(cols=genes_of_interest, names_to=\"Gene\", values_to=\"Expression\")\n",
    "\n",
    "# Calculate p-values (Wilcoxon test)\n",
    "pvals <- lapply(genes_of_interest, function(gene) {\n",
    "  wilcox.test(\n",
    "    expr_data[gene, meta_data$treatment == \"Control\"],\n",
    "    expr_data[gene, meta_data$treatment == \"Treatment\"],\n",
    "    paired=FALSE\n",
    "  )$p.value\n",
    "})\n",
    "names(pvals) <- genes_of_interest\n",
    "\n",
    "# Create violin plots with p-values\n",
    "p <- ggplot(plot_data, aes(x=Treatment, y=Expression, fill=Treatment)) +\n",
    "  geom_violin(trim=TRUE) +\n",
    "  scale_fill_manual(values=c(\"Control\"=\"blue\", \"Treatment\"=\"red\")) +\n",
    "  facet_wrap(~Gene, scales=\"free_y\", ncol=3) +\n",
    "  theme_minimal() +\n",
    "  theme(\n",
    "    strip.text = element_text(size=12),\n",
    "    axis.title = element_text(size=12),\n",
    "    axis.text = element_text(size=10),\n",
    "    legend.position=\"top\"\n",
    "  ) +\n",
    "  ylab(\"Expression (log-normalized)\") +\n",
    "  xlab(\"Treatment\")\n",
    "\n",
    "pvals_adjusted <- p.adjust(pvals, method=\"BH\")\n",
    "for (gene in genes_of_interest) {\n",
    "  cat(sprintf(\"%s: FDR = %.4f\\n\", gene, pvals_adjusted[[gene]]))\n",
    "}\n",
    "\n",
    "# Add p-value annotations\n",
    "for (i in seq_along(genes_of_interest)) {\n",
    "  gene <- genes_of_interest[i]\n",
    "  pval <- pvals[[gene]]\n",
    "  p <- p + annotate(\n",
    "    \"text\",\n",
    "    x=1.5,\n",
    "    y=max(plot_data$Expression[plot_data$Gene == gene]) * 1.1,\n",
    "    label=sprintf(\"p = %.4f\", pval),\n",
    "    size=4\n",
    "  )\n",
    "}\n",
    "\n",
    "# Save plot\n",
    "ggsave(\"Violin_Plot_with_Pvalues.pdf\", plot=p, width=12, height=4)\n",
    "\n",
    "# Print p-values for reference\n",
    "cat(\"P-values:\\n\")\n",
    "for (gene in genes_of_interest) {\n",
    "  cat(sprintf(\"%s: p = %.4f\\n\", gene, pvals[[gene]]))\n",
    "}"
   ]
  },
  {
   "cell_type": "code",
   "execution_count": null,
   "id": "3cf87b13-d57d-4da9-b386-b5e11cc4a852",
   "metadata": {},
   "outputs": [],
   "source": []
  }
 ],
 "metadata": {
  "kernelspec": {
   "display_name": "R_edgeR",
   "language": "R",
   "name": "r_edger"
  },
  "language_info": {
   "codemirror_mode": "r",
   "file_extension": ".r",
   "mimetype": "text/x-r-source",
   "name": "R",
   "pygments_lexer": "r",
   "version": "4.4.0"
  }
 },
 "nbformat": 4,
 "nbformat_minor": 5
}
